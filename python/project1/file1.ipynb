{
 "cells": [
  {
   "cell_type": "code",
   "execution_count": 64,
   "metadata": {},
   "outputs": [
    {
     "name": "stdout",
     "output_type": "stream",
     "text": [
      "3A+2B =  [[ 2  5 -3]\n",
      " [-6  7 -8]]\n",
      "3A-2B =  [[ 10   1  -3]\n",
      " [  6  -1 -16]]\n",
      "At.A =  [[ 4  2 -2]\n",
      " [ 2  2 -5]\n",
      " [-2 -5 17]]\n",
      "A.At =  [[ 6  5]\n",
      " [ 5 17]]\n"
     ]
    }
   ],
   "source": [
    "import numpy as np\n",
    "A=np.array([[2,1,-1],    [0,1,-4]])\n",
    "B=np.array([[-2,1,0],    [-3,2,2]])\n",
    "print(\"3A+2B = \", 3*A+2*B)\n",
    "print(\"3A-2B = \", 3*A-2*B)\n",
    "print(\"At.A = \", A.T @ A)\n",
    "print(\"A.At = \",A @ A.T)"
   ]
  },
  {
   "cell_type": "code",
   "execution_count": 65,
   "metadata": {},
   "outputs": [
    {
     "name": "stdout",
     "output_type": "stream",
     "text": [
      "A+B =  [[5 1 6]\n",
      " [2 8 9]]\n",
      "A-B =  [[ 3 -1  4]\n",
      " [-4 -2 -5]]\n",
      "2A =  [[ 8  0 10]\n",
      " [-2  6  4]]\n",
      "-3B =  [[ -3  -3  -3]\n",
      " [ -9 -15 -21]]\n",
      "2A-3B =  [[  5  -3   7]\n",
      " [-11  -9 -17]]\n",
      "At.C =  [[  8 -13]\n",
      " [  0   3]\n",
      " [ 10 -13]]\n",
      "C.A+B =  [[12 -8  5]\n",
      " [ 2  8  9]]\n",
      "(C.A)t-2Bt =  [[  9  -7]\n",
      " [-11  -7]\n",
      " [  2 -12]]\n"
     ]
    }
   ],
   "source": [
    "A=np.array([[4,0,5],[-1,3,2]])\n",
    "B=np.array([[1,1,1],[3,5,7]])\n",
    "C=np.array([[2,-3],[0,1]])\n",
    "print(\"A+B = \", A + B)\n",
    "print(\"A-B = \", A-B)\n",
    "print(\"2A = \", 2*A)\n",
    "print(\"-3B = \", -3*B)\n",
    "print(\"2A-3B = \", 2*A - 3*B)\n",
    "print(\"At.C = \", A.T@C)\n",
    "print(\"C.A+B = \", C@A+B)\n",
    "print(\"(C.A)t-2Bt = \", (C@A).T - 2*B.T)"
   ]
  },
  {
   "cell_type": "code",
   "execution_count": 66,
   "metadata": {},
   "outputs": [
    {
     "name": "stdout",
     "output_type": "stream",
     "text": [
      "a =  [[ 1  5 -5]\n",
      " [ 3 10  0]\n",
      " [ 2  9 -7]]\n",
      "b =  [[56]\n",
      " [69]\n",
      " [17]]\n",
      "d =  [[ 6  2 -1]\n",
      " [ 6  1  1]\n",
      " [ 8 -1  4]]\n",
      "e =  [[ 1  9 15]\n",
      " [-5  5  9]\n",
      " [12 26 32]]\n"
     ]
    }
   ],
   "source": [
    "print(\"a = \", np.array([[1,-3,2],[3,-4,1],[2,-5,3]])\n",
    "      @np.array([[2,5,6],[1,2,5],[1,3,2]]))\n",
    "print(\"b = \", np.array([[5,0,2,3],[4,1,5,3],[3,1,-1,2]])\n",
    "      @np.array([[6],[-2],[7],[4]]))\n",
    "print(\"d = \", np.array([[3,1,1],[2,1,2],[1,2,3]])\n",
    "      @np.array([[1,1,-1],[2,-1,1],[1,0,1]]))\n",
    "print(\"e = \", np.array([[1,2,1],[0,1,2],[3,1,1]])\n",
    "      @np.array([[2,3,1],[-1,1,0],[1,2,-1]])\n",
    "      @np.array([[1,2,1],[0,1,2],[3,1,1]]))\n"
   ]
  },
  {
   "cell_type": "code",
   "execution_count": 67,
   "metadata": {},
   "outputs": [
    {
     "name": "stdout",
     "output_type": "stream",
     "text": [
      "A^2 =  [[0 0 1]\n",
      " [0 0 0]\n",
      " [0 0 0]]\n",
      "A^3 =  [[0 0 0]\n",
      " [0 0 0]\n",
      " [0 0 0]]\n",
      "B^2 =  [[4 5 6]\n",
      " [6 3 4]\n",
      " [6 8 6]]\n",
      "C^3 =  [[15 20]\n",
      " [20 35]]\n",
      "D = [[1,n]\n",
      "[0,1]]\n"
     ]
    }
   ],
   "source": [
    "A = np.array([[0,1,0],[0,0,1],[0,0,0]])\n",
    "print(\"A^2 = \", A@A)\n",
    "print(\"A^3 = \", A@A@A)\n",
    "B = np.array([[1,2,1],[0,1,2],[3,1,1]])\n",
    "print(\"B^2 = \", B@B)\n",
    "C = np.array([[2,1],[1,3]])\n",
    "print(\"C^3 = \", C@C@C)\n",
    "print(\"D = [[1,n]\\n\"\n",
    "      \"[0,1]]\")"
   ]
  },
  {
   "cell_type": "code",
   "execution_count": 68,
   "metadata": {},
   "outputs": [
    {
     "name": "stdout",
     "output_type": "stream",
     "text": [
      "a) =  [[ 4 -8]\n",
      " [12 -4]]\n",
      "c) =  [[0 0 0]\n",
      " [0 0 0]\n",
      " [0 0 0]]\n"
     ]
    }
   ],
   "source": [
    "A=np.array([[1,2],[4,-1]])\n",
    "B=np.array([[2,-3],[-4,1]])\n",
    "print(\"a) = \", A@B - B@A)\n",
    "A=np.array([[1,1,1],[0,1,1],[0,0,1]])\n",
    "B=np.array([[7,5,3],[0,7,5],[0,0,7]])\n",
    "print(\"c) = \", A@B - B@A)"
   ]
  },
  {
   "cell_type": "code",
   "execution_count": 78,
   "metadata": {},
   "outputs": [
    {
     "name": "stdout",
     "output_type": "stream",
     "text": [
      "a) =  [[ 1.48029737e-16  2.00000000e+00 -1.00000000e+00]\n",
      " [-3.33333333e-01 -2.33333333e+00  1.66666667e+00]\n",
      " [ 3.33333333e-01 -6.66666667e-01  3.33333333e-01]]\n",
      "b) =  [[-0.27777778  0.05555556  0.38888889]\n",
      " [ 0.38888889 -0.27777778  0.05555556]\n",
      " [ 0.05555556  0.38888889 -0.27777778]]\n",
      "c) =  [[-0.25  0.25  0.25  0.25]\n",
      " [ 0.25 -0.25  0.25  0.25]\n",
      " [ 0.25  0.25 -0.25  0.25]\n",
      " [ 0.25  0.25  0.25 -0.25]]\n",
      "d) =  [[-0. -1.  1. -1.]\n",
      " [ 1.  0. -1.  1.]\n",
      " [-1.  1. -0. -1.]\n",
      " [ 1. -1.  1.  0.]]\n",
      "e=\n",
      "[[1,-1,0,0,...,0]\n",
      "[0,1,-1,0,...,0]\n",
      "[0,0,1,-1,...,0]\n",
      "...............\n",
      "[0,0,0,0,...,1]]\n"
     ]
    }
   ],
   "source": [
    "A=np.array([[1,0,3],[2,1,1],[3,2,2]])\n",
    "print(\"a) = \", np.linalg.inv(A))\n",
    "B=np.array([[1,3,2],[2,1,3],[3,2,1]])\n",
    "print(\"b) = \", np.linalg.inv(B))\n",
    "C=np.array([[-1,1,1,1],[1,-1,1,1],[1,1,-1,1],[1,1,1,-1]])\n",
    "print(\"c) = \", np.linalg.inv(C))\n",
    "D=np.array([[0,1,1,1],[-1,0,1,1],[-1,-1,0,1],[-1,-1,-1,0]])\n",
    "print(\"d) = \", np.linalg.inv(D))\n",
    "print(\"e=\\n\"\n",
    "            \"[[1,-1,0,0,...,0]\\n\"\n",
    "            \"[0,1,-1,0,...,0]\\n\"\n",
    "            \"[0,0,1,-1,...,0]\\n\"\n",
    "            \"...............\\n\"\n",
    "            \"[0,0,0,0,...,1]]\")"
   ]
  },
  {
   "cell_type": "code",
   "execution_count": null,
   "metadata": {},
   "outputs": [],
   "source": []
  }
 ],
 "metadata": {
  "kernelspec": {
   "display_name": "Python 3",
   "language": "python",
   "name": "python3"
  },
  "language_info": {
   "codemirror_mode": {
    "name": "ipython",
    "version": 3
   },
   "file_extension": ".py",
   "mimetype": "text/x-python",
   "name": "python",
   "nbconvert_exporter": "python",
   "pygments_lexer": "ipython3",
   "version": "3.11.1"
  },
  "orig_nbformat": 4
 },
 "nbformat": 4,
 "nbformat_minor": 2
}
