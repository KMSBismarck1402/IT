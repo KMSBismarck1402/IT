{
 "cells": [
  {
   "cell_type": "code",
   "execution_count": 18,
   "metadata": {},
   "outputs": [
    {
     "name": "stdout",
     "output_type": "stream",
     "text": [
      "det(a) =  10\n",
      "det(b) =  -27\n"
     ]
    }
   ],
   "source": [
    "import numpy as np\n",
    "import sympy\n",
    "A = np.array([[4,-1,3], [4,1,0], [2,-2,5]])\n",
    "print(\"det(a) = \", round(np.linalg.det(A)))\n",
    "B = np.array([[3,-1,6],[5,2,7],[8,9,4]])\n",
    "print(\"det(b) = \", round(np.linalg.det(B)))\n"
   ]
  },
  {
   "cell_type": "code",
   "execution_count": 20,
   "metadata": {},
   "outputs": [
    {
     "name": "stdout",
     "output_type": "stream",
     "text": [
      "x =  [2]\n"
     ]
    }
   ],
   "source": [
    "from sympy import symbols, solve\n",
    "x = symbols('x')\n",
    "expr=x*3*3+5*4*3+1*2*1-3*3*1-1*5*3-2*4*x-40\n",
    "print(\"x = \", solve(expr))"
   ]
  },
  {
   "cell_type": "code",
   "execution_count": 17,
   "metadata": {},
   "outputs": [
    {
     "name": "stdout",
     "output_type": "stream",
     "text": [
      "det(A) =  -15\n"
     ]
    }
   ],
   "source": [
    "A = np.array([[3,0,0,0],[5,1,2,0],[2,6,0,-1],[-6,3,1,0]])\n",
    "print(\"det(A) = \", round(np.linalg.det(A)))"
   ]
  },
  {
   "cell_type": "code",
   "execution_count": 21,
   "metadata": {},
   "outputs": [
    {
     "name": "stdout",
     "output_type": "stream",
     "text": [
      "det(A) =  99\n"
     ]
    }
   ],
   "source": [
    "A = np.array([[1,5,7,2],[2,6,8,3],[3,0,9,0],[4,0,1,0]])\n",
    "print(\"det(A) = \", round(np.linalg.det(A)))"
   ]
  },
  {
   "cell_type": "code",
   "execution_count": 24,
   "metadata": {},
   "outputs": [
    {
     "name": "stdout",
     "output_type": "stream",
     "text": [
      "[1]\n"
     ]
    }
   ],
   "source": [
    "import numpy as np \n",
    "from sympy import symbols, solve\n",
    "x = symbols('x')\n",
    "a= 1 * (3*5*3+x*3*-1+-2*4*4 -4*5*-1 - 3*4*3 -x*-2*3) \\\n",
    "    + -2* (-1*5*3  + -2*4*-1+0*3*-1 - -1*5*-1 - 3*4*-1 - 0*-2*3) \n",
    "- 3*( -1*x*3 + 4*3*-1 + 0*4*-1 - -1* -1 * x - 4*4*-1 -0*3*3) \n",
    "- 4* (-1*x*3 + 3*5*-1 + 0*4*-2--1*x*-2 - 4*5*-1 - 0*3*3 )\n",
    "\n",
    "print(solve(a))"
   ]
  },
  {
   "cell_type": "code",
   "execution_count": 44,
   "metadata": {},
   "outputs": [
    {
     "name": "stdout",
     "output_type": "stream",
     "text": [
      "[1]\n"
     ]
    }
   ],
   "source": [
    "x = symbols('x')\n",
    "a11 = (x+9)*8*4 + 8*5*6 + 9*5*6 -6*8*6 -9*8*4 -5*5*(x+9)\n",
    "a21 = 4*(8*4+8*5+6*5-8*6-5*5-8*4)\n",
    "a31 = 3*(9*4 +6*6 +5*(x+9) -9*6 -4*(x+9) -5*6)\n",
    "a41 = 2*(9*5 +6*8 +(x+9)*8 -9*8 -5*(x+9) -6*8)\n",
    "\n",
    "print(solve(a11-a21+a31-a41-4))"
   ]
  },
  {
   "cell_type": "code",
   "execution_count": 13,
   "metadata": {},
   "outputs": [
    {
     "name": "stdout",
     "output_type": "stream",
     "text": [
      "C^2 =  4\n"
     ]
    }
   ],
   "source": [
    "A = np.array([[1,0,1,0],[0,1,0,1]])\n",
    "B = np.array([[1,0],[0,1],[1,2],[1,1]])\n",
    "C = A@B\n",
    "print(\"C^2 = \", round(np.linalg.det(C@C)))"
   ]
  },
  {
   "cell_type": "code",
   "execution_count": 15,
   "metadata": {},
   "outputs": [
    {
     "name": "stdout",
     "output_type": "stream",
     "text": [
      "2D =  0.0\n"
     ]
    }
   ],
   "source": [
    "A = np.array([[1,0,1,0],[0,1,0,1]])\n",
    "B = np.array([[1,0],[0,1],[1,2],[1,1]])\n",
    "D = B@A\n",
    "print(\"2D = \", np.linalg.det(D*2))"
   ]
  },
  {
   "cell_type": "code",
   "execution_count": 45,
   "metadata": {},
   "outputs": [
    {
     "name": "stdout",
     "output_type": "stream",
     "text": [
      "[1]\n"
     ]
    }
   ],
   "source": [
    "import numpy as np\n",
    "from sympy import symbols, solve\n",
    "\n",
    "x = symbols('x')\n",
    "\n",
    "#Matrix A11\n",
    "A11 = 10*5*4 + 4*5*8 + (x + 11)*7*3 - 8*10*3 - 5*7*5 - (x + 11)*4*4\n",
    "#Matrix A21    \n",
    "A21 = 4*(10*4 + 4*5 + 7*3 - 10*3 - 4*4 - 5*7)\n",
    "#Matrix A31\n",
    "A31 = 3*((x + 11)*4 + 5*5 + 8*3 - (x + 11)*3 - 5*4 -8*5)\n",
    "#Matrix A41         \n",
    "A41 = 2*((x + 11)*7 + 50 + 8*4 - 4*(x + 11) - 80 - 5*7)\n",
    " \n",
    "print(solve(A11 - A21 + A31 - A41 - 2))"
   ]
  },
  {
   "cell_type": "code",
   "execution_count": 46,
   "metadata": {},
   "outputs": [
    {
     "name": "stdout",
     "output_type": "stream",
     "text": [
      "det(A(3x3))= 3; det(At) = det(A); det(A*B) = det(A)*det(B);\n",
      "det(kA) = (k^n)det(A) (k: scalar, n:matrix dimension) =>\n",
      "det(At.A = det(A)*det(At) = 3*3 = 9)\n",
      "det(A^3) = det(A*A*A) = det(A)*det(A)*det(A) = 3*3*3 = 27\n",
      "det(3A(3x3)) = (k^n)det(A) = (3^3)*3 = 81\n"
     ]
    }
   ],
   "source": [
    "print(\"det(A(3x3))= 3; det(At) = det(A); det(A*B) = det(A)*det(B);\\n\"\n",
    "      \"det(kA) = (k^n)det(A) (k: scalar, n:matrix dimension) =>\\n\"\n",
    "      \"det(At.A = det(A)*det(At) = 3*3 = 9)\\n\"\n",
    "      \"det(A^3) = det(A*A*A) = det(A)*det(A)*det(A) = 3*3*3 = 27\\n\"\n",
    "      \"det(3A(3x3)) = (k^n)det(A) = (3^3)*3 = 81\")"
   ]
  },
  {
   "cell_type": "code",
   "execution_count": 42,
   "metadata": {},
   "outputs": [
    {
     "name": "stdout",
     "output_type": "stream",
     "text": [
      "det(A) =  24\n",
      "det(A.At =  576\n",
      "det(A^-1) =  0.04167\n"
     ]
    }
   ],
   "source": [
    "A=np.array([[1,2,0,0],[2,1,0,0],[0,0,1,3],[0,0,3,1]])\n",
    "print(\"det(A) = \", round(np.linalg.det(A)))\n",
    "print(\"det(A.At = \", round(np.linalg.det(A@A.T)))\n",
    "print(\"det(A^-1) = \", round(np.linalg.det(np.linalg.inv(A)),5))"
   ]
  },
  {
   "cell_type": "code",
   "execution_count": 25,
   "metadata": {},
   "outputs": [
    {
     "name": "stdout",
     "output_type": "stream",
     "text": [
      "[11]\n"
     ]
    }
   ],
   "source": [
    "a=(1*(1*7-2*x)-1*(3*7-2*4)+1*(3*x-4*1))-1\n",
    "print(solve(a))"
   ]
  },
  {
   "cell_type": "code",
   "execution_count": 26,
   "metadata": {},
   "outputs": [
    {
     "name": "stdout",
     "output_type": "stream",
     "text": [
      "ABA =  [[11 46]\n",
      " [ 5 21]]\n"
     ]
    }
   ],
   "source": [
    "A=np.array([[2,9],[1,4]])\n",
    "B=np.array([[1,-1],[0,1]])\n",
    "print(\"ABA = \", A@B@A)"
   ]
  },
  {
   "cell_type": "code",
   "execution_count": 33,
   "metadata": {},
   "outputs": [
    {
     "name": "stdout",
     "output_type": "stream",
     "text": [
      "[-1/2, 1]\n"
     ]
    }
   ],
   "source": [
    "a=(1*(1*1-x*x)-x*(x*1-x*x)+x*(x*x-x*1))\n",
    "print(solve(a))"
   ]
  },
  {
   "cell_type": "code",
   "execution_count": 35,
   "metadata": {},
   "outputs": [
    {
     "name": "stdout",
     "output_type": "stream",
     "text": [
      "det(A) =  12.0\n"
     ]
    }
   ],
   "source": [
    "A=np.array([[1,2,4,8],[1,3,9,27],[1,4,16,64],[1,5,25,125]])\n",
    "print(\"det(A) = \", np.linalg.det(A))"
   ]
  },
  {
   "cell_type": "code",
   "execution_count": 36,
   "metadata": {},
   "outputs": [
    {
     "name": "stdout",
     "output_type": "stream",
     "text": [
      "[5]\n"
     ]
    }
   ],
   "source": [
    "a=(1*(7*(4*7-5*x)-1*(6*7-5*8)+2*(6*x-4*8))\n",
    "   -2*(3*(4*7-5*x)-1*(3*7-5*4)+2*(3*x-4*4))\n",
    "   +1*(3*(6*7-5*8)-7*(3*7-5*4)+2*(3*8-6*4))\n",
    "   -1*(3*(6*x-4*8)-7*(3*x-4*4)+1*(3*8-6*4)))-1\n",
    "print(solve(a))"
   ]
  }
 ],
 "metadata": {
  "kernelspec": {
   "display_name": "Python 3",
   "language": "python",
   "name": "python3"
  },
  "language_info": {
   "codemirror_mode": {
    "name": "ipython",
    "version": 3
   },
   "file_extension": ".py",
   "mimetype": "text/x-python",
   "name": "python",
   "nbconvert_exporter": "python",
   "pygments_lexer": "ipython3",
   "version": "3.11.1"
  },
  "orig_nbformat": 4
 },
 "nbformat": 4,
 "nbformat_minor": 2
}
