{
  "cells": [
    {
      "cell_type": "markdown",
      "metadata": {
        "colab_type": "text",
        "id": "view-in-github"
      },
      "source": [
        "<a href=\"https://colab.research.google.com/github/KMSBismarck1402/IT/blob/main/python/GoogleColab/CNN_GoogleColab.ipynb\" target=\"_parent\"><img src=\"https://colab.research.google.com/assets/colab-badge.svg\" alt=\"Open In Colab\"/></a>"
      ]
    },
    {
      "cell_type": "code",
      "execution_count": 1,
      "metadata": {
        "id": "v6omOrIw503W"
      },
      "outputs": [],
      "source": [
        "#https://www.studocu.com/vn/document/hoc-vien-ngan-hang/hoc-vien-ngan-hang/chuong-6-huong-dan-thuc-hanh-nhan-dien-anh-cnn/27469997\n",
        "import tensorflow as tf\n",
        "from tensorflow import keras\n",
        "from keras.preprocessing.image import ImageDataGenerator\n",
        "import matplotlib.pyplot as plt\n",
        "import numpy as np\n",
        "import csv"
      ]
    },
    {
      "cell_type": "code",
      "execution_count": 2,
      "metadata": {
        "id": "88BVVllR61pS"
      },
      "outputs": [],
      "source": [
        "from traitlets.traitlets import validate\n",
        "import os\n",
        "train_image_files_path = 'train'\n",
        "valid_image_files_path = 'valid'"
      ]
    },
    {
      "cell_type": "code",
      "execution_count": 3,
      "metadata": {
        "id": "B3FzNgp27nN5"
      },
      "outputs": [],
      "source": [
        "label =['apple', 'banana']"
      ]
    },
    {
      "cell_type": "code",
      "execution_count": 4,
      "metadata": {
        "colab": {
          "base_uri": "https://localhost:8080/"
        },
        "id": "AjE7ovWd7r2C",
        "outputId": "d38b940d-5dfa-423a-ebb3-30fedf28f53f"
      },
      "outputs": [
        {
          "name": "stdout",
          "output_type": "stream",
          "text": [
            "Found 143 images belonging to 2 classes.\n",
            "Found 19 images belonging to 2 classes.\n"
          ]
        }
      ],
      "source": [
        "\n",
        "\n",
        "train_data_gen = ImageDataGenerator(rescale = 1/255)\n",
        "valid_data_gen = ImageDataGenerator(rescale = 1/255)\n",
        "train_generator = train_data_gen.flow_from_directory(\n",
        "    train_image_files_path,\n",
        "    target_size = (50,50),\n",
        "    class_mode = 'categorical'\n",
        ")\n",
        "valid_generator = train_data_gen.flow_from_directory(\n",
        "    valid_image_files_path,\n",
        "    target_size = (50,50),\n",
        "    class_mode = 'categorical'\n",
        ")"
      ]
    },
    {
      "cell_type": "code",
      "execution_count": 5,
      "metadata": {
        "id": "p45V1dbfcCJB"
      },
      "outputs": [],
      "source": [
        "from keras.models import Sequential\n",
        "from keras.layers import Dense, Dropout, Conv2D, MaxPooling2D, Flatten\n",
        "\n",
        "model = tf.keras.models.Sequential()\n",
        "\n",
        "#CNN1 Layer\n",
        "model.add(Conv2D(32,(3,3), activation = 'relu', input_shape = (50,50,3)))\n",
        "model.add(MaxPooling2D(2,2))\n",
        "\n",
        "#CNN2 Layer\n",
        "model.add(Conv2D(64,(3,3), activation = 'relu'))\n",
        "model.add(MaxPooling2D(2,2))\n",
        "\n",
        "model.add(Flatten())\n",
        "\n",
        "#Hidden layer\n",
        "model.add(Dense(512, activation = tf.nn.relu))\n",
        "\n",
        "#Output layer: 2 categories\n",
        "model.add(Dense(2, activation = tf.nn.softmax))\n"
      ]
    },
    {
      "cell_type": "code",
      "execution_count": 6,
      "metadata": {
        "id": "Hg1oUpNodi3x"
      },
      "outputs": [],
      "source": [
        "from tensorflow.keras.optimizers import RMSprop\n",
        "model.compile(optimizer = RMSprop(learning_rate = 0.001),\n",
        "              loss = 'categorical_crossentropy',\n",
        "              metrics= ['acc'])\n"
      ]
    },
    {
      "cell_type": "code",
      "execution_count": 7,
      "metadata": {
        "colab": {
          "base_uri": "https://localhost:8080/"
        },
        "id": "1tr2XNg5d9U5",
        "outputId": "95c6b3cb-3b7b-4910-ddd8-7e571c3e0bb0"
      },
      "outputs": [
        {
          "name": "stderr",
          "output_type": "stream",
          "text": [
            "c:\\Users\\LENOVO\\AppData\\Local\\Programs\\Python\\Python311\\Lib\\site-packages\\PIL\\Image.py:992: UserWarning: Palette images with Transparency expressed in bytes should be converted to RGBA images\n",
            "  warnings.warn(\n"
          ]
        },
        {
          "name": "stdout",
          "output_type": "stream",
          "text": [
            "Epoch 1/10\n",
            "2/2 [==============================] - 6s 2s/step - loss: 5.6083 - acc: 0.3617 - val_loss: 1.8566 - val_acc: 0.5263\n",
            "Epoch 2/10\n",
            "2/2 [==============================] - 4s 2s/step - loss: 1.3400 - acc: 0.5469 - val_loss: 0.7847 - val_acc: 0.5263\n",
            "Epoch 3/10\n",
            "2/2 [==============================] - 2s 2s/step - loss: 0.6260 - acc: 0.7660 - val_loss: 0.5181 - val_acc: 0.8947\n",
            "Epoch 4/10\n",
            "2/2 [==============================] - 4s 2s/step - loss: 0.6268 - acc: 0.6406 - val_loss: 0.8707 - val_acc: 0.5263\n",
            "Epoch 5/10\n",
            "2/2 [==============================] - 2s 925ms/step - loss: 0.7758 - acc: 0.4468 - val_loss: 0.5084 - val_acc: 0.8947\n",
            "Epoch 6/10\n",
            "2/2 [==============================] - 3s 2s/step - loss: 0.4567 - acc: 0.8594 - val_loss: 0.4222 - val_acc: 0.8947\n",
            "Epoch 7/10\n",
            "2/2 [==============================] - 3s 1s/step - loss: 0.3875 - acc: 0.9149 - val_loss: 0.4849 - val_acc: 0.7895\n",
            "Epoch 8/10\n",
            "2/2 [==============================] - 3s 2s/step - loss: 0.4362 - acc: 0.7656 - val_loss: 0.6015 - val_acc: 0.6842\n",
            "Epoch 9/10\n",
            "2/2 [==============================] - 4s 2s/step - loss: 0.4639 - acc: 0.8125 - val_loss: 0.3501 - val_acc: 0.8947\n",
            "Epoch 10/10\n",
            "2/2 [==============================] - 3s 2s/step - loss: 0.3643 - acc: 0.8594 - val_loss: 0.3420 - val_acc: 0.7895\n"
          ]
        }
      ],
      "source": [
        "EPOCHS = 10\n",
        "history = model.fit(\n",
        "    train_generator,\n",
        "    steps_per_epoch=2,\n",
        "    epochs= EPOCHS,\n",
        "    verbose = 1,\n",
        "    validation_data = valid_generator,\n",
        "    validation_steps = 1\n",
        ")"
      ]
    },
    {
      "cell_type": "code",
      "execution_count": 65,
      "metadata": {
        "colab": {
          "base_uri": "https://localhost:8080/",
          "height": 545
        },
        "id": "bh-zE6nSeY-j",
        "outputId": "84d61f43-83d5-4343-ae4a-828537292452"
      },
      "outputs": [
        {
          "ename": "NameError",
          "evalue": "name 'files' is not defined",
          "output_type": "error",
          "traceback": [
            "\u001b[1;31m---------------------------------------------------------------------------\u001b[0m",
            "\u001b[1;31mNameError\u001b[0m                                 Traceback (most recent call last)",
            "\u001b[1;32md:\\mtrie\\Documents\\IT\\python\\GoogleColab\\CNN_GoogleColab.ipynb Cell 9\u001b[0m line \u001b[0;36m4\n\u001b[0;32m      <a href='vscode-notebook-cell:/d%3A/mtrie/Documents/IT/python/GoogleColab/CNN_GoogleColab.ipynb#X12sZmlsZQ%3D%3D?line=1'>2</a>\u001b[0m \u001b[39mimport\u001b[39;00m \u001b[39mmatplotlib\u001b[39;00m\u001b[39m.\u001b[39;00m\u001b[39mpyplot\u001b[39;00m \u001b[39mas\u001b[39;00m \u001b[39mplt\u001b[39;00m\n\u001b[0;32m      <a href='vscode-notebook-cell:/d%3A/mtrie/Documents/IT/python/GoogleColab/CNN_GoogleColab.ipynb#X12sZmlsZQ%3D%3D?line=2'>3</a>\u001b[0m \u001b[39mimport\u001b[39;00m \u001b[39mmatplotlib\u001b[39;00m\u001b[39m.\u001b[39;00m\u001b[39mimage\u001b[39;00m \u001b[39mas\u001b[39;00m \u001b[39mmping\u001b[39;00m\n\u001b[1;32m----> <a href='vscode-notebook-cell:/d%3A/mtrie/Documents/IT/python/GoogleColab/CNN_GoogleColab.ipynb#X12sZmlsZQ%3D%3D?line=3'>4</a>\u001b[0m uploaded \u001b[39m=\u001b[39m files\u001b[39m.\u001b[39mupload()\n\u001b[0;32m      <a href='vscode-notebook-cell:/d%3A/mtrie/Documents/IT/python/GoogleColab/CNN_GoogleColab.ipynb#X12sZmlsZQ%3D%3D?line=4'>5</a>\u001b[0m \u001b[39mfor\u001b[39;00m fn \u001b[39min\u001b[39;00m uploaded\u001b[39m.\u001b[39mkeys():\n\u001b[0;32m      <a href='vscode-notebook-cell:/d%3A/mtrie/Documents/IT/python/GoogleColab/CNN_GoogleColab.ipynb#X12sZmlsZQ%3D%3D?line=5'>6</a>\u001b[0m   path \u001b[39m=\u001b[39m \u001b[39m'\u001b[39m\u001b[39m/content/\u001b[39m\u001b[39m'\u001b[39m \u001b[39m+\u001b[39m fn\n",
            "\u001b[1;31mNameError\u001b[0m: name 'files' is not defined"
          ]
        }
      ],
      "source": [
        "from google.colab import files\n",
        "from keras.preprocessing import image\n",
        "import matplotlib.pyplot as plt\n",
        "import matplotlib.image as mping\n",
        "uploaded = files.upload()\n",
        "for fn in uploaded.keys():\n",
        "  path = '/content/' + fn\n",
        "  plt.imshow(mping.imread(path))\n",
        "\n",
        "  img = image.load_img(path, target_size = (50,50))\n",
        "  x = image.img_to_array(img)\n",
        "  x = np.expand_dims(x, axis = 0)\n",
        "  images = np.vstack([x])\n",
        "  y_predict = model.predict(images, batch_size = 10)\n",
        "  print(y_predict)\n",
        "  print('Giá trị dự đoán', label[np.argmax(y_predict)])"
      ]
    },
    {
      "cell_type": "code",
      "execution_count": null,
      "metadata": {},
      "outputs": [],
      "source": []
    },
    {
      "cell_type": "code",
      "execution_count": null,
      "metadata": {},
      "outputs": [],
      "source": []
    }
  ],
  "metadata": {
    "colab": {
      "include_colab_link": true,
      "provenance": []
    },
    "kernelspec": {
      "display_name": "Python 3",
      "name": "python3"
    },
    "language_info": {
      "codemirror_mode": {
        "name": "ipython",
        "version": 3
      },
      "file_extension": ".py",
      "mimetype": "text/x-python",
      "name": "python",
      "nbconvert_exporter": "python",
      "pygments_lexer": "ipython3",
      "version": "3.11.1"
    }
  },
  "nbformat": 4,
  "nbformat_minor": 0
}
