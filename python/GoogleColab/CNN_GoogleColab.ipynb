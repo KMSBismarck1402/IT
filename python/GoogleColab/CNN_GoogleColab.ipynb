{
  "cells": [
    {
      "cell_type": "markdown",
      "metadata": {
        "colab_type": "text",
        "id": "view-in-github"
      },
      "source": [
        "<a href=\"https://colab.research.google.com/github/KMSBismarck1402/IT/blob/main/python/GoogleColab/CNN_GoogleColab.ipynb\" target=\"_parent\"><img src=\"https://colab.research.google.com/assets/colab-badge.svg\" alt=\"Open In Colab\"/></a>"
      ]
    },
    {
      "cell_type": "code",
      "execution_count": 9,
      "metadata": {
        "id": "v6omOrIw503W"
      },
      "outputs": [],
      "source": [
        "#https://www.studocu.com/vn/document/hoc-vien-ngan-hang/hoc-vien-ngan-hang/chuong-6-huong-dan-thuc-hanh-nhan-dien-anh-cnn/27469997\n",
        "import tensorflow as tf\n",
        "from tensorflow import keras\n",
        "import matplotlib.pyplot as plt\n",
        "import numpy as np"
      ]
    },
    {
      "cell_type": "code",
      "execution_count": null,
      "metadata": {
        "colab": {
          "base_uri": "https://localhost:8080/"
        },
        "id": "9IQbdVb56V2V",
        "outputId": "89bddcad-974e-4a91-fcde-8a11fd0c2fde"
      },
      "outputs": [],
      "source": []
    },
    {
      "cell_type": "code",
      "execution_count": 10,
      "metadata": {
        "id": "88BVVllR61pS"
      },
      "outputs": [],
      "source": [
        "from traitlets.traitlets import validate\n",
        "import os\n",
        "train_image_files_path = 'train'\n",
        "valid_image_files_path = 'valid'"
      ]
    },
    {
      "cell_type": "code",
      "execution_count": 11,
      "metadata": {
        "id": "B3FzNgp27nN5"
      },
      "outputs": [],
      "source": [
        "label =['apple', 'banana']"
      ]
    },
    {
      "cell_type": "code",
      "execution_count": 18,
      "metadata": {
        "colab": {
          "base_uri": "https://localhost:8080/"
        },
        "id": "AjE7ovWd7r2C",
        "outputId": "d38b940d-5dfa-423a-ebb3-30fedf28f53f"
      },
      "outputs": [
        {
          "name": "stdout",
          "output_type": "stream",
          "text": [
            "Found 143 images belonging to 2 classes.\n",
            "Found 19 images belonging to 2 classes.\n"
          ]
        }
      ],
      "source": [
        "from tensorflow.keras.preprocessing.image import ImageDataGenerator\n",
        "\n",
        "train_data_gen = ImageDataGenerator(rescale = 1/255)\n",
        "valid_data_gen = ImageDataGenerator(rescale = 1/255)\n",
        "train_generator = train_data_gen.flow_from_directory(\n",
        "    train_image_files_path,\n",
        "    target_size = (50,50),\n",
        "    class_mode = 'categorical'\n",
        ")\n",
        "valid_generator = train_data_gen.flow_from_directory(\n",
        "    valid_image_files_path,\n",
        "    target_size = (50,50),\n",
        "    class_mode = 'categorical'\n",
        ")"
      ]
    },
    {
      "cell_type": "code",
      "execution_count": 19,
      "metadata": {
        "id": "p45V1dbfcCJB"
      },
      "outputs": [],
      "source": [
        "from keras.models import Sequential\n",
        "from keras.layers import Dense, Dropout, Conv2D, MaxPooling2D, Flatten\n",
        "\n",
        "model = tf.keras.models.Sequential()\n",
        "\n",
        "#CNN1 Layer\n",
        "model.add(Conv2D(32,(3,3), activation = 'relu', input_shape = (50,50,3)))\n",
        "model.add(MaxPooling2D(2,2))\n",
        "\n",
        "#CNN2 Layer\n",
        "model.add(Conv2D(64,(3,3), activation = 'relu'))\n",
        "model.add(MaxPooling2D(2,2))\n",
        "\n",
        "model.add(Flatten())\n",
        "\n",
        "#Hidden layer\n",
        "model.add(Dense(512, activation = tf.nn.relu))\n",
        "\n",
        "#Output layer: 2 categories\n",
        "model.add(Dense(2, activation = tf.nn.softmax))\n"
      ]
    },
    {
      "cell_type": "code",
      "execution_count": 20,
      "metadata": {
        "id": "Hg1oUpNodi3x"
      },
      "outputs": [],
      "source": [
        "from tensorflow.keras.optimizers import RMSprop\n",
        "model.compile(optimizer = RMSprop(learning_rate = 0.001),\n",
        "              loss = 'categorical_crossentropy',\n",
        "              metrics= ['acc'])\n"
      ]
    },
    {
      "cell_type": "code",
      "execution_count": 22,
      "metadata": {
        "colab": {
          "base_uri": "https://localhost:8080/"
        },
        "id": "1tr2XNg5d9U5",
        "outputId": "95c6b3cb-3b7b-4910-ddd8-7e571c3e0bb0"
      },
      "outputs": [
        {
          "ename": "NameError",
          "evalue": "name 'scipy' is not defined",
          "output_type": "error",
          "traceback": [
            "\u001b[1;31m---------------------------------------------------------------------------\u001b[0m",
            "\u001b[1;31mNameError\u001b[0m                                 Traceback (most recent call last)",
            "\u001b[1;32md:\\mtrie\\Documents\\IT\\python\\GoogleColab\\CNN_GoogleColab.ipynb Cell 9\u001b[0m line \u001b[0;36m2\n\u001b[0;32m      <a href='vscode-notebook-cell:/d%3A/mtrie/Documents/IT/python/GoogleColab/CNN_GoogleColab.ipynb#X11sZmlsZQ%3D%3D?line=0'>1</a>\u001b[0m EPOCHS \u001b[39m=\u001b[39m \u001b[39m10\u001b[39m\n\u001b[1;32m----> <a href='vscode-notebook-cell:/d%3A/mtrie/Documents/IT/python/GoogleColab/CNN_GoogleColab.ipynb#X11sZmlsZQ%3D%3D?line=1'>2</a>\u001b[0m history \u001b[39m=\u001b[39m model\u001b[39m.\u001b[39;49mfit(\n\u001b[0;32m      <a href='vscode-notebook-cell:/d%3A/mtrie/Documents/IT/python/GoogleColab/CNN_GoogleColab.ipynb#X11sZmlsZQ%3D%3D?line=2'>3</a>\u001b[0m     train_generator,\n\u001b[0;32m      <a href='vscode-notebook-cell:/d%3A/mtrie/Documents/IT/python/GoogleColab/CNN_GoogleColab.ipynb#X11sZmlsZQ%3D%3D?line=3'>4</a>\u001b[0m     steps_per_epoch\u001b[39m=\u001b[39;49m\u001b[39m2\u001b[39;49m,\n\u001b[0;32m      <a href='vscode-notebook-cell:/d%3A/mtrie/Documents/IT/python/GoogleColab/CNN_GoogleColab.ipynb#X11sZmlsZQ%3D%3D?line=4'>5</a>\u001b[0m     epochs\u001b[39m=\u001b[39;49m EPOCHS,\n\u001b[0;32m      <a href='vscode-notebook-cell:/d%3A/mtrie/Documents/IT/python/GoogleColab/CNN_GoogleColab.ipynb#X11sZmlsZQ%3D%3D?line=5'>6</a>\u001b[0m     verbose \u001b[39m=\u001b[39;49m \u001b[39m1\u001b[39;49m,\n\u001b[0;32m      <a href='vscode-notebook-cell:/d%3A/mtrie/Documents/IT/python/GoogleColab/CNN_GoogleColab.ipynb#X11sZmlsZQ%3D%3D?line=6'>7</a>\u001b[0m     validation_data \u001b[39m=\u001b[39;49m valid_generator,\n\u001b[0;32m      <a href='vscode-notebook-cell:/d%3A/mtrie/Documents/IT/python/GoogleColab/CNN_GoogleColab.ipynb#X11sZmlsZQ%3D%3D?line=7'>8</a>\u001b[0m     validation_steps \u001b[39m=\u001b[39;49m \u001b[39m1\u001b[39;49m\n\u001b[0;32m      <a href='vscode-notebook-cell:/d%3A/mtrie/Documents/IT/python/GoogleColab/CNN_GoogleColab.ipynb#X11sZmlsZQ%3D%3D?line=8'>9</a>\u001b[0m )\n",
            "File \u001b[1;32mc:\\Users\\LENOVO\\AppData\\Local\\Programs\\Python\\Python311\\Lib\\site-packages\\keras\\src\\utils\\traceback_utils.py:70\u001b[0m, in \u001b[0;36mfilter_traceback.<locals>.error_handler\u001b[1;34m(*args, **kwargs)\u001b[0m\n\u001b[0;32m     67\u001b[0m     filtered_tb \u001b[39m=\u001b[39m _process_traceback_frames(e\u001b[39m.\u001b[39m__traceback__)\n\u001b[0;32m     68\u001b[0m     \u001b[39m# To get the full stack trace, call:\u001b[39;00m\n\u001b[0;32m     69\u001b[0m     \u001b[39m# `tf.debugging.disable_traceback_filtering()`\u001b[39;00m\n\u001b[1;32m---> 70\u001b[0m     \u001b[39mraise\u001b[39;00m e\u001b[39m.\u001b[39mwith_traceback(filtered_tb) \u001b[39mfrom\u001b[39;00m \u001b[39mNone\u001b[39m\n\u001b[0;32m     71\u001b[0m \u001b[39mfinally\u001b[39;00m:\n\u001b[0;32m     72\u001b[0m     \u001b[39mdel\u001b[39;00m filtered_tb\n",
            "File \u001b[1;32mc:\\Users\\LENOVO\\AppData\\Local\\Programs\\Python\\Python311\\Lib\\site-packages\\keras\\src\\preprocessing\\image.py:2526\u001b[0m, in \u001b[0;36mapply_affine_transform\u001b[1;34m(x, theta, tx, ty, shear, zx, zy, row_axis, col_axis, channel_axis, fill_mode, cval, order)\u001b[0m\n\u001b[0;32m   2482\u001b[0m \u001b[39m@keras_export\u001b[39m(\u001b[39m\"\u001b[39m\u001b[39mkeras.preprocessing.image.apply_affine_transform\u001b[39m\u001b[39m\"\u001b[39m)\n\u001b[0;32m   2483\u001b[0m \u001b[39mdef\u001b[39;00m \u001b[39mapply_affine_transform\u001b[39m(\n\u001b[0;32m   2484\u001b[0m     x,\n\u001b[1;32m   (...)\u001b[0m\n\u001b[0;32m   2496\u001b[0m     order\u001b[39m=\u001b[39m\u001b[39m1\u001b[39m,\n\u001b[0;32m   2497\u001b[0m ):\n\u001b[0;32m   2498\u001b[0m \u001b[39m    \u001b[39m\u001b[39m\"\"\"Applies an affine transformation specified by the parameters given.\u001b[39;00m\n\u001b[0;32m   2499\u001b[0m \n\u001b[0;32m   2500\u001b[0m \u001b[39m    Args:\u001b[39;00m\n\u001b[1;32m   (...)\u001b[0m\n\u001b[0;32m   2524\u001b[0m \u001b[39m        ImportError: if SciPy is not available.\u001b[39;00m\n\u001b[0;32m   2525\u001b[0m \u001b[39m    \"\"\"\u001b[39;00m\n\u001b[1;32m-> 2526\u001b[0m     \u001b[39mif\u001b[39;00m scipy \u001b[39mis\u001b[39;00m \u001b[39mNone\u001b[39;00m:\n\u001b[0;32m   2527\u001b[0m         \u001b[39mraise\u001b[39;00m \u001b[39mImportError\u001b[39;00m(\u001b[39m\"\u001b[39m\u001b[39mImage transformations require SciPy. Install SciPy.\u001b[39m\u001b[39m\"\u001b[39m)\n\u001b[0;32m   2529\u001b[0m     \u001b[39m# Input sanity checks:\u001b[39;00m\n\u001b[0;32m   2530\u001b[0m     \u001b[39m# 1. x must 2D image with one or more channels (i.e., a 3D tensor)\u001b[39;00m\n\u001b[0;32m   2531\u001b[0m     \u001b[39m# 2. channels must be either first or last dimension\u001b[39;00m\n",
            "\u001b[1;31mNameError\u001b[0m: name 'scipy' is not defined"
          ]
        }
      ],
      "source": [
        "EPOCHS = 10\n",
        "history = model.fit(\n",
        "    train_generator,\n",
        "    steps_per_epoch=2,\n",
        "    epochs= EPOCHS,\n",
        "    verbose = 1,\n",
        "    validation_data = valid_generator,\n",
        "    validation_steps = 1\n",
        ")"
      ]
    },
    {
      "cell_type": "code",
      "execution_count": 16,
      "metadata": {
        "colab": {
          "base_uri": "https://localhost:8080/",
          "height": 545
        },
        "id": "bh-zE6nSeY-j",
        "outputId": "84d61f43-83d5-4343-ae4a-828537292452"
      },
      "outputs": [
        {
          "ename": "ModuleNotFoundError",
          "evalue": "No module named 'google.colab'",
          "output_type": "error",
          "traceback": [
            "\u001b[1;31m---------------------------------------------------------------------------\u001b[0m",
            "\u001b[1;31mModuleNotFoundError\u001b[0m                       Traceback (most recent call last)",
            "\u001b[1;32md:\\mtrie\\Documents\\IT\\python\\GoogleColab\\CNN_GoogleColab.ipynb Cell 10\u001b[0m line \u001b[0;36m1\n\u001b[1;32m----> <a href='vscode-notebook-cell:/d%3A/mtrie/Documents/IT/python/GoogleColab/CNN_GoogleColab.ipynb#X12sZmlsZQ%3D%3D?line=0'>1</a>\u001b[0m \u001b[39mfrom\u001b[39;00m \u001b[39mgoogle\u001b[39;00m\u001b[39m.\u001b[39;00m\u001b[39mcolab\u001b[39;00m \u001b[39mimport\u001b[39;00m files\n\u001b[0;32m      <a href='vscode-notebook-cell:/d%3A/mtrie/Documents/IT/python/GoogleColab/CNN_GoogleColab.ipynb#X12sZmlsZQ%3D%3D?line=1'>2</a>\u001b[0m \u001b[39mfrom\u001b[39;00m \u001b[39mkeras\u001b[39;00m\u001b[39m.\u001b[39;00m\u001b[39mpreprocessing\u001b[39;00m \u001b[39mimport\u001b[39;00m image\n\u001b[0;32m      <a href='vscode-notebook-cell:/d%3A/mtrie/Documents/IT/python/GoogleColab/CNN_GoogleColab.ipynb#X12sZmlsZQ%3D%3D?line=2'>3</a>\u001b[0m \u001b[39mimport\u001b[39;00m \u001b[39mmatplotlib\u001b[39;00m\u001b[39m.\u001b[39;00m\u001b[39mpyplot\u001b[39;00m \u001b[39mas\u001b[39;00m \u001b[39mplt\u001b[39;00m\n",
            "\u001b[1;31mModuleNotFoundError\u001b[0m: No module named 'google.colab'"
          ]
        }
      ],
      "source": [
        "from google.colab import files\n",
        "from keras.preprocessing import image\n",
        "import matplotlib.pyplot as plt\n",
        "import matplotlib.image as mping\n",
        "uploaded = files.upload()\n",
        "for fn in uploaded.keys():\n",
        "  path = '/content/' + fn\n",
        "  plt.imshow(mping.imread(path))\n",
        "\n",
        "  img = image.load_img(path, target_size = (50,50))\n",
        "  x = image.img_to_array(img)\n",
        "  x = np.expand_dims(x, axis = 0)\n",
        "  images = np.vstack([x])\n",
        "  y_predict = model.predict(images, batch_size = 10)\n",
        "  print(y_predict)\n",
        "  print('Giá trị dự đoán', label[np.argmax(y_predict)])"
      ]
    },
    {
      "cell_type": "code",
      "execution_count": null,
      "metadata": {},
      "outputs": [],
      "source": []
    },
    {
      "cell_type": "code",
      "execution_count": null,
      "metadata": {},
      "outputs": [],
      "source": []
    }
  ],
  "metadata": {
    "colab": {
      "include_colab_link": true,
      "provenance": []
    },
    "kernelspec": {
      "display_name": "Python 3",
      "name": "python3"
    },
    "language_info": {
      "codemirror_mode": {
        "name": "ipython",
        "version": 3
      },
      "file_extension": ".py",
      "mimetype": "text/x-python",
      "name": "python",
      "nbconvert_exporter": "python",
      "pygments_lexer": "ipython3",
      "version": "3.11.1"
    }
  },
  "nbformat": 4,
  "nbformat_minor": 0
}
