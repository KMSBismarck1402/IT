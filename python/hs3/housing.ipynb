{
 "cells": [
  {
   "cell_type": "code",
   "execution_count": 1,
   "metadata": {},
   "outputs": [],
   "source": [
    "# Supress Warnings\n",
    "\n",
    "import warnings\n",
    "warnings.filterwarnings('ignore')\n",
    "\n",
    "# Import the numpy and pandas package\n",
    "\n",
    "import numpy as np\n",
    "import pandas as pd\n",
    "\n",
    "# Data Visualisation\n",
    "\n",
    "import matplotlib.pyplot as plt \n",
    "import seaborn as sns\n",
    "\n",
    "#split data\n",
    "from sklearn.model_selection import train_test_split\n",
    "\n",
    "# Importing RFE and LinearRegression\n",
    "from sklearn.feature_selection import RFE\n",
    "from sklearn.linear_model import LinearRegression\n",
    "from sklearn.preprocessing import PolynomialFeatures\n",
    "import statsmodels.api as sm  "
   ]
  },
  {
   "cell_type": "code",
   "execution_count": 2,
   "metadata": {},
   "outputs": [],
   "source": [
    "housing = pd.DataFrame(pd.read_csv(\"Housing_data_final.csv\"))"
   ]
  },
  {
   "cell_type": "code",
   "execution_count": 3,
   "metadata": {},
   "outputs": [
    {
     "data": {
      "text/html": [
       "<div>\n",
       "<style scoped>\n",
       "    .dataframe tbody tr th:only-of-type {\n",
       "        vertical-align: middle;\n",
       "    }\n",
       "\n",
       "    .dataframe tbody tr th {\n",
       "        vertical-align: top;\n",
       "    }\n",
       "\n",
       "    .dataframe thead th {\n",
       "        text-align: right;\n",
       "    }\n",
       "</style>\n",
       "<table border=\"1\" class=\"dataframe\">\n",
       "  <thead>\n",
       "    <tr style=\"text-align: right;\">\n",
       "      <th></th>\n",
       "      <th>price</th>\n",
       "      <th>area</th>\n",
       "      <th>bedrooms</th>\n",
       "      <th>bathrooms</th>\n",
       "      <th>washingmachine</th>\n",
       "      <th>dtcenter</th>\n",
       "      <th>dtrec</th>\n",
       "      <th>dthospital</th>\n",
       "      <th>hotwater</th>\n",
       "      <th>ac</th>\n",
       "      <th>furnish</th>\n",
       "      <th>parking</th>\n",
       "      <th>security</th>\n",
       "    </tr>\n",
       "  </thead>\n",
       "  <tbody>\n",
       "    <tr>\n",
       "      <th>0</th>\n",
       "      <td>6447368</td>\n",
       "      <td>100</td>\n",
       "      <td>1</td>\n",
       "      <td>2</td>\n",
       "      <td>1</td>\n",
       "      <td>1.238920</td>\n",
       "      <td>0.307354</td>\n",
       "      <td>0.578929</td>\n",
       "      <td>1</td>\n",
       "      <td>1</td>\n",
       "      <td>1</td>\n",
       "      <td>1</td>\n",
       "      <td>1</td>\n",
       "    </tr>\n",
       "    <tr>\n",
       "      <th>1</th>\n",
       "      <td>5710526</td>\n",
       "      <td>75</td>\n",
       "      <td>1</td>\n",
       "      <td>2</td>\n",
       "      <td>1</td>\n",
       "      <td>1.235416</td>\n",
       "      <td>0.131664</td>\n",
       "      <td>0.385726</td>\n",
       "      <td>1</td>\n",
       "      <td>1</td>\n",
       "      <td>1</td>\n",
       "      <td>1</td>\n",
       "      <td>2</td>\n",
       "    </tr>\n",
       "    <tr>\n",
       "      <th>2</th>\n",
       "      <td>5157895</td>\n",
       "      <td>58</td>\n",
       "      <td>1</td>\n",
       "      <td>2</td>\n",
       "      <td>1</td>\n",
       "      <td>1.135016</td>\n",
       "      <td>0.371314</td>\n",
       "      <td>0.775536</td>\n",
       "      <td>1</td>\n",
       "      <td>1</td>\n",
       "      <td>0</td>\n",
       "      <td>1</td>\n",
       "      <td>2</td>\n",
       "    </tr>\n",
       "    <tr>\n",
       "      <th>3</th>\n",
       "      <td>5157895</td>\n",
       "      <td>132</td>\n",
       "      <td>1</td>\n",
       "      <td>1</td>\n",
       "      <td>1</td>\n",
       "      <td>1.215055</td>\n",
       "      <td>0.499058</td>\n",
       "      <td>0.233979</td>\n",
       "      <td>1</td>\n",
       "      <td>1</td>\n",
       "      <td>2</td>\n",
       "      <td>1</td>\n",
       "      <td>0</td>\n",
       "    </tr>\n",
       "    <tr>\n",
       "      <th>4</th>\n",
       "      <td>4863158</td>\n",
       "      <td>78</td>\n",
       "      <td>1</td>\n",
       "      <td>1</td>\n",
       "      <td>1</td>\n",
       "      <td>0.508271</td>\n",
       "      <td>0.503129</td>\n",
       "      <td>1.064498</td>\n",
       "      <td>1</td>\n",
       "      <td>1</td>\n",
       "      <td>1</td>\n",
       "      <td>1</td>\n",
       "      <td>1</td>\n",
       "    </tr>\n",
       "  </tbody>\n",
       "</table>\n",
       "</div>"
      ],
      "text/plain": [
       "     price  area  bedrooms  bathrooms  washingmachine  dtcenter     dtrec  \\\n",
       "0  6447368   100         1          2               1  1.238920  0.307354   \n",
       "1  5710526    75         1          2               1  1.235416  0.131664   \n",
       "2  5157895    58         1          2               1  1.135016  0.371314   \n",
       "3  5157895   132         1          1               1  1.215055  0.499058   \n",
       "4  4863158    78         1          1               1  0.508271  0.503129   \n",
       "\n",
       "   dthospital  hotwater  ac  furnish  parking  security  \n",
       "0    0.578929         1   1        1        1         1  \n",
       "1    0.385726         1   1        1        1         2  \n",
       "2    0.775536         1   1        0        1         2  \n",
       "3    0.233979         1   1        2        1         0  \n",
       "4    1.064498         1   1        1        1         1  "
      ]
     },
     "execution_count": 3,
     "metadata": {},
     "output_type": "execute_result"
    }
   ],
   "source": [
    "# Check the head of the dataset\n",
    "housing.head()"
   ]
  },
  {
   "cell_type": "code",
   "execution_count": 4,
   "metadata": {},
   "outputs": [
    {
     "data": {
      "text/plain": [
       "(545, 13)"
      ]
     },
     "execution_count": 4,
     "metadata": {},
     "output_type": "execute_result"
    }
   ],
   "source": [
    "housing.shape"
   ]
  },
  {
   "cell_type": "code",
   "execution_count": 5,
   "metadata": {},
   "outputs": [
    {
     "name": "stdout",
     "output_type": "stream",
     "text": [
      "<class 'pandas.core.frame.DataFrame'>\n",
      "RangeIndex: 545 entries, 0 to 544\n",
      "Data columns (total 13 columns):\n",
      " #   Column          Non-Null Count  Dtype  \n",
      "---  ------          --------------  -----  \n",
      " 0   price           545 non-null    int64  \n",
      " 1   area            545 non-null    int64  \n",
      " 2   bedrooms        545 non-null    int64  \n",
      " 3   bathrooms       545 non-null    int64  \n",
      " 4   washingmachine  545 non-null    int64  \n",
      " 5   dtcenter        545 non-null    float64\n",
      " 6   dtrec           545 non-null    float64\n",
      " 7   dthospital      545 non-null    float64\n",
      " 8   hotwater        545 non-null    int64  \n",
      " 9   ac              545 non-null    int64  \n",
      " 10  furnish         545 non-null    int64  \n",
      " 11  parking         545 non-null    int64  \n",
      " 12  security        545 non-null    int64  \n",
      "dtypes: float64(3), int64(10)\n",
      "memory usage: 55.5 KB\n"
     ]
    }
   ],
   "source": [
    "housing.info()"
   ]
  },
  {
   "cell_type": "code",
   "execution_count": 6,
   "metadata": {},
   "outputs": [],
   "source": [
    "# outlier treatment for price\n",
    "Q1 = housing.price.quantile(0.25)\n",
    "Q3 = housing.price.quantile(0.75)\n",
    "IQR = Q3 - Q1\n",
    "housing = housing[(housing.price >= Q1 - 1.5*IQR) & (housing.price <= Q3 + 1.5*IQR)]"
   ]
  },
  {
   "cell_type": "code",
   "execution_count": 7,
   "metadata": {},
   "outputs": [],
   "source": [
    "# outlier treatment for area\n",
    "Q1 = housing.area.quantile(0.25)\n",
    "Q3 = housing.area.quantile(0.75)\n",
    "IQR = Q3 - Q1\n",
    "housing = housing[(housing.area >= Q1 - 1.5*IQR) & (housing.area <= Q3 + 1.5*IQR)]"
   ]
  },
  {
   "cell_type": "code",
   "execution_count": 8,
   "metadata": {},
   "outputs": [],
   "source": [
    "# We specify this so that the train and test data set always have the same rows, respectively\n",
    "np.random.seed(0)\n",
    "df_train, df_test = train_test_split(housing, train_size = 0.7, test_size = 0.3, random_state = 100)"
   ]
  },
  {
   "cell_type": "code",
   "execution_count": 9,
   "metadata": {},
   "outputs": [],
   "source": [
    "from sklearn.preprocessing import MinMaxScaler\n",
    "scaler = MinMaxScaler()"
   ]
  },
  {
   "cell_type": "code",
   "execution_count": 10,
   "metadata": {},
   "outputs": [],
   "source": [
    "# Apply scaler() to all the columns except the 'yes-no' and 'dummy' variables\n",
    "num_vars = ['price', 'area', 'bedrooms', 'bathrooms', 'washingmachine', 'dtcenter', 'dtrec','dthospital', 'hotwater', 'ac', 'furnish', 'parking', 'security']\n",
    "df_train[num_vars] = scaler.fit_transform(df_train[num_vars])"
   ]
  },
  {
   "cell_type": "code",
   "execution_count": 11,
   "metadata": {},
   "outputs": [],
   "source": [
    "y_train = df_train.pop('price')\n",
    "X_train = df_train"
   ]
  },
  {
   "cell_type": "code",
   "execution_count": 12,
   "metadata": {},
   "outputs": [
    {
     "data": {
      "text/html": [
       "<style>#sk-container-id-1 {color: black;}#sk-container-id-1 pre{padding: 0;}#sk-container-id-1 div.sk-toggleable {background-color: white;}#sk-container-id-1 label.sk-toggleable__label {cursor: pointer;display: block;width: 100%;margin-bottom: 0;padding: 0.3em;box-sizing: border-box;text-align: center;}#sk-container-id-1 label.sk-toggleable__label-arrow:before {content: \"▸\";float: left;margin-right: 0.25em;color: #696969;}#sk-container-id-1 label.sk-toggleable__label-arrow:hover:before {color: black;}#sk-container-id-1 div.sk-estimator:hover label.sk-toggleable__label-arrow:before {color: black;}#sk-container-id-1 div.sk-toggleable__content {max-height: 0;max-width: 0;overflow: hidden;text-align: left;background-color: #f0f8ff;}#sk-container-id-1 div.sk-toggleable__content pre {margin: 0.2em;color: black;border-radius: 0.25em;background-color: #f0f8ff;}#sk-container-id-1 input.sk-toggleable__control:checked~div.sk-toggleable__content {max-height: 200px;max-width: 100%;overflow: auto;}#sk-container-id-1 input.sk-toggleable__control:checked~label.sk-toggleable__label-arrow:before {content: \"▾\";}#sk-container-id-1 div.sk-estimator input.sk-toggleable__control:checked~label.sk-toggleable__label {background-color: #d4ebff;}#sk-container-id-1 div.sk-label input.sk-toggleable__control:checked~label.sk-toggleable__label {background-color: #d4ebff;}#sk-container-id-1 input.sk-hidden--visually {border: 0;clip: rect(1px 1px 1px 1px);clip: rect(1px, 1px, 1px, 1px);height: 1px;margin: -1px;overflow: hidden;padding: 0;position: absolute;width: 1px;}#sk-container-id-1 div.sk-estimator {font-family: monospace;background-color: #f0f8ff;border: 1px dotted black;border-radius: 0.25em;box-sizing: border-box;margin-bottom: 0.5em;}#sk-container-id-1 div.sk-estimator:hover {background-color: #d4ebff;}#sk-container-id-1 div.sk-parallel-item::after {content: \"\";width: 100%;border-bottom: 1px solid gray;flex-grow: 1;}#sk-container-id-1 div.sk-label:hover label.sk-toggleable__label {background-color: #d4ebff;}#sk-container-id-1 div.sk-serial::before {content: \"\";position: absolute;border-left: 1px solid gray;box-sizing: border-box;top: 0;bottom: 0;left: 50%;z-index: 0;}#sk-container-id-1 div.sk-serial {display: flex;flex-direction: column;align-items: center;background-color: white;padding-right: 0.2em;padding-left: 0.2em;position: relative;}#sk-container-id-1 div.sk-item {position: relative;z-index: 1;}#sk-container-id-1 div.sk-parallel {display: flex;align-items: stretch;justify-content: center;background-color: white;position: relative;}#sk-container-id-1 div.sk-item::before, #sk-container-id-1 div.sk-parallel-item::before {content: \"\";position: absolute;border-left: 1px solid gray;box-sizing: border-box;top: 0;bottom: 0;left: 50%;z-index: -1;}#sk-container-id-1 div.sk-parallel-item {display: flex;flex-direction: column;z-index: 1;position: relative;background-color: white;}#sk-container-id-1 div.sk-parallel-item:first-child::after {align-self: flex-end;width: 50%;}#sk-container-id-1 div.sk-parallel-item:last-child::after {align-self: flex-start;width: 50%;}#sk-container-id-1 div.sk-parallel-item:only-child::after {width: 0;}#sk-container-id-1 div.sk-dashed-wrapped {border: 1px dashed gray;margin: 0 0.4em 0.5em 0.4em;box-sizing: border-box;padding-bottom: 0.4em;background-color: white;}#sk-container-id-1 div.sk-label label {font-family: monospace;font-weight: bold;display: inline-block;line-height: 1.2em;}#sk-container-id-1 div.sk-label-container {text-align: center;}#sk-container-id-1 div.sk-container {/* jupyter's `normalize.less` sets `[hidden] { display: none; }` but bootstrap.min.css set `[hidden] { display: none !important; }` so we also need the `!important` here to be able to override the default hidden behavior on the sphinx rendered scikit-learn.org. See: https://github.com/scikit-learn/scikit-learn/issues/21755 */display: inline-block !important;position: relative;}#sk-container-id-1 div.sk-text-repr-fallback {display: none;}</style><div id=\"sk-container-id-1\" class=\"sk-top-container\"><div class=\"sk-text-repr-fallback\"><pre>LinearRegression()</pre><b>In a Jupyter environment, please rerun this cell to show the HTML representation or trust the notebook. <br />On GitHub, the HTML representation is unable to render, please try loading this page with nbviewer.org.</b></div><div class=\"sk-container\" hidden><div class=\"sk-item\"><div class=\"sk-estimator sk-toggleable\"><input class=\"sk-toggleable__control sk-hidden--visually\" id=\"sk-estimator-id-1\" type=\"checkbox\" checked><label for=\"sk-estimator-id-1\" class=\"sk-toggleable__label sk-toggleable__label-arrow\">LinearRegression</label><div class=\"sk-toggleable__content\"><pre>LinearRegression()</pre></div></div></div></div></div>"
      ],
      "text/plain": [
       "LinearRegression()"
      ]
     },
     "execution_count": 12,
     "metadata": {},
     "output_type": "execute_result"
    }
   ],
   "source": [
    "# Running RFE with the output number of the variable equal to 10\n",
    "lm = LinearRegression()\n",
    "lm.fit(X_train, y_train)"
   ]
  },
  {
   "cell_type": "code",
   "execution_count": 13,
   "metadata": {},
   "outputs": [],
   "source": [
    "lm = sm.OLS(y_train,X_train).fit()   # Running the linear model"
   ]
  },
  {
   "cell_type": "code",
   "execution_count": 14,
   "metadata": {},
   "outputs": [],
   "source": [
    "from sklearn.preprocessing import PolynomialFeatures\n",
    "polynomial_features= PolynomialFeatures(degree=2, include_bias=True)\n",
    "xp = polynomial_features.fit_transform(X_train)\n",
    "xp.shape\n",
    "\n",
    "model_2 = sm.OLS(y_train, xp).fit()\n",
    "\n"
   ]
  },
  {
   "cell_type": "code",
   "execution_count": 15,
   "metadata": {},
   "outputs": [
    {
     "name": "stdout",
     "output_type": "stream",
     "text": [
      "                                 OLS Regression Results                                \n",
      "=======================================================================================\n",
      "Dep. Variable:                  price   R-squared (uncentered):                   0.960\n",
      "Model:                            OLS   Adj. R-squared (uncentered):              0.958\n",
      "Method:                 Least Squares   F-statistic:                              692.9\n",
      "Date:                Fri, 24 Nov 2023   Prob (F-statistic):                   4.69e-235\n",
      "Time:                        19:03:14   Log-Likelihood:                          369.21\n",
      "No. Observations:                 361   AIC:                                     -714.4\n",
      "Df Residuals:                     349   BIC:                                     -667.7\n",
      "Df Model:                          12                                                  \n",
      "Covariance Type:            nonrobust                                                  \n",
      "==================================================================================\n",
      "                     coef    std err          t      P>|t|      [0.025      0.975]\n",
      "----------------------------------------------------------------------------------\n",
      "area               0.4527      0.023     19.537      0.000       0.407       0.498\n",
      "bedrooms          -0.0084      0.027     -0.316      0.752      -0.061       0.044\n",
      "bathrooms          0.2132      0.026      8.293      0.000       0.163       0.264\n",
      "washingmachine     0.0316      0.010      3.111      0.002       0.012       0.052\n",
      "dtcenter          -0.3601      0.030    -11.944      0.000      -0.419      -0.301\n",
      "dtrec              0.0446      0.033      1.351      0.178      -0.020       0.110\n",
      "dthospital        -0.0148      0.032     -0.462      0.645      -0.078       0.048\n",
      "hotwater           0.0789      0.018      4.404      0.000       0.044       0.114\n",
      "ac                 0.0839      0.014      5.816      0.000       0.056       0.112\n",
      "furnish            0.0183      0.013      1.440      0.151      -0.007       0.043\n",
      "parking            0.1467      0.026      5.732      0.000       0.096       0.197\n",
      "security           0.0537      0.015      3.607      0.000       0.024       0.083\n",
      "==============================================================================\n",
      "Omnibus:                       27.065   Durbin-Watson:                   1.899\n",
      "Prob(Omnibus):                  0.000   Jarque-Bera (JB):               38.020\n",
      "Skew:                           0.548   Prob(JB):                     5.55e-09\n",
      "Kurtosis:                       4.151   Cond. No.                         17.3\n",
      "==============================================================================\n",
      "\n",
      "Notes:\n",
      "[1] R² is computed without centering (uncentered) since the model does not contain a constant.\n",
      "[2] Standard Errors assume that the covariance matrix of the errors is correctly specified.\n"
     ]
    }
   ],
   "source": [
    "#Let's see the summary of our linear model\\\n",
    "print(lm.summary())"
   ]
  },
  {
   "cell_type": "code",
   "execution_count": 16,
   "metadata": {},
   "outputs": [
    {
     "name": "stdout",
     "output_type": "stream",
     "text": [
      "                            OLS Regression Results                            \n",
      "==============================================================================\n",
      "Dep. Variable:                  price   R-squared:                       0.939\n",
      "Model:                            OLS   Adj. R-squared:                  0.920\n",
      "Method:                 Least Squares   F-statistic:                     48.57\n",
      "Date:                Fri, 24 Nov 2023   Prob (F-statistic):          1.57e-126\n",
      "Time:                        19:03:14   Log-Likelihood:                 548.08\n",
      "No. Observations:                 361   AIC:                            -920.2\n",
      "Df Residuals:                     273   BIC:                            -577.9\n",
      "Df Model:                          87                                         \n",
      "Covariance Type:            nonrobust                                         \n",
      "==============================================================================\n",
      "                 coef    std err          t      P>|t|      [0.025      0.975]\n",
      "------------------------------------------------------------------------------\n",
      "const          0.3092      0.359      0.862      0.390      -0.397       1.016\n",
      "x1             0.2965      0.466      0.637      0.525      -0.620       1.213\n",
      "x2             0.0648      0.286      0.227      0.821      -0.498       0.627\n",
      "x3            -0.0021      0.312     -0.007      0.995      -0.615       0.611\n",
      "x4            -0.0091      0.050     -0.182      0.856      -0.108       0.089\n",
      "x5            -0.3000      0.447     -0.671      0.503      -1.180       0.580\n",
      "x6             0.2149      0.323      0.666      0.506      -0.420       0.850\n",
      "x7            -0.4406      0.293     -1.501      0.134      -1.018       0.137\n",
      "x8             0.1558      0.114      1.363      0.174      -0.069       0.381\n",
      "x9            -0.1444      0.082     -1.751      0.081      -0.307       0.018\n",
      "x10            0.2251      0.129      1.739      0.083      -0.030       0.480\n",
      "x11            0.4509      0.281      1.604      0.110      -0.103       1.004\n",
      "x12           -0.1576      0.175     -0.900      0.369      -0.502       0.187\n",
      "x13           -0.0524      0.157     -0.333      0.739      -0.362       0.257\n",
      "x14           -0.0004      0.210     -0.002      0.998      -0.414       0.413\n",
      "x15            0.2785      0.214      1.303      0.194      -0.142       0.699\n",
      "x16            0.0836      0.074      1.125      0.262      -0.063       0.230\n",
      "x17           -0.1221      0.280     -0.437      0.663      -0.673       0.428\n",
      "x18           -0.0870      0.233     -0.373      0.709      -0.546       0.372\n",
      "x19            0.0800      0.215      0.372      0.711      -0.344       0.504\n",
      "x20           -0.2972      0.159     -1.867      0.063      -0.611       0.016\n",
      "x21            0.1734      0.123      1.406      0.161      -0.069       0.416\n",
      "x22           -0.1512      0.087     -1.730      0.085      -0.323       0.021\n",
      "x23           -0.1505      0.219     -0.686      0.493      -0.582       0.281\n",
      "x24            0.1207      0.139      0.866      0.387      -0.154       0.395\n",
      "x25            0.0453      0.192      0.236      0.814      -0.333       0.424\n",
      "x26            0.1111      0.149      0.747      0.456      -0.182       0.404\n",
      "x27           -0.0287      0.052     -0.550      0.582      -0.131       0.074\n",
      "x28            0.0548      0.217      0.253      0.801      -0.372       0.482\n",
      "x29            0.0911      0.172      0.531      0.596      -0.247       0.429\n",
      "x30           -0.1304      0.170     -0.765      0.445      -0.466       0.205\n",
      "x31           -0.0436      0.101     -0.433      0.665      -0.242       0.155\n",
      "x32           -0.0230      0.104     -0.221      0.825      -0.227       0.181\n",
      "x33           -0.0961      0.074     -1.290      0.198      -0.243       0.051\n",
      "x34            0.1211      0.163      0.744      0.457      -0.199       0.441\n",
      "x35           -0.1455      0.072     -2.029      0.043      -0.287      -0.004\n",
      "x36            0.0088      0.144      0.061      0.951      -0.274       0.292\n",
      "x37           -0.0206      0.055     -0.371      0.711      -0.130       0.089\n",
      "x38           -0.3319      0.208     -1.598      0.111      -0.741       0.077\n",
      "x39           -0.0204      0.187     -0.109      0.913      -0.388       0.347\n",
      "x40            0.2576      0.201      1.282      0.201      -0.138       0.653\n",
      "x41            0.0787      0.097      0.815      0.416      -0.111       0.269\n",
      "x42            0.0694      0.110      0.633      0.527      -0.146       0.285\n",
      "x43           -0.0726      0.072     -1.012      0.313      -0.214       0.069\n",
      "x44           -0.1568      0.163     -0.960      0.338      -0.479       0.165\n",
      "x45            0.0069      0.098      0.071      0.943      -0.185       0.199\n",
      "x46           -0.0091      0.050     -0.182      0.856      -0.108       0.089\n",
      "x47           -0.1287      0.067     -1.921      0.056      -0.261       0.003\n",
      "x48           -0.0363      0.061     -0.596      0.552      -0.156       0.084\n",
      "x49            0.0397      0.055      0.719      0.473      -0.069       0.148\n",
      "x50            0.0287      0.045      0.639      0.523      -0.060       0.117\n",
      "x51            0.0108      0.031      0.352      0.725      -0.050       0.071\n",
      "x52           -0.0214      0.022     -0.986      0.325      -0.064       0.021\n",
      "x53            0.0485      0.051      0.950      0.343      -0.052       0.149\n",
      "x54            0.0462      0.027      1.707      0.089      -0.007       0.100\n",
      "x55            0.2761      0.167      1.654      0.099      -0.052       0.605\n",
      "x56           -0.2154      0.249     -0.866      0.387      -0.705       0.274\n",
      "x57            0.2851      0.261      1.092      0.276      -0.229       0.799\n",
      "x58           -0.1262      0.205     -0.614      0.540      -0.531       0.278\n",
      "x59           -0.0113      0.130     -0.087      0.931      -0.268       0.245\n",
      "x60           -0.0709      0.084     -0.841      0.401      -0.237       0.095\n",
      "x61           -0.3013      0.211     -1.431      0.154      -0.716       0.113\n",
      "x62            0.1236      0.116      1.062      0.289      -0.105       0.353\n",
      "x63           -0.3736      0.161     -2.315      0.021      -0.691      -0.056\n",
      "x64            0.4243      0.182      2.325      0.021       0.065       0.784\n",
      "x65           -0.0540      0.095     -0.569      0.570      -0.241       0.133\n",
      "x66            0.1492      0.088      1.692      0.092      -0.024       0.323\n",
      "x67           -0.1120      0.084     -1.339      0.182      -0.277       0.053\n",
      "x68           -0.1355      0.151     -0.896      0.371      -0.433       0.162\n",
      "x69           -0.0819      0.105     -0.782      0.435      -0.288       0.124\n",
      "x70           -0.1980      0.159     -1.243      0.215      -0.512       0.116\n",
      "x71           -0.1482      0.120     -1.234      0.218      -0.385       0.088\n",
      "x72            0.1558      0.090      1.729      0.085      -0.022       0.333\n",
      "x73            0.0022      0.068      0.032      0.975      -0.132       0.137\n",
      "x74            0.1156      0.166      0.695      0.487      -0.212       0.443\n",
      "x75           -0.0098      0.084     -0.117      0.907      -0.175       0.155\n",
      "x76            0.1558      0.114      1.363      0.174      -0.069       0.381\n",
      "x77            0.0551      0.039      1.427      0.155      -0.021       0.131\n",
      "x78           -0.0408      0.052     -0.777      0.438      -0.144       0.062\n",
      "x79           -0.0571      0.085     -0.676      0.500      -0.224       0.109\n",
      "x80            0.0108      0.059      0.182      0.856      -0.106       0.127\n",
      "x81           -0.1444      0.082     -1.751      0.081      -0.307       0.018\n",
      "x82            0.0138      0.037      0.374      0.709      -0.059       0.086\n",
      "x83            0.0094      0.080      0.117      0.907      -0.148       0.166\n",
      "x84            0.0794      0.049      1.619      0.107      -0.017       0.176\n",
      "x85           -0.0018      0.030     -0.060      0.952      -0.062       0.058\n",
      "x86           -0.0782      0.063     -1.237      0.217      -0.203       0.046\n",
      "x87            0.0360      0.033      1.084      0.279      -0.029       0.101\n",
      "x88           -0.0824      0.125     -0.658      0.511      -0.329       0.164\n",
      "x89            0.0050      0.071      0.070      0.944      -0.134       0.144\n",
      "x90           -0.0244      0.045     -0.540      0.589      -0.113       0.064\n",
      "==============================================================================\n",
      "Omnibus:                       52.086   Durbin-Watson:                   1.925\n",
      "Prob(Omnibus):                  0.000   Jarque-Bera (JB):              152.954\n",
      "Skew:                           0.649   Prob(JB):                     6.12e-34\n",
      "Kurtosis:                       5.913   Cond. No.                     1.08e+16\n",
      "==============================================================================\n",
      "\n",
      "Notes:\n",
      "[1] Standard Errors assume that the covariance matrix of the errors is correctly specified.\n",
      "[2] The smallest eigenvalue is 4.03e-29. This might indicate that there are\n",
      "strong multicollinearity problems or that the design matrix is singular.\n"
     ]
    }
   ],
   "source": [
    "print(model_2.summary())"
   ]
  },
  {
   "cell_type": "code",
   "execution_count": 17,
   "metadata": {},
   "outputs": [],
   "source": [
    "# Importing the required libraries for plots.\n",
    "import matplotlib.pyplot as plt\n",
    "import seaborn as sns\n",
    "%matplotlib inline"
   ]
  },
  {
   "cell_type": "code",
   "execution_count": 18,
   "metadata": {},
   "outputs": [],
   "source": [
    "num_vars = ['price', 'area', 'bedrooms', 'bathrooms', 'washingmachine', 'dtcenter', 'dtrec','dthospital', 'hotwater', 'ac', 'furnish', 'parking', 'security']\n",
    "df_test[num_vars] = scaler.fit_transform(df_test[num_vars])"
   ]
  },
  {
   "cell_type": "code",
   "execution_count": 19,
   "metadata": {},
   "outputs": [],
   "source": [
    "df_test[num_vars] = scaler.fit_transform(df_test[num_vars])"
   ]
  },
  {
   "cell_type": "code",
   "execution_count": 20,
   "metadata": {},
   "outputs": [],
   "source": [
    "y_test = df_test.pop('price')\n",
    "X_test = df_test"
   ]
  },
  {
   "cell_type": "code",
   "execution_count": 21,
   "metadata": {},
   "outputs": [],
   "source": [
    "# Adding constant variable to test dataframe\n",
    "#X_test = sm.add_constant(X_test)"
   ]
  },
  {
   "cell_type": "code",
   "execution_count": 22,
   "metadata": {},
   "outputs": [],
   "source": [
    "# Now let's use our model to make predictions."
   ]
  },
  {
   "cell_type": "code",
   "execution_count": 23,
   "metadata": {},
   "outputs": [],
   "source": [
    "xtt = polynomial_features.fit_transform(X_test)\n",
    "y_pred_2 = model_2.predict(xtt) "
   ]
  },
  {
   "cell_type": "code",
   "execution_count": 24,
   "metadata": {},
   "outputs": [],
   "source": [
    "# Making predictions\n",
    "y_pred = lm.predict(X_test)"
   ]
  },
  {
   "cell_type": "code",
   "execution_count": 25,
   "metadata": {},
   "outputs": [
    {
     "data": {
      "text/plain": [
       "0.8249875290189583"
      ]
     },
     "execution_count": 25,
     "metadata": {},
     "output_type": "execute_result"
    }
   ],
   "source": [
    "from sklearn.metrics import r2_score \n",
    "r2_score(y_test, y_pred)"
   ]
  },
  {
   "cell_type": "code",
   "execution_count": 26,
   "metadata": {},
   "outputs": [
    {
     "data": {
      "text/plain": [
       "0.8778262503397734"
      ]
     },
     "execution_count": 26,
     "metadata": {},
     "output_type": "execute_result"
    }
   ],
   "source": [
    "r2_score(y_test,y_pred_2)"
   ]
  },
  {
   "cell_type": "code",
   "execution_count": 27,
   "metadata": {},
   "outputs": [
    {
     "data": {
      "text/plain": [
       "Text(0, 0.5, 'y_pred')"
      ]
     },
     "execution_count": 27,
     "metadata": {},
     "output_type": "execute_result"
    },
    {
     "data": {
      "image/png": "[encoded data removed]",
      "text/plain": [
       "<Figure size 640x480 with 1 Axes>"
      ]
     },
     "metadata": {},
     "output_type": "display_data"
    }
   ],
   "source": [
    "# Plotting y_test and y_pred to understand the spread.\n",
    "fig = plt.figure()\n",
    "plt.scatter(y_test,y_pred)\n",
    "fig.suptitle('y_test vs y_pred', fontsize=20)              # Plot heading \n",
    "plt.xlabel('y_test', fontsize=18)                          # X-label\n",
    "plt.ylabel('y_pred', fontsize=16)                          # Y-label"
   ]
  },
  {
   "cell_type": "code",
   "execution_count": 28,
   "metadata": {},
   "outputs": [
    {
     "data": {
      "text/plain": [
       "Text(0, 0.5, 'y_pred_2')"
      ]
     },
     "execution_count": 28,
     "metadata": {},
     "output_type": "execute_result"
    },
    {
     "data": {
      "image/png": "[encoded data removed]",
      "text/plain": [
       "<Figure size 640x480 with 1 Axes>"
      ]
     },
     "metadata": {},
     "output_type": "display_data"
    }
   ],
   "source": [
    "# Plotting y_test and y_pred to understand the spread.\n",
    "fig = plt.figure()\n",
    "plt.scatter(y_test,y_pred_2)\n",
    "fig.suptitle('y_test vs y_pred_2', fontsize=20)              # Plot heading \n",
    "plt.xlabel('y_test', fontsize=18)                          # X-label\n",
    "plt.ylabel('y_pred_2', fontsize=16)                          # Y-label"
   ]
  },
  {
   "cell_type": "code",
   "execution_count": null,
   "metadata": {},
   "outputs": [],
   "source": []
  }
 ],
 "metadata": {
  "kernelspec": {
   "display_name": "Python 3",
   "language": "python",
   "name": "python3"
  },
  "language_info": {
   "codemirror_mode": {
    "name": "ipython",
    "version": 3
   },
   "file_extension": ".py",
   "mimetype": "text/x-python",
   "name": "python",
   "nbconvert_exporter": "python",
   "pygments_lexer": "ipython3",
   "version": "3.11.1"
  }
 },
 "nbformat": 4,
 "nbformat_minor": 2
}
