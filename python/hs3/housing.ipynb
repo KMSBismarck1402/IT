{
 "cells": [
  {
   "cell_type": "code",
   "execution_count": 101,
   "metadata": {},
   "outputs": [],
   "source": [
    "# Supress Warnings\n",
    "\n",
    "import warnings\n",
    "warnings.filterwarnings('ignore')\n",
    "\n",
    "# Import the numpy and pandas package\n",
    "\n",
    "import numpy as np\n",
    "import pandas as pd\n",
    "\n",
    "# Data Visualisation\n",
    "\n",
    "import matplotlib.pyplot as plt \n",
    "import seaborn as sns\n",
    "\n",
    "#split data\n",
    "from sklearn.model_selection import train_test_split\n",
    "\n",
    "# Importing RFE and LinearRegression\n",
    "from sklearn.feature_selection import RFE\n",
    "from sklearn.linear_model import LinearRegression\n",
    "from sklearn.preprocessing import PolynomialFeatures\n",
    "import statsmodels.api as sm  "
   ]
  },
  {
   "cell_type": "code",
   "execution_count": 135,
   "metadata": {},
   "outputs": [],
   "source": [
    "housing = pd.DataFrame(pd.read_csv(\"Housing_data_final.csv\"))"
   ]
  },
  {
   "cell_type": "code",
   "execution_count": 136,
   "metadata": {},
   "outputs": [
    {
     "data": {
      "text/html": [
       "<div>\n",
       "<style scoped>\n",
       "    .dataframe tbody tr th:only-of-type {\n",
       "        vertical-align: middle;\n",
       "    }\n",
       "\n",
       "    .dataframe tbody tr th {\n",
       "        vertical-align: top;\n",
       "    }\n",
       "\n",
       "    .dataframe thead th {\n",
       "        text-align: right;\n",
       "    }\n",
       "</style>\n",
       "<table border=\"1\" class=\"dataframe\">\n",
       "  <thead>\n",
       "    <tr style=\"text-align: right;\">\n",
       "      <th></th>\n",
       "      <th>price</th>\n",
       "      <th>area</th>\n",
       "      <th>bedrooms</th>\n",
       "      <th>bathrooms</th>\n",
       "      <th>washingmachine</th>\n",
       "      <th>dtcenter</th>\n",
       "      <th>dtrec</th>\n",
       "      <th>dthospital</th>\n",
       "      <th>hotwater</th>\n",
       "      <th>ac</th>\n",
       "      <th>furnish</th>\n",
       "      <th>parking</th>\n",
       "      <th>security</th>\n",
       "    </tr>\n",
       "  </thead>\n",
       "  <tbody>\n",
       "    <tr>\n",
       "      <th>0</th>\n",
       "      <td>6447368</td>\n",
       "      <td>100</td>\n",
       "      <td>1</td>\n",
       "      <td>2</td>\n",
       "      <td>1</td>\n",
       "      <td>1.238920</td>\n",
       "      <td>0.307354</td>\n",
       "      <td>0.578929</td>\n",
       "      <td>1</td>\n",
       "      <td>1</td>\n",
       "      <td>1</td>\n",
       "      <td>1</td>\n",
       "      <td>1</td>\n",
       "    </tr>\n",
       "    <tr>\n",
       "      <th>1</th>\n",
       "      <td>5710526</td>\n",
       "      <td>75</td>\n",
       "      <td>1</td>\n",
       "      <td>2</td>\n",
       "      <td>1</td>\n",
       "      <td>1.235416</td>\n",
       "      <td>0.131664</td>\n",
       "      <td>0.385726</td>\n",
       "      <td>1</td>\n",
       "      <td>1</td>\n",
       "      <td>1</td>\n",
       "      <td>1</td>\n",
       "      <td>2</td>\n",
       "    </tr>\n",
       "    <tr>\n",
       "      <th>2</th>\n",
       "      <td>5157895</td>\n",
       "      <td>58</td>\n",
       "      <td>1</td>\n",
       "      <td>2</td>\n",
       "      <td>1</td>\n",
       "      <td>1.135016</td>\n",
       "      <td>0.371314</td>\n",
       "      <td>0.775536</td>\n",
       "      <td>1</td>\n",
       "      <td>1</td>\n",
       "      <td>0</td>\n",
       "      <td>1</td>\n",
       "      <td>2</td>\n",
       "    </tr>\n",
       "    <tr>\n",
       "      <th>3</th>\n",
       "      <td>5157895</td>\n",
       "      <td>132</td>\n",
       "      <td>1</td>\n",
       "      <td>1</td>\n",
       "      <td>1</td>\n",
       "      <td>1.215055</td>\n",
       "      <td>0.499058</td>\n",
       "      <td>0.233979</td>\n",
       "      <td>1</td>\n",
       "      <td>1</td>\n",
       "      <td>2</td>\n",
       "      <td>1</td>\n",
       "      <td>0</td>\n",
       "    </tr>\n",
       "    <tr>\n",
       "      <th>4</th>\n",
       "      <td>4863158</td>\n",
       "      <td>78</td>\n",
       "      <td>1</td>\n",
       "      <td>1</td>\n",
       "      <td>1</td>\n",
       "      <td>0.508271</td>\n",
       "      <td>0.503129</td>\n",
       "      <td>1.064498</td>\n",
       "      <td>1</td>\n",
       "      <td>1</td>\n",
       "      <td>1</td>\n",
       "      <td>1</td>\n",
       "      <td>1</td>\n",
       "    </tr>\n",
       "  </tbody>\n",
       "</table>\n",
       "</div>"
      ],
      "text/plain": [
       "     price  area  bedrooms  bathrooms  washingmachine  dtcenter     dtrec  \\\n",
       "0  6447368   100         1          2               1  1.238920  0.307354   \n",
       "1  5710526    75         1          2               1  1.235416  0.131664   \n",
       "2  5157895    58         1          2               1  1.135016  0.371314   \n",
       "3  5157895   132         1          1               1  1.215055  0.499058   \n",
       "4  4863158    78         1          1               1  0.508271  0.503129   \n",
       "\n",
       "   dthospital  hotwater  ac  furnish  parking  security  \n",
       "0    0.578929         1   1        1        1         1  \n",
       "1    0.385726         1   1        1        1         2  \n",
       "2    0.775536         1   1        0        1         2  \n",
       "3    0.233979         1   1        2        1         0  \n",
       "4    1.064498         1   1        1        1         1  "
      ]
     },
     "execution_count": 136,
     "metadata": {},
     "output_type": "execute_result"
    }
   ],
   "source": [
    "# Check the head of the dataset\n",
    "housing.head()"
   ]
  },
  {
   "cell_type": "code",
   "execution_count": 137,
   "metadata": {},
   "outputs": [
    {
     "data": {
      "text/plain": [
       "(545, 13)"
      ]
     },
     "execution_count": 137,
     "metadata": {},
     "output_type": "execute_result"
    }
   ],
   "source": [
    "housing.shape"
   ]
  },
  {
   "cell_type": "code",
   "execution_count": 138,
   "metadata": {},
   "outputs": [
    {
     "name": "stdout",
     "output_type": "stream",
     "text": [
      "<class 'pandas.core.frame.DataFrame'>\n",
      "RangeIndex: 545 entries, 0 to 544\n",
      "Data columns (total 13 columns):\n",
      " #   Column          Non-Null Count  Dtype  \n",
      "---  ------          --------------  -----  \n",
      " 0   price           545 non-null    int64  \n",
      " 1   area            545 non-null    int64  \n",
      " 2   bedrooms        545 non-null    int64  \n",
      " 3   bathrooms       545 non-null    int64  \n",
      " 4   washingmachine  545 non-null    int64  \n",
      " 5   dtcenter        545 non-null    float64\n",
      " 6   dtrec           545 non-null    float64\n",
      " 7   dthospital      545 non-null    float64\n",
      " 8   hotwater        545 non-null    int64  \n",
      " 9   ac              545 non-null    int64  \n",
      " 10  furnish         545 non-null    int64  \n",
      " 11  parking         545 non-null    int64  \n",
      " 12  security        545 non-null    int64  \n",
      "dtypes: float64(3), int64(10)\n",
      "memory usage: 55.5 KB\n"
     ]
    }
   ],
   "source": [
    "housing.info()"
   ]
  },
  {
   "cell_type": "code",
   "execution_count": 139,
   "metadata": {},
   "outputs": [],
   "source": [
    "# outlier treatment for price\n",
    "Q1 = housing.price.quantile(0.15)\n",
    "Q3 = housing.price.quantile(0.85)\n",
    "IQR = Q3 - Q1\n",
    "#housing = housing[(housing.price >= Q1 - 1.5*IQR) & (housing.price <= Q3 + 1.5*IQR)]"
   ]
  },
  {
   "cell_type": "code",
   "execution_count": 140,
   "metadata": {},
   "outputs": [],
   "source": [
    "# outlier treatment for area\n",
    "Q1 = housing.area.quantile(0.15)\n",
    "Q3 = housing.area.quantile(0.85)\n",
    "IQR = Q3 - Q1\n",
    "#housing = housing[(housing.area >= Q1 - 1.5*IQR) & (housing.area <= Q3 + 1.5*IQR)]"
   ]
  },
  {
   "cell_type": "code",
   "execution_count": 141,
   "metadata": {},
   "outputs": [],
   "source": [
    "# We specify this so that the train and test data set always have the same rows, respectively\n",
    "np.random.seed(0)\n",
    "df_train, df_test = train_test_split(housing, train_size = 0.7, test_size = 0.3, random_state = 100)"
   ]
  },
  {
   "cell_type": "code",
   "execution_count": 142,
   "metadata": {},
   "outputs": [],
   "source": [
    "from sklearn.preprocessing import MinMaxScaler\n",
    "scaler = MinMaxScaler()"
   ]
  },
  {
   "cell_type": "code",
   "execution_count": 143,
   "metadata": {},
   "outputs": [],
   "source": [
    "# Apply scaler() to all the columns except the 'yes-no' and 'dummy' variables\n",
    "num_vars = ['price', 'area', 'bedrooms', 'bathrooms', 'washingmachine', 'dtcenter', 'dtrec','dthospital', 'hotwater', 'ac', 'furnish', 'parking', 'security']\n",
    "df_train[num_vars] = scaler.fit_transform(df_train[num_vars])"
   ]
  },
  {
   "cell_type": "code",
   "execution_count": 144,
   "metadata": {},
   "outputs": [],
   "source": [
    "y_train = df_train.pop('price')\n",
    "X_train = df_train"
   ]
  },
  {
   "cell_type": "code",
   "execution_count": 145,
   "metadata": {},
   "outputs": [
    {
     "name": "stdout",
     "output_type": "stream",
     "text": [
      "0.17580342358841325\n",
      "[ 0.296664    0.03777617  0.13669332  0.01367207 -0.33882379  0.01869204\n",
      " -0.0350562   0.01848231  0.02038838  0.01032112  0.09683421  0.02076868]\n"
     ]
    }
   ],
   "source": [
    "lm = LinearRegression()\n",
    "lm.fit(X_train, y_train)\n",
    "\n",
    "print(lm.intercept_)\n",
    "print(lm.coef_)"
   ]
  },
  {
   "cell_type": "code",
   "execution_count": 146,
   "metadata": {},
   "outputs": [],
   "source": [
    "lm = sm.OLS(y_train,X_train).fit()   # Running the linear model"
   ]
  },
  {
   "cell_type": "code",
   "execution_count": 147,
   "metadata": {},
   "outputs": [
    {
     "name": "stdout",
     "output_type": "stream",
     "text": [
      "const    0.497892\n",
      "x1      -0.384497\n",
      "x2      -0.153595\n",
      "x3      -0.736540\n",
      "x4      -0.024571\n",
      "           ...   \n",
      "x86     -0.008968\n",
      "x87      0.034700\n",
      "x88     -0.111058\n",
      "x89      0.067731\n",
      "x90     -0.027134\n",
      "Length: 91, dtype: float64\n"
     ]
    }
   ],
   "source": [
    "from sklearn.preprocessing import PolynomialFeatures\n",
    "polynomial_features= PolynomialFeatures(degree=2, include_bias=True)\n",
    "xp = polynomial_features.fit_transform(X_train)\n",
    "xp.shape\n",
    "\n",
    "model_2 = sm.OLS(y_train, xp).fit()\n",
    "\n",
    "print(model_2.params)"
   ]
  },
  {
   "cell_type": "code",
   "execution_count": 148,
   "metadata": {},
   "outputs": [
    {
     "name": "stdout",
     "output_type": "stream",
     "text": [
      "                                 OLS Regression Results                                \n",
      "=======================================================================================\n",
      "Dep. Variable:                  price   R-squared (uncentered):                   0.949\n",
      "Model:                            OLS   Adj. R-squared (uncentered):              0.947\n",
      "Method:                 Least Squares   F-statistic:                              573.3\n",
      "Date:                Tue, 28 Nov 2023   Prob (F-statistic):                   3.71e-230\n",
      "Time:                        11:10:08   Log-Likelihood:                          468.06\n",
      "No. Observations:                 381   AIC:                                     -912.1\n",
      "Df Residuals:                     369   BIC:                                     -864.8\n",
      "Df Model:                          12                                                  \n",
      "Covariance Type:            nonrobust                                                  \n",
      "==================================================================================\n",
      "                     coef    std err          t      P>|t|      [0.025      0.975]\n",
      "----------------------------------------------------------------------------------\n",
      "area               0.4332      0.026     16.877      0.000       0.383       0.484\n",
      "bedrooms           0.0322      0.020      1.649      0.100      -0.006       0.071\n",
      "bathrooms          0.1733      0.018      9.408      0.000       0.137       0.210\n",
      "washingmachine     0.0180      0.009      2.117      0.035       0.001       0.035\n",
      "dtcenter          -0.2598      0.023    -11.323      0.000      -0.305      -0.215\n",
      "dtrec              0.0365      0.027      1.378      0.169      -0.016       0.089\n",
      "dthospital        -0.0157      0.026     -0.598      0.550      -0.067       0.036\n",
      "hotwater           0.0458      0.012      3.793      0.000       0.022       0.069\n",
      "ac                 0.0425      0.012      3.671      0.000       0.020       0.065\n",
      "furnish            0.0183      0.010      1.778      0.076      -0.002       0.038\n",
      "parking            0.1317      0.020      6.618      0.000       0.093       0.171\n",
      "security           0.0336      0.012      2.858      0.005       0.010       0.057\n",
      "==============================================================================\n",
      "Omnibus:                      113.241   Durbin-Watson:                   1.813\n",
      "Prob(Omnibus):                  0.000   Jarque-Bera (JB):              403.503\n",
      "Skew:                           1.295   Prob(JB):                     2.40e-88\n",
      "Kurtosis:                       7.325   Cond. No.                         16.7\n",
      "==============================================================================\n",
      "\n",
      "Notes:\n",
      "[1] R² is computed without centering (uncentered) since the model does not contain a constant.\n",
      "[2] Standard Errors assume that the covariance matrix of the errors is correctly specified.\n"
     ]
    }
   ],
   "source": [
    "#Let's see the summary of our linear model\\\n",
    "print(lm.summary())"
   ]
  },
  {
   "cell_type": "code",
   "execution_count": 149,
   "metadata": {},
   "outputs": [
    {
     "name": "stdout",
     "output_type": "stream",
     "text": [
      "                            OLS Regression Results                            \n",
      "==============================================================================\n",
      "Dep. Variable:                  price   R-squared:                       0.920\n",
      "Model:                            OLS   Adj. R-squared:                  0.897\n",
      "Method:                 Least Squares   F-statistic:                     38.97\n",
      "Date:                Tue, 28 Nov 2023   Prob (F-statistic):          1.04e-120\n",
      "Time:                        11:10:09   Log-Likelihood:                 625.34\n",
      "No. Observations:                 381   AIC:                            -1075.\n",
      "Df Residuals:                     293   BIC:                            -727.7\n",
      "Df Model:                          87                                         \n",
      "Covariance Type:            nonrobust                                         \n",
      "==============================================================================\n",
      "                 coef    std err          t      P>|t|      [0.025      0.975]\n",
      "------------------------------------------------------------------------------\n",
      "const          0.4979      0.319      1.562      0.119      -0.130       1.125\n",
      "x1            -0.3845      0.480     -0.802      0.423      -1.329       0.560\n",
      "x2            -0.1536      0.203     -0.756      0.450      -0.553       0.246\n",
      "x3            -0.7365      0.190     -3.878      0.000      -1.110      -0.363\n",
      "x4            -0.0246      0.046     -0.531      0.596      -0.116       0.066\n",
      "x5            -0.4844      0.366     -1.324      0.187      -1.204       0.236\n",
      "x6             0.5036      0.258      1.949      0.052      -0.005       1.012\n",
      "x7            -0.3172      0.254     -1.250      0.212      -0.817       0.182\n",
      "x8             0.0825      0.077      1.076      0.283      -0.068       0.233\n",
      "x9            -0.0594      0.062     -0.964      0.336      -0.181       0.062\n",
      "x10            0.1083      0.111      0.978      0.329      -0.110       0.326\n",
      "x11            0.2594      0.253      1.026      0.306      -0.238       0.757\n",
      "x12           -0.2794      0.136     -2.054      0.041      -0.547      -0.012\n",
      "x13            0.3056      0.193      1.581      0.115      -0.075       0.686\n",
      "x14            0.2830      0.242      1.169      0.243      -0.193       0.759\n",
      "x15            0.9657      0.181      5.347      0.000       0.610       1.321\n",
      "x16            0.1660      0.101      1.651      0.100      -0.032       0.364\n",
      "x17            0.2731      0.345      0.792      0.429      -0.406       0.952\n",
      "x18           -0.5860      0.287     -2.042      0.042      -1.151      -0.021\n",
      "x19            0.0870      0.284      0.306      0.760      -0.472       0.646\n",
      "x20           -0.2326      0.139     -1.669      0.096      -0.507       0.042\n",
      "x21            0.0720      0.122      0.592      0.555      -0.168       0.312\n",
      "x22           -0.0628      0.117     -0.535      0.593      -0.294       0.168\n",
      "x23           -0.0928      0.238     -0.390      0.697      -0.562       0.376\n",
      "x24            0.1739      0.155      1.126      0.261      -0.130       0.478\n",
      "x25           -0.1300      0.105     -1.243      0.215      -0.336       0.076\n",
      "x26            0.1214      0.107      1.134      0.258      -0.089       0.332\n",
      "x27            0.0188      0.040      0.470      0.638      -0.060       0.097\n",
      "x28           -0.0308      0.162     -0.190      0.850      -0.351       0.289\n",
      "x29            0.1386      0.139      0.999      0.318      -0.134       0.412\n",
      "x30            0.1241      0.129      0.963      0.337      -0.130       0.378\n",
      "x31            0.0077      0.063      0.121      0.904      -0.117       0.133\n",
      "x32            0.0460      0.063      0.728      0.467      -0.078       0.170\n",
      "x33            0.0003      0.059      0.005      0.996      -0.115       0.115\n",
      "x34            0.0401      0.145      0.278      0.781      -0.244       0.325\n",
      "x35           -0.0478      0.059     -0.814      0.417      -0.163       0.068\n",
      "x36            0.1911      0.093      2.044      0.042       0.007       0.375\n",
      "x37            0.0292      0.044      0.658      0.511      -0.058       0.117\n",
      "x38            0.0979      0.138      0.710      0.478      -0.173       0.369\n",
      "x39           -0.1898      0.131     -1.450      0.148      -0.447       0.068\n",
      "x40            0.3057      0.155      1.976      0.049       0.001       0.610\n",
      "x41            0.0887      0.063      1.406      0.161      -0.035       0.213\n",
      "x42            0.0653      0.064      1.019      0.309      -0.061       0.191\n",
      "x43           -0.0664      0.055     -1.198      0.232      -0.175       0.043\n",
      "x44            0.1198      0.117      1.020      0.308      -0.111       0.351\n",
      "x45            0.1216      0.070      1.744      0.082      -0.016       0.259\n",
      "x46           -0.0246      0.046     -0.531      0.596      -0.116       0.066\n",
      "x47           -0.0509      0.059     -0.859      0.391      -0.167       0.066\n",
      "x48           -0.0430      0.058     -0.738      0.461      -0.158       0.072\n",
      "x49            0.0114      0.051      0.223      0.824      -0.089       0.112\n",
      "x50            0.0640      0.039      1.622      0.106      -0.014       0.142\n",
      "x51           -0.0382      0.029     -1.329      0.185      -0.095       0.018\n",
      "x52           -0.0256      0.021     -1.226      0.221      -0.067       0.016\n",
      "x53            0.0023      0.044      0.052      0.959      -0.084       0.088\n",
      "x54            0.0437      0.023      1.928      0.055      -0.001       0.088\n",
      "x55            0.2745      0.139      1.973      0.049       0.001       0.548\n",
      "x56           -0.2694      0.191     -1.410      0.160      -0.645       0.107\n",
      "x57            0.1452      0.221      0.656      0.512      -0.290       0.581\n",
      "x58           -0.0980      0.113     -0.869      0.386      -0.320       0.124\n",
      "x59            0.0249      0.087      0.285      0.776      -0.147       0.197\n",
      "x60           -0.0405      0.071     -0.570      0.569      -0.180       0.099\n",
      "x61           -0.2467      0.181     -1.366      0.173      -0.602       0.109\n",
      "x62            0.0690      0.086      0.805      0.421      -0.100       0.238\n",
      "x63           -0.3027      0.140     -2.165      0.031      -0.578      -0.028\n",
      "x64            0.3786      0.159      2.383      0.018       0.066       0.691\n",
      "x65           -0.0712      0.072     -0.987      0.324      -0.213       0.071\n",
      "x66            0.0146      0.074      0.197      0.844      -0.132       0.161\n",
      "x67            0.0128      0.073      0.176      0.860      -0.131       0.156\n",
      "x68           -0.0785      0.127     -0.617      0.538      -0.329       0.172\n",
      "x69           -0.0750      0.080     -0.938      0.349      -0.232       0.082\n",
      "x70           -0.1052      0.138     -0.764      0.446      -0.376       0.166\n",
      "x71           -0.0986      0.086     -1.142      0.255      -0.268       0.071\n",
      "x72           -0.0028      0.077     -0.036      0.971      -0.154       0.149\n",
      "x73           -0.0367      0.061     -0.600      0.549      -0.157       0.084\n",
      "x74            0.0698      0.138      0.506      0.613      -0.202       0.342\n",
      "x75            0.0728      0.072      1.007      0.315      -0.070       0.215\n",
      "x76            0.0825      0.077      1.076      0.283      -0.068       0.233\n",
      "x77            0.0780      0.030      2.613      0.009       0.019       0.137\n",
      "x78           -0.0533      0.041     -1.299      0.195      -0.134       0.027\n",
      "x79           -0.0577      0.062     -0.930      0.353      -0.180       0.064\n",
      "x80            0.0371      0.042      0.891      0.373      -0.045       0.119\n",
      "x81           -0.0594      0.062     -0.964      0.336      -0.181       0.062\n",
      "x82            0.0244      0.033      0.735      0.463      -0.041       0.090\n",
      "x83           -0.0189      0.065     -0.290      0.772      -0.147       0.110\n",
      "x84            0.0883      0.041      2.156      0.032       0.008       0.169\n",
      "x85            0.0041      0.026      0.158      0.875      -0.047       0.055\n",
      "x86           -0.0090      0.055     -0.163      0.871      -0.117       0.099\n",
      "x87            0.0347      0.030      1.176      0.241      -0.023       0.093\n",
      "x88           -0.1111      0.104     -1.064      0.288      -0.317       0.094\n",
      "x89            0.0677      0.060      1.126      0.261      -0.051       0.186\n",
      "x90           -0.0271      0.036     -0.753      0.452      -0.098       0.044\n",
      "==============================================================================\n",
      "Omnibus:                      117.052   Durbin-Watson:                   1.955\n",
      "Prob(Omnibus):                  0.000   Jarque-Bera (JB):              635.697\n",
      "Skew:                           1.187   Prob(JB):                    9.12e-139\n",
      "Kurtosis:                       8.865   Cond. No.                     1.26e+16\n",
      "==============================================================================\n",
      "\n",
      "Notes:\n",
      "[1] Standard Errors assume that the covariance matrix of the errors is correctly specified.\n",
      "[2] The smallest eigenvalue is 3.1e-29. This might indicate that there are\n",
      "strong multicollinearity problems or that the design matrix is singular.\n"
     ]
    }
   ],
   "source": [
    "print(model_2.summary())"
   ]
  },
  {
   "cell_type": "code",
   "execution_count": 150,
   "metadata": {},
   "outputs": [],
   "source": [
    "# Importing the required libraries for plots.\n",
    "import matplotlib.pyplot as plt\n",
    "import seaborn as sns\n",
    "%matplotlib inline"
   ]
  },
  {
   "cell_type": "code",
   "execution_count": 151,
   "metadata": {},
   "outputs": [],
   "source": [
    "num_vars = ['price', 'area', 'bedrooms', 'bathrooms', 'washingmachine', 'dtcenter', 'dtrec','dthospital', 'hotwater', 'ac', 'furnish', 'parking', 'security']"
   ]
  },
  {
   "cell_type": "code",
   "execution_count": 152,
   "metadata": {},
   "outputs": [],
   "source": [
    "df_test[num_vars] = scaler.fit_transform(df_test[num_vars])"
   ]
  },
  {
   "cell_type": "code",
   "execution_count": 153,
   "metadata": {},
   "outputs": [],
   "source": [
    "y_test = df_test.pop('price')\n",
    "X_test = df_test"
   ]
  },
  {
   "cell_type": "code",
   "execution_count": 154,
   "metadata": {},
   "outputs": [],
   "source": [
    "# Adding constant variable to test dataframe\n",
    "#X_test = sm.add_constant(X_test)"
   ]
  },
  {
   "cell_type": "code",
   "execution_count": 155,
   "metadata": {},
   "outputs": [
    {
     "name": "stdout",
     "output_type": "stream",
     "text": [
      "Predicted Prices: [4151.713185416549]\n"
     ]
    }
   ],
   "source": [
    "def predict_prices_with_polynomial_model(model, polynomial_features, feature_names, new_data_dict_list):\n",
    "    predictions = []\n",
    "\n",
    "    for new_data_dict in new_data_dict_list:\n",
    "        # Extract features from the dictionary\n",
    "        new_data = [[new_data_dict[feature] for feature in feature_names]]\n",
    "\n",
    "        # Transform the new input features using PolynomialFeatures\n",
    "        new_data_transformed = polynomial_features.transform(new_data)\n",
    "\n",
    "        # Make predictions using the trained model\n",
    "        prediction = model.predict(new_data_transformed)\n",
    "        predictions.append(prediction[0])\n",
    "\n",
    "    return predictions\n",
    "\n",
    "# Example usage:\n",
    "new_data_dict_list = [\n",
    "    {'area': 120, 'bedrooms': 3, 'bathrooms': 2, 'washingmachine': 1, 'dtcenter': 5, 'dtrec': 10,\n",
    "     'dthospital': 3, 'hotwater': 1, 'ac': 1, 'furnish': 2, 'parking': 1, 'security': 1},\n",
    "    # Add more dictionaries for additional instances\n",
    "]   \n",
    "\n",
    "predictions = predict_prices_with_polynomial_model(model_2, polynomial_features, num_vars[1:], new_data_dict_list)\n",
    "print(\"Predicted Prices:\", predictions)\n"
   ]
  },
  {
   "cell_type": "code",
   "execution_count": 156,
   "metadata": {},
   "outputs": [],
   "source": [
    "xtt = polynomial_features.fit_transform(X_test)\n",
    "y_pred_2 = model_2.predict(xtt) "
   ]
  },
  {
   "cell_type": "code",
   "execution_count": 157,
   "metadata": {},
   "outputs": [],
   "source": [
    "# Making predictions\n",
    "y_pred = lm.predict(X_test)"
   ]
  },
  {
   "cell_type": "code",
   "execution_count": 158,
   "metadata": {},
   "outputs": [
    {
     "data": {
      "text/plain": [
       "0.7086689704077824"
      ]
     },
     "execution_count": 158,
     "metadata": {},
     "output_type": "execute_result"
    }
   ],
   "source": [
    "from sklearn.metrics import r2_score \n",
    "r2_score(y_test, y_pred)"
   ]
  },
  {
   "cell_type": "code",
   "execution_count": 159,
   "metadata": {},
   "outputs": [
    {
     "data": {
      "text/plain": [
       "0.7479261981173886"
      ]
     },
     "execution_count": 159,
     "metadata": {},
     "output_type": "execute_result"
    }
   ],
   "source": [
    "r2_score(y_test,y_pred_2)"
   ]
  },
  {
   "cell_type": "code",
   "execution_count": 160,
   "metadata": {},
   "outputs": [
    {
     "data": {
      "text/plain": [
       "Text(0, 0.5, 'y_pred')"
      ]
     },
     "execution_count": 160,
     "metadata": {},
     "output_type": "execute_result"
    },
    {
     "data": {
      "image/png": "[encoded data removed]",
      "text/plain": [
       "<Figure size 640x480 with 1 Axes>"
      ]
     },
     "metadata": {},
     "output_type": "display_data"
    }
   ],
   "source": [
    "# Plotting y_test and y_pred to understand the spread.\n",
    "fig = plt.figure()\n",
    "plt.scatter(y_test,y_pred)\n",
    "fig.suptitle('y_test vs y_pred', fontsize=20)              # Plot heading \n",
    "plt.xlabel('y_test', fontsize=18)                          # X-label\n",
    "plt.ylabel('y_pred', fontsize=16)                          # Y-label"
   ]
  },
  {
   "cell_type": "code",
   "execution_count": 161,
   "metadata": {},
   "outputs": [
    {
     "data": {
      "text/plain": [
       "Text(0, 0.5, 'y_pred_2')"
      ]
     },
     "execution_count": 161,
     "metadata": {},
     "output_type": "execute_result"
    },
    {
     "data": {
      "image/png": "[encoded data removed]",
      "text/plain": [
       "<Figure size 640x480 with 1 Axes>"
      ]
     },
     "metadata": {},
     "output_type": "display_data"
    }
   ],
   "source": [
    "# Plotting y_test and y_pred to understand the spread.\n",
    "fig = plt.figure()\n",
    "plt.scatter(y_test,y_pred_2)\n",
    "fig.suptitle('y_test vs y_pred_2', fontsize=20)              # Plot heading \n",
    "plt.xlabel('y_test', fontsize=18)                          # X-label\n",
    "plt.ylabel('y_pred_2', fontsize=16)                          # Y-label"
   ]
  },
  {
   "cell_type": "code",
   "execution_count": null,
   "metadata": {},
   "outputs": [],
   "source": []
  }
 ],
 "metadata": {
  "kernelspec": {
   "display_name": "Python 3",
   "language": "python",
   "name": "python3"
  },
  "language_info": {
   "codemirror_mode": {
    "name": "ipython",
    "version": 3
   },
   "file_extension": ".py",
   "mimetype": "text/x-python",
   "name": "python",
   "nbconvert_exporter": "python",
   "pygments_lexer": "ipython3",
   "version": "3.11.1"
  }
 },
 "nbformat": 4,
 "nbformat_minor": 2
}
