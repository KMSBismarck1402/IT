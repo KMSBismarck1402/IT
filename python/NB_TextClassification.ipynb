{
<<<<<<< HEAD
=======
  "nbformat": 4,
  "nbformat_minor": 0,
  "metadata": {
    "colab": {
      "provenance": [],
      "include_colab_link": true
    },
    "kernelspec": {
      "name": "python3",
      "display_name": "Python 3"
    },
    "language_info": {
      "name": "python"
    }
  },
>>>>>>> 9cee803566b13ba30624193cf2df4b5360e1b0d1
  "cells": [
    {
      "cell_type": "markdown",
      "metadata": {
<<<<<<< HEAD
        "colab_type": "text",
        "id": "view-in-github"
=======
        "id": "view-in-github",
        "colab_type": "text"
>>>>>>> 9cee803566b13ba30624193cf2df4b5360e1b0d1
      },
      "source": [
        "<a href=\"https://colab.research.google.com/github/KMSBismarck1402/IT/blob/main/python/NB_TextClassification.ipynb\" target=\"_parent\"><img src=\"https://colab.research.google.com/assets/colab-badge.svg\" alt=\"Open In Colab\"/></a>"
      ]
    },
    {
      "cell_type": "code",
      "execution_count": null,
      "metadata": {
        "colab": {
          "base_uri": "https://localhost:8080/"
        },
        "id": "_gAF_20tkLra",
        "outputId": "6a2de8b4-d262-48b8-8060-276a9db22321"
      },
      "outputs": [
        {
<<<<<<< HEAD
=======
          "output_type": "execute_result",
>>>>>>> 9cee803566b13ba30624193cf2df4b5360e1b0d1
          "data": {
            "text/plain": [
              "['alt.atheism',\n",
              " 'comp.graphics',\n",
              " 'comp.os.ms-windows.misc',\n",
              " 'comp.sys.ibm.pc.hardware',\n",
              " 'comp.sys.mac.hardware',\n",
              " 'comp.windows.x',\n",
              " 'misc.forsale',\n",
              " 'rec.autos',\n",
              " 'rec.motorcycles',\n",
              " 'rec.sport.baseball',\n",
              " 'rec.sport.hockey',\n",
              " 'sci.crypt',\n",
              " 'sci.electronics',\n",
              " 'sci.med',\n",
              " 'sci.space',\n",
              " 'soc.religion.christian',\n",
              " 'talk.politics.guns',\n",
              " 'talk.politics.mideast',\n",
              " 'talk.politics.misc',\n",
              " 'talk.religion.misc']"
            ]
          },
<<<<<<< HEAD
          "execution_count": 17,
          "metadata": {},
          "output_type": "execute_result"
=======
          "metadata": {},
          "execution_count": 17
>>>>>>> 9cee803566b13ba30624193cf2df4b5360e1b0d1
        }
      ],
      "source": [
        "%matplotlib inline\n",
        "import numpy\n",
        "import matplotlib.pyplot as plt\n",
        "# import seaborn as sns; sns.set()\n",
        "from sklearn.datasets import fetch_20newsgroups\n",
        "data = fetch_20newsgroups()\n",
        "data.target_names"
      ]
    },
    {
      "cell_type": "code",
<<<<<<< HEAD
      "execution_count": null,
      "metadata": {
        "colab": {
          "base_uri": "https://localhost:8080/"
        },
        "id": "qrU1vGTioG-5",
        "outputId": "1d73235e-5b8e-406f-d7d4-112ec8d1216c"
      },
      "outputs": [
        {
          "name": "stdout",
          "output_type": "stream",
          "text": [
            "11314\n",
            "7532\n",
            "[7 4 4 ... 3 1 8]\n"
          ]
        }
      ],
=======
>>>>>>> 9cee803566b13ba30624193cf2df4b5360e1b0d1
      "source": [
        "categories = data.target_names\n",
        "train = fetch_20newsgroups(subset='train', categories=categories)\n",
        "test = fetch_20newsgroups(subset='test', categories=categories)\n",
        "\n",
        "print(len(train.data))\n",
        "print(len(test.data))\n",
        "print(train.target)"
<<<<<<< HEAD
      ]
    },
    {
      "cell_type": "code",
      "execution_count": null,
=======
      ],
>>>>>>> 9cee803566b13ba30624193cf2df4b5360e1b0d1
      "metadata": {
        "colab": {
          "base_uri": "https://localhost:8080/"
        },
<<<<<<< HEAD
        "id": "w5QQYm3Jo3OK",
        "outputId": "532c0a3e-0981-4a98-b732-7b1f4a4fca6a"
      },
      "outputs": [
        {
          "name": "stdout",
          "output_type": "stream",
          "text": [
            "[ 7 11  0 ...  9  3 15]\n",
            "[7 4 4 ... 3 1 8]\n"
          ]
        }
      ],
=======
        "id": "qrU1vGTioG-5",
        "outputId": "1d73235e-5b8e-406f-d7d4-112ec8d1216c"
      },
      "execution_count": null,
      "outputs": [
        {
          "output_type": "stream",
          "name": "stdout",
          "text": [
            "11314\n",
            "7532\n",
            "[7 4 4 ... 3 1 8]\n"
          ]
        }
      ]
    },
    {
      "cell_type": "code",
>>>>>>> 9cee803566b13ba30624193cf2df4b5360e1b0d1
      "source": [
        "from sklearn.feature_extraction.text import TfidfVectorizer\n",
        "\n",
        "from sklearn.naive_bayes import MultinomialNB\n",
        "from sklearn.pipeline import make_pipeline\n",
        "\n",
        "# Creating a model based on Multinomial Naive Bayes\n",
        "model = make_pipeline(TfidfVectorizer(), MultinomialNB())\n",
        "\n",
        "# Training the model with the train data\n",
        "model.fit(train.data, train.target)\n",
        "\n",
        "# Creating labels for the test data\n",
        "labels = model.predict(test.data)\n",
        "\n",
        "print(labels)\n",
        "print(train.target)"
<<<<<<< HEAD
=======
      ],
      "metadata": {
        "colab": {
          "base_uri": "https://localhost:8080/"
        },
        "id": "w5QQYm3Jo3OK",
        "outputId": "532c0a3e-0981-4a98-b732-7b1f4a4fca6a"
      },
      "execution_count": null,
      "outputs": [
        {
          "output_type": "stream",
          "name": "stdout",
          "text": [
            "[ 7 11  0 ...  9  3 15]\n",
            "[7 4 4 ... 3 1 8]\n"
          ]
        }
>>>>>>> 9cee803566b13ba30624193cf2df4b5360e1b0d1
      ]
    },
    {
      "cell_type": "code",
<<<<<<< HEAD
      "execution_count": null,
      "metadata": {
        "id": "fU4GN8MlqWWA"
      },
      "outputs": [],
=======
      "source": [],
      "metadata": {
        "id": "eiZDFqtGsa2l"
      },
      "execution_count": null,
      "outputs": []
    },
    {
      "cell_type": "code",
      "source": [],
      "metadata": {
        "id": "8lKtF3V9sbN8"
      },
      "execution_count": null,
      "outputs": []
    },
    {
      "cell_type": "code",
>>>>>>> 9cee803566b13ba30624193cf2df4b5360e1b0d1
      "source": [
        "# Creating confusion matrix and heat map\n",
        "# from sklearn.metrics import confusion_matrix\n",
        "# mat = confusion_matrix(test.target, labels)\n",
        "# sns.heatmap(mat.T, square=True, annot=True, fmt='d', cbar=False, xticklabels=train.target_names, yticklabels=train.target_names)\n",
        "\n",
        "# # Ploting Heatmap of Confusion Matrix\n",
        "# plt.xlabel('true label')\n",
        "# plt.ylabel('predicted label')"
<<<<<<< HEAD
      ]
    },
    {
      "cell_type": "code",
      "execution_count": null,
      "metadata": {
        "id": "qUo926ECrZxJ"
      },
      "outputs": [],
=======
      ],
      "metadata": {
        "id": "fU4GN8MlqWWA"
      },
      "execution_count": null,
      "outputs": []
    },
    {
      "cell_type": "code",
>>>>>>> 9cee803566b13ba30624193cf2df4b5360e1b0d1
      "source": [
        "# Predicting category on new data based on trained model\n",
        "def predict_categoory(s, train=train, model=model):\n",
        "  pred = model.predict([s])\n",
        "  return train.target_names[pred[0]]"
<<<<<<< HEAD
      ]
    },
    {
      "cell_type": "code",
      "execution_count": null,
=======
      ],
      "metadata": {
        "id": "qUo926ECrZxJ"
      },
      "execution_count": null,
      "outputs": []
    },
    {
      "cell_type": "code",
      "source": [
        "predict_categoory('Jesus Christ')"
      ],
>>>>>>> 9cee803566b13ba30624193cf2df4b5360e1b0d1
      "metadata": {
        "colab": {
          "base_uri": "https://localhost:8080/",
          "height": 35
        },
        "id": "kWj-H6Mnr1ff",
        "outputId": "4e7cbcde-f019-497d-a741-d0c416e65b73"
      },
<<<<<<< HEAD
      "outputs": [
        {
          "data": {
            "application/vnd.google.colaboratory.intrinsic+json": {
              "type": "string"
            },
            "text/plain": [
              "'soc.religion.christian'"
            ]
          },
          "execution_count": 22,
          "metadata": {},
          "output_type": "execute_result"
        }
      ],
      "source": [
        "predict_categoory('Jesus Christ')"
=======
      "execution_count": null,
      "outputs": [
        {
          "output_type": "execute_result",
          "data": {
            "text/plain": [
              "'soc.religion.christian'"
            ],
            "application/vnd.google.colaboratory.intrinsic+json": {
              "type": "string"
            }
          },
          "metadata": {},
          "execution_count": 22
        }
>>>>>>> 9cee803566b13ba30624193cf2df4b5360e1b0d1
      ]
    },
    {
      "cell_type": "code",
<<<<<<< HEAD
      "execution_count": null,
=======
      "source": [
        "predict_categoory('Sending load to Internal Space Station')"
      ],
>>>>>>> 9cee803566b13ba30624193cf2df4b5360e1b0d1
      "metadata": {
        "colab": {
          "base_uri": "https://localhost:8080/",
          "height": 35
        },
        "id": "V3n8RCbZr-RQ",
        "outputId": "62efaf30-032c-41e5-84f4-55b33bfab50f"
      },
<<<<<<< HEAD
      "outputs": [
        {
          "data": {
            "application/vnd.google.colaboratory.intrinsic+json": {
              "type": "string"
            },
            "text/plain": [
              "'sci.space'"
            ]
          },
          "execution_count": 23,
          "metadata": {},
          "output_type": "execute_result"
        }
      ],
      "source": [
        "predict_categoory('Sending load to Internal Space Station')"
=======
      "execution_count": null,
      "outputs": [
        {
          "output_type": "execute_result",
          "data": {
            "text/plain": [
              "'sci.space'"
            ],
            "application/vnd.google.colaboratory.intrinsic+json": {
              "type": "string"
            }
          },
          "metadata": {},
          "execution_count": 23
        }
>>>>>>> 9cee803566b13ba30624193cf2df4b5360e1b0d1
      ]
    },
    {
      "cell_type": "code",
<<<<<<< HEAD
      "execution_count": null,
=======
      "source": [
        "predict_categoory('Suzuki Hayabusa is a very fast motorcycle')"
      ],
>>>>>>> 9cee803566b13ba30624193cf2df4b5360e1b0d1
      "metadata": {
        "colab": {
          "base_uri": "https://localhost:8080/",
          "height": 35
        },
        "id": "ZW4iM4s-sHcC",
        "outputId": "329459b3-9f79-4172-dcfa-54491e0949db"
      },
<<<<<<< HEAD
      "outputs": [
        {
          "data": {
            "application/vnd.google.colaboratory.intrinsic+json": {
              "type": "string"
            },
            "text/plain": [
              "'rec.motorcycles'"
            ]
          },
          "execution_count": 24,
          "metadata": {},
          "output_type": "execute_result"
        }
      ],
      "source": [
        "predict_categoory('Suzuki Hayabusa is a very fast motorcycle')"
=======
      "execution_count": null,
      "outputs": [
        {
          "output_type": "execute_result",
          "data": {
            "text/plain": [
              "'rec.motorcycles'"
            ],
            "application/vnd.google.colaboratory.intrinsic+json": {
              "type": "string"
            }
          },
          "metadata": {},
          "execution_count": 24
        }
>>>>>>> 9cee803566b13ba30624193cf2df4b5360e1b0d1
      ]
    },
    {
      "cell_type": "code",
<<<<<<< HEAD
      "execution_count": null,
=======
      "source": [
        "predict_categoory('Audi is cheaper than BMW')"
      ],
>>>>>>> 9cee803566b13ba30624193cf2df4b5360e1b0d1
      "metadata": {
        "colab": {
          "base_uri": "https://localhost:8080/",
          "height": 35
        },
        "id": "Cnt_CrQ4sS0o",
        "outputId": "6f8c7627-8568-4a2d-8458-b4dbc54b2acb"
      },
<<<<<<< HEAD
      "outputs": [
        {
          "data": {
            "application/vnd.google.colaboratory.intrinsic+json": {
              "type": "string"
            },
            "text/plain": [
              "'rec.autos'"
            ]
          },
          "execution_count": 25,
          "metadata": {},
          "output_type": "execute_result"
        }
      ],
      "source": [
        "predict_categoory('Audi is cheaper than BMW')"
=======
      "execution_count": null,
      "outputs": [
        {
          "output_type": "execute_result",
          "data": {
            "text/plain": [
              "'rec.autos'"
            ],
            "application/vnd.google.colaboratory.intrinsic+json": {
              "type": "string"
            }
          },
          "metadata": {},
          "execution_count": 25
        }
>>>>>>> 9cee803566b13ba30624193cf2df4b5360e1b0d1
      ]
    },
    {
      "cell_type": "code",
<<<<<<< HEAD
      "execution_count": null,
=======
      "source": [
        "predict_categoory('President of Vietnam')"
      ],
>>>>>>> 9cee803566b13ba30624193cf2df4b5360e1b0d1
      "metadata": {
        "colab": {
          "base_uri": "https://localhost:8080/",
          "height": 35
        },
        "id": "1gVv5qQPsYbt",
        "outputId": "87864160-92c9-4843-cc61-9d8b8700c08c"
      },
<<<<<<< HEAD
      "outputs": [
        {
          "data": {
            "application/vnd.google.colaboratory.intrinsic+json": {
              "type": "string"
            },
            "text/plain": [
              "'talk.politics.misc'"
            ]
          },
          "execution_count": 26,
          "metadata": {},
          "output_type": "execute_result"
        }
      ],
      "source": [
        "predict_categoory('President of Vietnam')"
      ]
    }
  ],
  "metadata": {
    "colab": {
      "include_colab_link": true,
      "provenance": []
    },
    "kernelspec": {
      "display_name": "Python 3",
      "name": "python3"
    },
    "language_info": {
      "name": "python"
    }
  },
  "nbformat": 4,
  "nbformat_minor": 0
}
=======
      "execution_count": null,
      "outputs": [
        {
          "output_type": "execute_result",
          "data": {
            "text/plain": [
              "'talk.politics.misc'"
            ],
            "application/vnd.google.colaboratory.intrinsic+json": {
              "type": "string"
            }
          },
          "metadata": {},
          "execution_count": 26
        }
      ]
    }
  ]
}
>>>>>>> 9cee803566b13ba30624193cf2df4b5360e1b0d1
