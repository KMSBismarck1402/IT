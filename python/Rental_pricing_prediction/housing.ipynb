{
 "cells": [
  {
   "cell_type": "code",
   "execution_count": 1,
   "metadata": {},
   "outputs": [],
   "source": [
    "# Supress Warnings\n",
    "\n",
    "import warnings\n",
    "warnings.filterwarnings('ignore')\n",
    "\n",
    "# Import the numpy and pandas package\n",
    "\n",
    "import numpy as np\n",
    "import pandas as pd\n",
    "\n",
    "# Data Visualisation\n",
    "\n",
    "import matplotlib.pyplot as plt \n",
    "import seaborn as sns\n",
    "\n",
    "#split data\n",
    "from sklearn.model_selection import train_test_split\n",
    "\n",
    "# Importing RFE and LinearRegression\n",
    "from sklearn.feature_selection import RFE\n",
    "from sklearn.linear_model import LinearRegression\n",
    "from sklearn.preprocessing import PolynomialFeatures\n",
    "import statsmodels.api as sm  "
   ]
  },
  {
   "cell_type": "code",
   "execution_count": 2,
   "metadata": {},
   "outputs": [],
   "source": [
    "housing = pd.DataFrame(pd.read_csv(\"Housing_data_final(9).csv\"))"
   ]
  },
  {
   "cell_type": "code",
   "execution_count": 3,
   "metadata": {},
   "outputs": [
    {
     "data": {
      "text/html": [
       "<div>\n",
       "<style scoped>\n",
       "    .dataframe tbody tr th:only-of-type {\n",
       "        vertical-align: middle;\n",
       "    }\n",
       "\n",
       "    .dataframe tbody tr th {\n",
       "        vertical-align: top;\n",
       "    }\n",
       "\n",
       "    .dataframe thead th {\n",
       "        text-align: right;\n",
       "    }\n",
       "</style>\n",
       "<table border=\"1\" class=\"dataframe\">\n",
       "  <thead>\n",
       "    <tr style=\"text-align: right;\">\n",
       "      <th></th>\n",
       "      <th>price</th>\n",
       "      <th>area</th>\n",
       "      <th>bedrooms</th>\n",
       "      <th>bathrooms</th>\n",
       "      <th>washingmachine</th>\n",
       "      <th>dtcenter</th>\n",
       "      <th>kitchen</th>\n",
       "      <th>ac</th>\n",
       "      <th>parking</th>\n",
       "      <th>security</th>\n",
       "      <th>furnish</th>\n",
       "    </tr>\n",
       "  </thead>\n",
       "  <tbody>\n",
       "    <tr>\n",
       "      <th>0</th>\n",
       "      <td>1197368.9</td>\n",
       "      <td>17.73</td>\n",
       "      <td>1</td>\n",
       "      <td>0</td>\n",
       "      <td>0</td>\n",
       "      <td>13.074938</td>\n",
       "      <td>1</td>\n",
       "      <td>0</td>\n",
       "      <td>0</td>\n",
       "      <td>1</td>\n",
       "      <td>1</td>\n",
       "    </tr>\n",
       "    <tr>\n",
       "      <th>1</th>\n",
       "      <td>1197368.9</td>\n",
       "      <td>16.36</td>\n",
       "      <td>1</td>\n",
       "      <td>1</td>\n",
       "      <td>0</td>\n",
       "      <td>12.826402</td>\n",
       "      <td>0</td>\n",
       "      <td>0</td>\n",
       "      <td>0</td>\n",
       "      <td>1</td>\n",
       "      <td>0</td>\n",
       "    </tr>\n",
       "    <tr>\n",
       "      <th>2</th>\n",
       "      <td>1197368.9</td>\n",
       "      <td>13.64</td>\n",
       "      <td>1</td>\n",
       "      <td>1</td>\n",
       "      <td>0</td>\n",
       "      <td>12.742620</td>\n",
       "      <td>0</td>\n",
       "      <td>1</td>\n",
       "      <td>1</td>\n",
       "      <td>1</td>\n",
       "      <td>0</td>\n",
       "    </tr>\n",
       "    <tr>\n",
       "      <th>3</th>\n",
       "      <td>1209102.7</td>\n",
       "      <td>10.91</td>\n",
       "      <td>1</td>\n",
       "      <td>1</td>\n",
       "      <td>0</td>\n",
       "      <td>12.305825</td>\n",
       "      <td>0</td>\n",
       "      <td>1</td>\n",
       "      <td>1</td>\n",
       "      <td>0</td>\n",
       "      <td>1</td>\n",
       "    </tr>\n",
       "    <tr>\n",
       "      <th>4</th>\n",
       "      <td>1210424.8</td>\n",
       "      <td>13.64</td>\n",
       "      <td>1</td>\n",
       "      <td>1</td>\n",
       "      <td>0</td>\n",
       "      <td>10.919276</td>\n",
       "      <td>0</td>\n",
       "      <td>0</td>\n",
       "      <td>1</td>\n",
       "      <td>1</td>\n",
       "      <td>0</td>\n",
       "    </tr>\n",
       "  </tbody>\n",
       "</table>\n",
       "</div>"
      ],
      "text/plain": [
       "       price   area  bedrooms  bathrooms  washingmachine   dtcenter  kitchen  \\\n",
       "0  1197368.9  17.73         1          0               0  13.074938        1   \n",
       "1  1197368.9  16.36         1          1               0  12.826402        0   \n",
       "2  1197368.9  13.64         1          1               0  12.742620        0   \n",
       "3  1209102.7  10.91         1          1               0  12.305825        0   \n",
       "4  1210424.8  13.64         1          1               0  10.919276        0   \n",
       "\n",
       "   ac  parking  security  furnish  \n",
       "0   0        0         1        1  \n",
       "1   0        0         1        0  \n",
       "2   1        1         1        0  \n",
       "3   1        1         0        1  \n",
       "4   0        1         1        0  "
      ]
     },
     "execution_count": 3,
     "metadata": {},
     "output_type": "execute_result"
    }
   ],
   "source": [
    "# Check the head of the dataset\n",
    "housing.head()"
   ]
  },
  {
   "cell_type": "code",
   "execution_count": 4,
   "metadata": {},
   "outputs": [
    {
     "data": {
      "text/plain": [
       "(1635, 11)"
      ]
     },
     "execution_count": 4,
     "metadata": {},
     "output_type": "execute_result"
    }
   ],
   "source": [
    "housing.shape"
   ]
  },
  {
   "cell_type": "code",
   "execution_count": 5,
   "metadata": {},
   "outputs": [
    {
     "name": "stdout",
     "output_type": "stream",
     "text": [
      "<class 'pandas.core.frame.DataFrame'>\n",
      "RangeIndex: 1635 entries, 0 to 1634\n",
      "Data columns (total 11 columns):\n",
      " #   Column          Non-Null Count  Dtype  \n",
      "---  ------          --------------  -----  \n",
      " 0   price           1635 non-null   float64\n",
      " 1   area            1635 non-null   float64\n",
      " 2   bedrooms        1635 non-null   int64  \n",
      " 3   bathrooms       1635 non-null   int64  \n",
      " 4   washingmachine  1635 non-null   int64  \n",
      " 5   dtcenter        1635 non-null   float64\n",
      " 6   kitchen         1635 non-null   int64  \n",
      " 7   ac              1635 non-null   int64  \n",
      " 8   parking         1635 non-null   int64  \n",
      " 9   security        1635 non-null   int64  \n",
      " 10  furnish         1635 non-null   int64  \n",
      "dtypes: float64(3), int64(8)\n",
      "memory usage: 140.6 KB\n"
     ]
    }
   ],
   "source": [
    "housing.info()"
   ]
  },
  {
   "cell_type": "code",
   "execution_count": 6,
   "metadata": {},
   "outputs": [],
   "source": [
    "# outlier treatment for area\n",
    "Q1 = housing.area.quantile(0.25)\n",
    "Q3 = housing.area.quantile(0.75)\n",
    "IQR = Q3 - Q1\n",
    "housing = housing[(housing.area >= Q1 - 1.5*IQR) & (housing.area <= Q3 + 1.5*IQR)]"
   ]
  },
  {
   "cell_type": "code",
   "execution_count": 7,
   "metadata": {},
   "outputs": [],
   "source": [
    "# outlier treatment for price\n",
    "Q1 = housing.price.quantile(0.25)\n",
    "Q3 = housing.price.quantile(0.75)\n",
    "IQR = Q3 - Q1\n",
    "housing = housing[(housing.price >= Q1 - 1.5*IQR) & (housing.price <= Q3 + 1.5*IQR)]"
   ]
  },
  {
   "cell_type": "code",
   "execution_count": 8,
   "metadata": {},
   "outputs": [],
   "source": [
    "# We specify this so that the train and test data set always have the same rows, respectively\n",
    "np.random.seed(0)\n",
    "df_train, df_test = train_test_split(housing, train_size = 0.7, test_size = 0.3, random_state = 100)"
   ]
  },
  {
   "cell_type": "code",
   "execution_count": 9,
   "metadata": {},
   "outputs": [],
   "source": [
    "from sklearn.preprocessing import MinMaxScaler\n",
    "scaler = MinMaxScaler()"
   ]
  },
  {
   "cell_type": "code",
   "execution_count": 10,
   "metadata": {},
   "outputs": [],
   "source": [
    "# Apply scaler() to all the columns except the 'yes-no' and 'dummy' variables\n",
    "num_vars = ['price', 'area', 'bedrooms', 'bathrooms', 'washingmachine', 'dtcenter', 'kitchen', 'ac', 'parking', 'security', 'furnish']\n",
    "df_train[num_vars] = scaler.fit_transform(df_train[num_vars])"
   ]
  },
  {
   "cell_type": "code",
   "execution_count": 11,
   "metadata": {},
   "outputs": [],
   "source": [
    "y_train = df_train.pop('price')\n",
    "X_train = df_train"
   ]
  },
  {
   "cell_type": "code",
   "execution_count": 12,
   "metadata": {},
   "outputs": [
    {
     "name": "stdout",
     "output_type": "stream",
     "text": [
      "-0.1511665230817149\n",
      "[ 0.56177158  0.00536587  0.19203556  0.05320522 -0.33947283  0.06737928\n",
      "  0.07387732  0.18705569  0.09351343  0.04064882]\n"
     ]
    }
   ],
   "source": [
    "lm = LinearRegression()\n",
    "lm.fit(X_train, y_train)\n",
    "\n",
    "print(lm.intercept_)\n",
    "print(lm.coef_)"
   ]
  },
  {
   "cell_type": "code",
   "execution_count": 13,
   "metadata": {},
   "outputs": [],
   "source": [
    "lm = sm.OLS(y_train,X_train).fit()   # Running the linear model"
   ]
  },
  {
   "cell_type": "code",
   "execution_count": 14,
   "metadata": {},
   "outputs": [
    {
     "name": "stdout",
     "output_type": "stream",
     "text": [
      "const   -5.055987e-01\n",
      "x1       1.227701e+00\n",
      "x2       1.971621e-01\n",
      "x3       2.154761e-02\n",
      "x4      -8.066544e+07\n",
      "             ...     \n",
      "x61     -2.117655e-02\n",
      "x62      3.619797e-02\n",
      "x63     -8.059873e-02\n",
      "x64     -1.913594e-02\n",
      "x65      7.053006e-04\n",
      "Length: 66, dtype: float64\n"
     ]
    }
   ],
   "source": [
    "from sklearn.preprocessing import PolynomialFeatures\n",
    "polynomial_features= PolynomialFeatures(degree=2, include_bias=True)\n",
    "xp = polynomial_features.fit_transform(X_train)\n",
    "xp.shape\n",
    "\n",
    "model_2 = sm.OLS(y_train, xp).fit()\n",
    "\n",
    "print(model_2.params)"
   ]
  },
  {
   "cell_type": "code",
   "execution_count": 15,
   "metadata": {},
   "outputs": [
    {
     "name": "stdout",
     "output_type": "stream",
     "text": [
      "                                 OLS Regression Results                                \n",
      "=======================================================================================\n",
      "Dep. Variable:                  price   R-squared (uncentered):                   0.939\n",
      "Model:                            OLS   Adj. R-squared (uncentered):              0.939\n",
      "Method:                 Least Squares   F-statistic:                              1697.\n",
      "Date:                Tue, 05 Dec 2023   Prob (F-statistic):                        0.00\n",
      "Time:                        23:18:07   Log-Likelihood:                          880.05\n",
      "No. Observations:                1110   AIC:                                     -1740.\n",
      "Df Residuals:                    1100   BIC:                                     -1690.\n",
      "Df Model:                          10                                                  \n",
      "Covariance Type:            nonrobust                                                  \n",
      "==================================================================================\n",
      "                     coef    std err          t      P>|t|      [0.025      0.975]\n",
      "----------------------------------------------------------------------------------\n",
      "area               0.4622      0.017     27.578      0.000       0.429       0.495\n",
      "bedrooms           0.0086      0.018      0.486      0.627      -0.026       0.043\n",
      "bathrooms          0.1377      0.016      8.477      0.000       0.106       0.170\n",
      "washingmachine     0.0531      0.007      7.432      0.000       0.039       0.067\n",
      "dtcenter          -0.4541      0.019    -24.302      0.000      -0.491      -0.417\n",
      "kitchen            0.0391      0.010      3.867      0.000       0.019       0.059\n",
      "ac                 0.0531      0.009      5.616      0.000       0.035       0.072\n",
      "parking            0.1633      0.017      9.378      0.000       0.129       0.197\n",
      "security           0.0834      0.010      7.971      0.000       0.063       0.104\n",
      "furnish            0.0360      0.009      3.961      0.000       0.018       0.054\n",
      "==============================================================================\n",
      "Omnibus:                       36.533   Durbin-Watson:                   1.937\n",
      "Prob(Omnibus):                  0.000   Jarque-Bera (JB):               43.089\n",
      "Skew:                           0.386   Prob(JB):                     4.40e-10\n",
      "Kurtosis:                       3.581   Cond. No.                         12.0\n",
      "==============================================================================\n",
      "\n",
      "Notes:\n",
      "[1] R² is computed without centering (uncentered) since the model does not contain a constant.\n",
      "[2] Standard Errors assume that the covariance matrix of the errors is correctly specified.\n"
     ]
    }
   ],
   "source": [
    "#Let's see the summary of our linear model\\\n",
    "print(lm.summary())"
   ]
  },
  {
   "cell_type": "code",
   "execution_count": 16,
   "metadata": {},
   "outputs": [
    {
     "data": {
      "text/html": [
       "<div>\n",
       "<style scoped>\n",
       "    .dataframe tbody tr th:only-of-type {\n",
       "        vertical-align: middle;\n",
       "    }\n",
       "\n",
       "    .dataframe tbody tr th {\n",
       "        vertical-align: top;\n",
       "    }\n",
       "\n",
       "    .dataframe thead th {\n",
       "        text-align: right;\n",
       "    }\n",
       "</style>\n",
       "<table border=\"1\" class=\"dataframe\">\n",
       "  <thead>\n",
       "    <tr style=\"text-align: right;\">\n",
       "      <th></th>\n",
       "      <th>Features</th>\n",
       "      <th>VIF</th>\n",
       "    </tr>\n",
       "  </thead>\n",
       "  <tbody>\n",
       "    <tr>\n",
       "      <th>5</th>\n",
       "      <td>kitchen</td>\n",
       "      <td>8.25</td>\n",
       "    </tr>\n",
       "    <tr>\n",
       "      <th>2</th>\n",
       "      <td>bathrooms</td>\n",
       "      <td>7.58</td>\n",
       "    </tr>\n",
       "    <tr>\n",
       "      <th>7</th>\n",
       "      <td>parking</td>\n",
       "      <td>7.32</td>\n",
       "    </tr>\n",
       "    <tr>\n",
       "      <th>6</th>\n",
       "      <td>ac</td>\n",
       "      <td>6.89</td>\n",
       "    </tr>\n",
       "    <tr>\n",
       "      <th>0</th>\n",
       "      <td>area</td>\n",
       "      <td>4.43</td>\n",
       "    </tr>\n",
       "    <tr>\n",
       "      <th>8</th>\n",
       "      <td>security</td>\n",
       "      <td>4.20</td>\n",
       "    </tr>\n",
       "    <tr>\n",
       "      <th>3</th>\n",
       "      <td>washingmachine</td>\n",
       "      <td>2.65</td>\n",
       "    </tr>\n",
       "    <tr>\n",
       "      <th>9</th>\n",
       "      <td>furnish</td>\n",
       "      <td>2.56</td>\n",
       "    </tr>\n",
       "    <tr>\n",
       "      <th>4</th>\n",
       "      <td>dtcenter</td>\n",
       "      <td>2.15</td>\n",
       "    </tr>\n",
       "    <tr>\n",
       "      <th>1</th>\n",
       "      <td>bedrooms</td>\n",
       "      <td>1.37</td>\n",
       "    </tr>\n",
       "  </tbody>\n",
       "</table>\n",
       "</div>"
      ],
      "text/plain": [
       "         Features   VIF\n",
       "5         kitchen  8.25\n",
       "2       bathrooms  7.58\n",
       "7         parking  7.32\n",
       "6              ac  6.89\n",
       "0            area  4.43\n",
       "8        security  4.20\n",
       "3  washingmachine  2.65\n",
       "9         furnish  2.56\n",
       "4        dtcenter  2.15\n",
       "1        bedrooms  1.37"
      ]
     },
     "execution_count": 16,
     "metadata": {},
     "output_type": "execute_result"
    }
   ],
   "source": [
    "from statsmodels.stats.outliers_influence import variance_inflation_factor\n",
    "vif = pd.DataFrame()\n",
    "X = X_train\n",
    "vif['Features'] = X.columns\n",
    "vif['VIF'] = [variance_inflation_factor(X.values, i) for i in range(X.shape[1])]\n",
    "vif['VIF'] = round(vif['VIF'], 2)\n",
    "vif = vif.sort_values(by = \"VIF\", ascending = False)\n",
    "vif"
   ]
  },
  {
   "cell_type": "code",
   "execution_count": 17,
   "metadata": {},
   "outputs": [
    {
     "name": "stdout",
     "output_type": "stream",
     "text": [
      "                            OLS Regression Results                            \n",
      "==============================================================================\n",
      "Dep. Variable:                  price   R-squared:                       0.851\n",
      "Model:                            OLS   Adj. R-squared:                  0.842\n",
      "Method:                 Least Squares   F-statistic:                     96.46\n",
      "Date:                Tue, 05 Dec 2023   Prob (F-statistic):               0.00\n",
      "Time:                        23:18:08   Log-Likelihood:                 1201.3\n",
      "No. Observations:                1110   AIC:                            -2277.\n",
      "Df Residuals:                    1047   BIC:                            -1961.\n",
      "Df Model:                          62                                         \n",
      "Covariance Type:            nonrobust                                         \n",
      "==============================================================================\n",
      "                 coef    std err          t      P>|t|      [0.025      0.975]\n",
      "------------------------------------------------------------------------------\n",
      "const         -0.5056      0.099     -5.105      0.000      -0.700      -0.311\n",
      "x1             1.2277      0.170      7.236      0.000       0.895       1.561\n",
      "x2             0.1972      0.127      1.554      0.121      -0.052       0.446\n",
      "x3             0.0215      0.133      0.161      0.872      -0.240       0.283\n",
      "x4         -8.067e+07   8.48e+07     -0.952      0.341   -2.47e+08    8.57e+07\n",
      "x5             1.1681      0.194      6.016      0.000       0.787       1.549\n",
      "x6         -2.189e+11    2.3e+11     -0.952      0.341    -6.7e+11    2.32e+11\n",
      "x7         -3.275e+08   3.44e+08     -0.952      0.341      -1e+09    3.48e+08\n",
      "x8             0.5602      0.102      5.519      0.000       0.361       0.759\n",
      "x9             0.1369      0.067      2.041      0.041       0.005       0.268\n",
      "x10            0.3154      0.055      5.754      0.000       0.208       0.423\n",
      "x11           -0.3566      0.091     -3.919      0.000      -0.535      -0.178\n",
      "x12           -0.2479      0.127     -1.949      0.052      -0.497       0.002\n",
      "x13            0.2505      0.122      2.052      0.040       0.011       0.490\n",
      "x14            0.0184      0.045      0.411      0.681      -0.070       0.107\n",
      "x15           -1.7864      0.167    -10.702      0.000      -2.114      -1.459\n",
      "x16           -0.0362      0.051     -0.714      0.476      -0.136       0.063\n",
      "x17            0.0382      0.052      0.729      0.466      -0.065       0.141\n",
      "x18           -0.3167      0.123     -2.575      0.010      -0.558      -0.075\n",
      "x19            0.0031      0.068      0.046      0.963      -0.131       0.137\n",
      "x20           -0.2319      0.050     -4.596      0.000      -0.331      -0.133\n",
      "x21           -0.0867      0.110     -0.787      0.431      -0.303       0.129\n",
      "x22            0.0351      0.084      0.419      0.675      -0.129       0.200\n",
      "x23           -0.0047      0.032     -0.145      0.885      -0.068       0.059\n",
      "x24           -0.0101      0.127     -0.080      0.937      -0.259       0.239\n",
      "x25            0.0729      0.052      1.410      0.159      -0.029       0.174\n",
      "x26           -0.0612      0.046     -1.326      0.185      -0.152       0.029\n",
      "x27           -0.1160      0.098     -1.179      0.239      -0.309       0.077\n",
      "x28           -0.0747      0.045     -1.642      0.101      -0.164       0.015\n",
      "x29           -0.0539      0.041     -1.306      0.192      -0.135       0.027\n",
      "x30            0.1613      0.075      2.156      0.031       0.015       0.308\n",
      "x31           -0.0070      0.034     -0.206      0.837      -0.074       0.060\n",
      "x32           -0.3089      0.150     -2.063      0.039      -0.603      -0.015\n",
      "x33            0.0659      0.046      1.441      0.150      -0.024       0.156\n",
      "x34            0.1342      0.050      2.688      0.007       0.036       0.232\n",
      "x35           -0.1713      0.103     -1.659      0.098      -0.374       0.031\n",
      "x36           -0.1140      0.061     -1.884      0.060      -0.233       0.005\n",
      "x37           -0.2048      0.041     -4.953      0.000      -0.286      -0.124\n",
      "x38         8.067e+07   8.48e+07      0.952      0.341   -8.57e+07    2.47e+08\n",
      "x39           -0.1181      0.046     -2.542      0.011      -0.209      -0.027\n",
      "x40           -0.0608      0.021     -2.842      0.005      -0.103      -0.019\n",
      "x41            0.0065      0.018      0.357      0.721      -0.029       0.042\n",
      "x42            0.0583      0.031      1.865      0.062      -0.003       0.120\n",
      "x43            0.0398      0.019      2.099      0.036       0.003       0.077\n",
      "x44            0.0034      0.016      0.215      0.830      -0.028       0.035\n",
      "x45           -0.1414      0.106     -1.330      0.184      -0.350       0.067\n",
      "x46           -0.1656      0.062     -2.689      0.007      -0.287      -0.045\n",
      "x47           -0.1888      0.059     -3.180      0.002      -0.305      -0.072\n",
      "x48           -0.7225      0.092     -7.843      0.000      -0.903      -0.542\n",
      "x49           -0.1983      0.072     -2.765      0.006      -0.339      -0.058\n",
      "x50           -0.3349      0.060     -5.621      0.000      -0.452      -0.218\n",
      "x51         2.189e+11    2.3e+11      0.952      0.341   -2.32e+11     6.7e+11\n",
      "x52            0.0214      0.021      1.039      0.299      -0.019       0.062\n",
      "x53           -0.0806      0.049     -1.635      0.102      -0.177       0.016\n",
      "x54            0.0029      0.031      0.095      0.924      -0.058       0.064\n",
      "x55            0.0117      0.025      0.475      0.635      -0.037       0.060\n",
      "x56         3.275e+08   3.44e+08      0.952      0.341   -3.48e+08       1e+09\n",
      "x57           -0.0603      0.044     -1.380      0.168      -0.146       0.025\n",
      "x58            0.1422      0.031      4.524      0.000       0.080       0.204\n",
      "x59           -0.0384      0.023     -1.672      0.095      -0.083       0.007\n",
      "x60            0.0889      0.068      1.309      0.191      -0.044       0.222\n",
      "x61           -0.0212      0.046     -0.464      0.643      -0.111       0.068\n",
      "x62            0.0362      0.041      0.894      0.372      -0.043       0.116\n",
      "x63           -0.0806      0.028     -2.878      0.004      -0.136      -0.026\n",
      "x64           -0.0191      0.023     -0.827      0.409      -0.065       0.026\n",
      "x65            0.0007      0.022      0.032      0.974      -0.042       0.044\n",
      "==============================================================================\n",
      "Omnibus:                       41.072   Durbin-Watson:                   1.950\n",
      "Prob(Omnibus):                  0.000   Jarque-Bera (JB):              112.507\n",
      "Skew:                          -0.000   Prob(JB):                     3.71e-25\n",
      "Kurtosis:                       4.560   Cond. No.                     1.11e+16\n",
      "==============================================================================\n",
      "\n",
      "Notes:\n",
      "[1] Standard Errors assume that the covariance matrix of the errors is correctly specified.\n",
      "[2] The smallest eigenvalue is 1.01e-28. This might indicate that there are\n",
      "strong multicollinearity problems or that the design matrix is singular.\n"
     ]
    }
   ],
   "source": [
    "print(model_2.summary())"
   ]
  },
  {
   "cell_type": "code",
   "execution_count": 18,
   "metadata": {},
   "outputs": [],
   "source": [
    "# Importing the required libraries for plots.\n",
    "import matplotlib.pyplot as plt\n",
    "import seaborn as sns\n",
    "%matplotlib inline"
   ]
  },
  {
   "cell_type": "code",
   "execution_count": 19,
   "metadata": {},
   "outputs": [],
   "source": [
    "num_vars = ['price', 'area', 'bedrooms', 'bathrooms', 'washingmachine', 'dtcenter', 'kitchen', 'ac', 'furnish', 'parking', 'security', 'furnish']"
   ]
  },
  {
   "cell_type": "code",
   "execution_count": 20,
   "metadata": {},
   "outputs": [],
   "source": [
    "df_test[num_vars] = scaler.fit_transform(df_test[num_vars])"
   ]
  },
  {
   "cell_type": "code",
   "execution_count": 21,
   "metadata": {},
   "outputs": [],
   "source": [
    "y_test = df_test.pop('price')\n",
    "X_test = df_test"
   ]
  },
  {
   "cell_type": "code",
   "execution_count": 22,
   "metadata": {},
   "outputs": [],
   "source": [
    "# Adding constant variable to test dataframe\n",
    "#X_test = sm.add_constant(X_test)"
   ]
  },
  {
   "cell_type": "code",
   "execution_count": 23,
   "metadata": {},
   "outputs": [
    {
     "ename": "ValueError",
     "evalue": "X has 11 features, but PolynomialFeatures is expecting 10 features as input.",
     "output_type": "error",
     "traceback": [
      "\u001b[1;31m---------------------------------------------------------------------------\u001b[0m",
      "\u001b[1;31mValueError\u001b[0m                                Traceback (most recent call last)",
      "\u001b[1;32md:\\mtrie\\OneDrive\\Documents\\IT\\python\\hs3\\housing.ipynb Cell 23\u001b[0m line \u001b[0;36m2\n\u001b[0;32m     <a href='vscode-notebook-cell:/d%3A/mtrie/OneDrive/Documents/IT/python/hs3/housing.ipynb#X31sZmlsZQ%3D%3D?line=16'>17</a>\u001b[0m \u001b[39m# Example usage:\u001b[39;00m\n\u001b[0;32m     <a href='vscode-notebook-cell:/d%3A/mtrie/OneDrive/Documents/IT/python/hs3/housing.ipynb#X31sZmlsZQ%3D%3D?line=17'>18</a>\u001b[0m new_data_dict_list \u001b[39m=\u001b[39m [\n\u001b[0;32m     <a href='vscode-notebook-cell:/d%3A/mtrie/OneDrive/Documents/IT/python/hs3/housing.ipynb#X31sZmlsZQ%3D%3D?line=18'>19</a>\u001b[0m     {\u001b[39m'\u001b[39m\u001b[39marea\u001b[39m\u001b[39m'\u001b[39m: \u001b[39m120\u001b[39m, \u001b[39m'\u001b[39m\u001b[39mbedrooms\u001b[39m\u001b[39m'\u001b[39m: \u001b[39m3\u001b[39m, \u001b[39m'\u001b[39m\u001b[39mbathrooms\u001b[39m\u001b[39m'\u001b[39m: \u001b[39m2\u001b[39m, \u001b[39m'\u001b[39m\u001b[39mwashingmachine\u001b[39m\u001b[39m'\u001b[39m: \u001b[39m1\u001b[39m, \u001b[39m'\u001b[39m\u001b[39mdtcenter\u001b[39m\u001b[39m'\u001b[39m: \u001b[39m2\u001b[39m, \u001b[39m'\u001b[39m\u001b[39mdtrec\u001b[39m\u001b[39m'\u001b[39m: \u001b[39m1\u001b[39m,\n\u001b[0;32m     <a href='vscode-notebook-cell:/d%3A/mtrie/OneDrive/Documents/IT/python/hs3/housing.ipynb#X31sZmlsZQ%3D%3D?line=19'>20</a>\u001b[0m      \u001b[39m'\u001b[39m\u001b[39mdthospital\u001b[39m\u001b[39m'\u001b[39m: \u001b[39m3\u001b[39m, \u001b[39m'\u001b[39m\u001b[39mkitchen\u001b[39m\u001b[39m'\u001b[39m: \u001b[39m1\u001b[39m, \u001b[39m'\u001b[39m\u001b[39mac\u001b[39m\u001b[39m'\u001b[39m: \u001b[39m1\u001b[39m, \u001b[39m'\u001b[39m\u001b[39mfurnish\u001b[39m\u001b[39m'\u001b[39m: \u001b[39m2\u001b[39m, \u001b[39m'\u001b[39m\u001b[39mparking\u001b[39m\u001b[39m'\u001b[39m: \u001b[39m1\u001b[39m, \u001b[39m'\u001b[39m\u001b[39msecurity\u001b[39m\u001b[39m'\u001b[39m: \u001b[39m1\u001b[39m},\n\u001b[0;32m     <a href='vscode-notebook-cell:/d%3A/mtrie/OneDrive/Documents/IT/python/hs3/housing.ipynb#X31sZmlsZQ%3D%3D?line=20'>21</a>\u001b[0m     \u001b[39m# Add more dictionaries for additional instances\u001b[39;00m\n\u001b[0;32m     <a href='vscode-notebook-cell:/d%3A/mtrie/OneDrive/Documents/IT/python/hs3/housing.ipynb#X31sZmlsZQ%3D%3D?line=21'>22</a>\u001b[0m ]   \n\u001b[1;32m---> <a href='vscode-notebook-cell:/d%3A/mtrie/OneDrive/Documents/IT/python/hs3/housing.ipynb#X31sZmlsZQ%3D%3D?line=23'>24</a>\u001b[0m predictions \u001b[39m=\u001b[39m predict_prices_with_polynomial_model(model_2, polynomial_features, num_vars[\u001b[39m1\u001b[39;49m:], new_data_dict_list)\n\u001b[0;32m     <a href='vscode-notebook-cell:/d%3A/mtrie/OneDrive/Documents/IT/python/hs3/housing.ipynb#X31sZmlsZQ%3D%3D?line=24'>25</a>\u001b[0m \u001b[39mprint\u001b[39m(\u001b[39m\"\u001b[39m\u001b[39mPredicted Prices:\u001b[39m\u001b[39m\"\u001b[39m, predictions)\n",
      "\u001b[1;32md:\\mtrie\\OneDrive\\Documents\\IT\\python\\hs3\\housing.ipynb Cell 23\u001b[0m line \u001b[0;36m9\n\u001b[0;32m      <a href='vscode-notebook-cell:/d%3A/mtrie/OneDrive/Documents/IT/python/hs3/housing.ipynb#X31sZmlsZQ%3D%3D?line=5'>6</a>\u001b[0m new_data \u001b[39m=\u001b[39m [[new_data_dict[feature] \u001b[39mfor\u001b[39;00m feature \u001b[39min\u001b[39;00m feature_names]]\n\u001b[0;32m      <a href='vscode-notebook-cell:/d%3A/mtrie/OneDrive/Documents/IT/python/hs3/housing.ipynb#X31sZmlsZQ%3D%3D?line=7'>8</a>\u001b[0m \u001b[39m# Transform the new input features using PolynomialFeatures\u001b[39;00m\n\u001b[1;32m----> <a href='vscode-notebook-cell:/d%3A/mtrie/OneDrive/Documents/IT/python/hs3/housing.ipynb#X31sZmlsZQ%3D%3D?line=8'>9</a>\u001b[0m new_data_transformed \u001b[39m=\u001b[39m polynomial_features\u001b[39m.\u001b[39;49mtransform(new_data)\n\u001b[0;32m     <a href='vscode-notebook-cell:/d%3A/mtrie/OneDrive/Documents/IT/python/hs3/housing.ipynb#X31sZmlsZQ%3D%3D?line=10'>11</a>\u001b[0m \u001b[39m# Make predictions using the trained model\u001b[39;00m\n\u001b[0;32m     <a href='vscode-notebook-cell:/d%3A/mtrie/OneDrive/Documents/IT/python/hs3/housing.ipynb#X31sZmlsZQ%3D%3D?line=11'>12</a>\u001b[0m prediction \u001b[39m=\u001b[39m model\u001b[39m.\u001b[39mpredict(new_data_transformed)\n",
      "File \u001b[1;32mc:\\Users\\LENOVO\\AppData\\Local\\Programs\\Python\\Python311\\Lib\\site-packages\\sklearn\\utils\\_set_output.py:157\u001b[0m, in \u001b[0;36m_wrap_method_output.<locals>.wrapped\u001b[1;34m(self, X, *args, **kwargs)\u001b[0m\n\u001b[0;32m    155\u001b[0m \u001b[39m@wraps\u001b[39m(f)\n\u001b[0;32m    156\u001b[0m \u001b[39mdef\u001b[39;00m \u001b[39mwrapped\u001b[39m(\u001b[39mself\u001b[39m, X, \u001b[39m*\u001b[39margs, \u001b[39m*\u001b[39m\u001b[39m*\u001b[39mkwargs):\n\u001b[1;32m--> 157\u001b[0m     data_to_wrap \u001b[39m=\u001b[39m f(\u001b[39mself\u001b[39;49m, X, \u001b[39m*\u001b[39;49margs, \u001b[39m*\u001b[39;49m\u001b[39m*\u001b[39;49mkwargs)\n\u001b[0;32m    158\u001b[0m     \u001b[39mif\u001b[39;00m \u001b[39misinstance\u001b[39m(data_to_wrap, \u001b[39mtuple\u001b[39m):\n\u001b[0;32m    159\u001b[0m         \u001b[39m# only wrap the first output for cross decomposition\u001b[39;00m\n\u001b[0;32m    160\u001b[0m         return_tuple \u001b[39m=\u001b[39m (\n\u001b[0;32m    161\u001b[0m             _wrap_data_with_container(method, data_to_wrap[\u001b[39m0\u001b[39m], X, \u001b[39mself\u001b[39m),\n\u001b[0;32m    162\u001b[0m             \u001b[39m*\u001b[39mdata_to_wrap[\u001b[39m1\u001b[39m:],\n\u001b[0;32m    163\u001b[0m         )\n",
      "File \u001b[1;32mc:\\Users\\LENOVO\\AppData\\Local\\Programs\\Python\\Python311\\Lib\\site-packages\\sklearn\\preprocessing\\_polynomial.py:432\u001b[0m, in \u001b[0;36mPolynomialFeatures.transform\u001b[1;34m(self, X)\u001b[0m\n\u001b[0;32m    402\u001b[0m \u001b[39m\u001b[39m\u001b[39m\"\"\"Transform data to polynomial features.\u001b[39;00m\n\u001b[0;32m    403\u001b[0m \n\u001b[0;32m    404\u001b[0m \u001b[39mParameters\u001b[39;00m\n\u001b[1;32m   (...)\u001b[0m\n\u001b[0;32m    428\u001b[0m \u001b[39m    `csr_matrix`.\u001b[39;00m\n\u001b[0;32m    429\u001b[0m \u001b[39m\"\"\"\u001b[39;00m\n\u001b[0;32m    430\u001b[0m check_is_fitted(\u001b[39mself\u001b[39m)\n\u001b[1;32m--> 432\u001b[0m X \u001b[39m=\u001b[39m \u001b[39mself\u001b[39;49m\u001b[39m.\u001b[39;49m_validate_data(\n\u001b[0;32m    433\u001b[0m     X, order\u001b[39m=\u001b[39;49m\u001b[39m\"\u001b[39;49m\u001b[39mF\u001b[39;49m\u001b[39m\"\u001b[39;49m, dtype\u001b[39m=\u001b[39;49mFLOAT_DTYPES, reset\u001b[39m=\u001b[39;49m\u001b[39mFalse\u001b[39;49;00m, accept_sparse\u001b[39m=\u001b[39;49m(\u001b[39m\"\u001b[39;49m\u001b[39mcsr\u001b[39;49m\u001b[39m\"\u001b[39;49m, \u001b[39m\"\u001b[39;49m\u001b[39mcsc\u001b[39;49m\u001b[39m\"\u001b[39;49m)\n\u001b[0;32m    434\u001b[0m )\n\u001b[0;32m    436\u001b[0m n_samples, n_features \u001b[39m=\u001b[39m X\u001b[39m.\u001b[39mshape\n\u001b[0;32m    437\u001b[0m max_int32 \u001b[39m=\u001b[39m np\u001b[39m.\u001b[39miinfo(np\u001b[39m.\u001b[39mint32)\u001b[39m.\u001b[39mmax\n",
      "File \u001b[1;32mc:\\Users\\LENOVO\\AppData\\Local\\Programs\\Python\\Python311\\Lib\\site-packages\\sklearn\\base.py:626\u001b[0m, in \u001b[0;36mBaseEstimator._validate_data\u001b[1;34m(self, X, y, reset, validate_separately, cast_to_ndarray, **check_params)\u001b[0m\n\u001b[0;32m    623\u001b[0m     out \u001b[39m=\u001b[39m X, y\n\u001b[0;32m    625\u001b[0m \u001b[39mif\u001b[39;00m \u001b[39mnot\u001b[39;00m no_val_X \u001b[39mand\u001b[39;00m check_params\u001b[39m.\u001b[39mget(\u001b[39m\"\u001b[39m\u001b[39mensure_2d\u001b[39m\u001b[39m\"\u001b[39m, \u001b[39mTrue\u001b[39;00m):\n\u001b[1;32m--> 626\u001b[0m     \u001b[39mself\u001b[39;49m\u001b[39m.\u001b[39;49m_check_n_features(X, reset\u001b[39m=\u001b[39;49mreset)\n\u001b[0;32m    628\u001b[0m \u001b[39mreturn\u001b[39;00m out\n",
      "File \u001b[1;32mc:\\Users\\LENOVO\\AppData\\Local\\Programs\\Python\\Python311\\Lib\\site-packages\\sklearn\\base.py:415\u001b[0m, in \u001b[0;36mBaseEstimator._check_n_features\u001b[1;34m(self, X, reset)\u001b[0m\n\u001b[0;32m    412\u001b[0m     \u001b[39mreturn\u001b[39;00m\n\u001b[0;32m    414\u001b[0m \u001b[39mif\u001b[39;00m n_features \u001b[39m!=\u001b[39m \u001b[39mself\u001b[39m\u001b[39m.\u001b[39mn_features_in_:\n\u001b[1;32m--> 415\u001b[0m     \u001b[39mraise\u001b[39;00m \u001b[39mValueError\u001b[39;00m(\n\u001b[0;32m    416\u001b[0m         \u001b[39mf\u001b[39m\u001b[39m\"\u001b[39m\u001b[39mX has \u001b[39m\u001b[39m{\u001b[39;00mn_features\u001b[39m}\u001b[39;00m\u001b[39m features, but \u001b[39m\u001b[39m{\u001b[39;00m\u001b[39mself\u001b[39m\u001b[39m.\u001b[39m\u001b[39m__class__\u001b[39m\u001b[39m.\u001b[39m\u001b[39m__name__\u001b[39m\u001b[39m}\u001b[39;00m\u001b[39m \u001b[39m\u001b[39m\"\u001b[39m\n\u001b[0;32m    417\u001b[0m         \u001b[39mf\u001b[39m\u001b[39m\"\u001b[39m\u001b[39mis expecting \u001b[39m\u001b[39m{\u001b[39;00m\u001b[39mself\u001b[39m\u001b[39m.\u001b[39mn_features_in_\u001b[39m}\u001b[39;00m\u001b[39m features as input.\u001b[39m\u001b[39m\"\u001b[39m\n\u001b[0;32m    418\u001b[0m     )\n",
      "\u001b[1;31mValueError\u001b[0m: X has 11 features, but PolynomialFeatures is expecting 10 features as input."
     ]
    }
   ],
   "source": [
    "def predict_prices_with_polynomial_model(model, polynomial_features, feature_names, new_data_dict_list):\n",
    "    predictions = []\n",
    "\n",
    "    for new_data_dict in new_data_dict_list:\n",
    "        # Extract features from the dictionary\n",
    "        new_data = [[new_data_dict[feature] for feature in feature_names]]\n",
    "\n",
    "        # Transform the new input features using PolynomialFeatures\n",
    "        new_data_transformed = polynomial_features.transform(new_data)\n",
    "\n",
    "        # Make predictions using the trained model\n",
    "        prediction = model.predict(new_data_transformed)\n",
    "        predictions.append(prediction[0])\n",
    "\n",
    "    return predictions\n",
    "\n",
    "# Example usage:\n",
    "new_data_dict_list = [\n",
    "    {'area': 120, 'bedrooms': 3, 'bathrooms': 2, 'washingmachine': 1, 'dtcenter': 2, 'dtrec': 1,\n",
    "     'dthospital': 3, 'kitchen': 1, 'ac': 1, 'furnish': 2, 'parking': 1, 'security': 1},\n",
    "    # Add more dictionaries for additional instances\n",
    "]   \n",
    "\n",
    "predictions = predict_prices_with_polynomial_model(model_2, polynomial_features, num_vars[1:], new_data_dict_list)\n",
    "print(\"Predicted Prices:\", predictions)\n"
   ]
  },
  {
   "cell_type": "code",
   "execution_count": 24,
   "metadata": {},
   "outputs": [],
   "source": [
    "xtt = polynomial_features.fit_transform(X_test)\n",
    "y_pred_2 = model_2.predict(xtt) "
   ]
  },
  {
   "cell_type": "code",
   "execution_count": 25,
   "metadata": {},
   "outputs": [],
   "source": [
    "# Making predictions\n",
    "y_pred = lm.predict(X_test)"
   ]
  },
  {
   "cell_type": "code",
   "execution_count": 26,
   "metadata": {},
   "outputs": [
    {
     "data": {
      "text/plain": [
       "0.7159877203982589"
      ]
     },
     "execution_count": 26,
     "metadata": {},
     "output_type": "execute_result"
    }
   ],
   "source": [
    "from sklearn.metrics import r2_score \n",
    "r2_score(y_test, y_pred)"
   ]
  },
  {
   "cell_type": "code",
   "execution_count": 27,
   "metadata": {},
   "outputs": [
    {
     "data": {
      "text/plain": [
       "0.8097722444416181"
      ]
     },
     "execution_count": 27,
     "metadata": {},
     "output_type": "execute_result"
    }
   ],
   "source": [
    "r2_score(y_test,y_pred_2)"
   ]
  },
  {
   "cell_type": "code",
   "execution_count": 28,
   "metadata": {},
   "outputs": [
    {
     "data": {
      "text/plain": [
       "Text(0, 0.5, 'y_pred')"
      ]
     },
     "execution_count": 28,
     "metadata": {},
     "output_type": "execute_result"
    },
    {
     "data": {
      "image/png": "[encoded data removed]",
      "text/plain": [
       "<Figure size 640x480 with 1 Axes>"
      ]
     },
     "metadata": {},
     "output_type": "display_data"
    }
   ],
   "source": [
    "# Plotting y_test and y_pred to understand the spread.\n",
    "fig = plt.figure()\n",
    "plt.scatter(y_test,y_pred)\n",
    "fig.suptitle('y_test vs y_pred', fontsize=20)              # Plot heading \n",
    "plt.xlabel('y_test', fontsize=18)                          # X-label\n",
    "plt.ylabel('y_pred', fontsize=16)                          # Y-label"
   ]
  },
  {
   "cell_type": "code",
   "execution_count": 29,
   "metadata": {},
   "outputs": [
    {
     "data": {
      "text/plain": [
       "Text(0, 0.5, 'y_pred_2')"
      ]
     },
     "execution_count": 29,
     "metadata": {},
     "output_type": "execute_result"
    },
    {
     "data": {
      "image/png": "[encoded data removed]",
      "text/plain": [
       "<Figure size 640x480 with 1 Axes>"
      ]
     },
     "metadata": {},
     "output_type": "display_data"
    }
   ],
   "source": [
    "# Plotting y_test and y_pred to understand the spread.\n",
    "fig = plt.figure()\n",
    "plt.scatter(y_test,y_pred_2)\n",
    "fig.suptitle('y_test vs y_pred_2', fontsize=20)              # Plot heading \n",
    "plt.xlabel('y_test', fontsize=18)                          # X-label\n",
    "plt.ylabel('y_pred_2', fontsize=16)                          # Y-label"
   ]
  },
  {
   "cell_type": "code",
   "execution_count": null,
   "metadata": {},
   "outputs": [],
   "source": []
  }
 ],
 "metadata": {
  "kernelspec": {
   "display_name": "Python 3",
   "language": "python",
   "name": "python3"
  },
  "language_info": {
   "codemirror_mode": {
    "name": "ipython",
    "version": 3
   },
   "file_extension": ".py",
   "mimetype": "text/x-python",
   "name": "python",
   "nbconvert_exporter": "python",
   "pygments_lexer": "ipython3",
   "version": "3.11.1"
  }
 },
 "nbformat": 4,
 "nbformat_minor": 2
}
