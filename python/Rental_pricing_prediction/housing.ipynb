{
 "cells": [
  {
   "cell_type": "code",
   "execution_count": 28,
   "metadata": {},
   "outputs": [],
   "source": [
    "# Supress Warnings\n",
    "\n",
    "import warnings\n",
    "warnings.filterwarnings('ignore')\n",
    "\n",
    "# Import the numpy and pandas package\n",
    "\n",
    "import numpy as np\n",
    "import pandas as pd\n",
    "\n",
    "# Data Visualisation\n",
    "\n",
    "import matplotlib.pyplot as plt \n",
    "import seaborn as sns\n",
    "\n",
    "#split data\n",
    "from sklearn.model_selection import train_test_split\n",
    "\n",
    "# Importing RFE and LinearRegression\n",
    "from sklearn.feature_selection import RFE\n",
    "from sklearn.linear_model import LinearRegression\n",
    "from sklearn.preprocessing import PolynomialFeatures\n",
    "import statsmodels.api as sm  "
   ]
  },
  {
   "cell_type": "code",
   "execution_count": 29,
   "metadata": {},
   "outputs": [],
   "source": [
    "housing = pd.DataFrame(pd.read_csv(\"Housing_data_final(10).csv\"))"
   ]
  },
  {
   "cell_type": "code",
   "execution_count": 30,
   "metadata": {},
   "outputs": [
    {
     "data": {
      "text/html": [
       "<div>\n",
       "<style scoped>\n",
       "    .dataframe tbody tr th:only-of-type {\n",
       "        vertical-align: middle;\n",
       "    }\n",
       "\n",
       "    .dataframe tbody tr th {\n",
       "        vertical-align: top;\n",
       "    }\n",
       "\n",
       "    .dataframe thead th {\n",
       "        text-align: right;\n",
       "    }\n",
       "</style>\n",
       "<table border=\"1\" class=\"dataframe\">\n",
       "  <thead>\n",
       "    <tr style=\"text-align: right;\">\n",
       "      <th></th>\n",
       "      <th>price</th>\n",
       "      <th>area</th>\n",
       "      <th>bedrooms</th>\n",
       "      <th>bathrooms</th>\n",
       "      <th>washingmachine</th>\n",
       "      <th>dtcenter</th>\n",
       "      <th>kitchen</th>\n",
       "      <th>ac</th>\n",
       "      <th>balcony</th>\n",
       "      <th>parking</th>\n",
       "      <th>furnish</th>\n",
       "    </tr>\n",
       "  </thead>\n",
       "  <tbody>\n",
       "    <tr>\n",
       "      <th>0</th>\n",
       "      <td>1645136.35</td>\n",
       "      <td>9.9</td>\n",
       "      <td>1</td>\n",
       "      <td>1</td>\n",
       "      <td>0</td>\n",
       "      <td>3.783407</td>\n",
       "      <td>0</td>\n",
       "      <td>0</td>\n",
       "      <td>1</td>\n",
       "      <td>0</td>\n",
       "      <td>0</td>\n",
       "    </tr>\n",
       "    <tr>\n",
       "      <th>1</th>\n",
       "      <td>1646078.72</td>\n",
       "      <td>12.4</td>\n",
       "      <td>2</td>\n",
       "      <td>1</td>\n",
       "      <td>0</td>\n",
       "      <td>8.297627</td>\n",
       "      <td>0</td>\n",
       "      <td>1</td>\n",
       "      <td>1</td>\n",
       "      <td>0</td>\n",
       "      <td>0</td>\n",
       "    </tr>\n",
       "    <tr>\n",
       "      <th>2</th>\n",
       "      <td>1658431.06</td>\n",
       "      <td>14.9</td>\n",
       "      <td>1</td>\n",
       "      <td>1</td>\n",
       "      <td>0</td>\n",
       "      <td>3.601562</td>\n",
       "      <td>0</td>\n",
       "      <td>1</td>\n",
       "      <td>0</td>\n",
       "      <td>1</td>\n",
       "      <td>0</td>\n",
       "    </tr>\n",
       "    <tr>\n",
       "      <th>3</th>\n",
       "      <td>1694781.66</td>\n",
       "      <td>22.3</td>\n",
       "      <td>1</td>\n",
       "      <td>1</td>\n",
       "      <td>0</td>\n",
       "      <td>7.930386</td>\n",
       "      <td>1</td>\n",
       "      <td>1</td>\n",
       "      <td>0</td>\n",
       "      <td>0</td>\n",
       "      <td>0</td>\n",
       "    </tr>\n",
       "    <tr>\n",
       "      <th>4</th>\n",
       "      <td>1700025.47</td>\n",
       "      <td>11.2</td>\n",
       "      <td>1</td>\n",
       "      <td>1</td>\n",
       "      <td>0</td>\n",
       "      <td>3.443001</td>\n",
       "      <td>0</td>\n",
       "      <td>0</td>\n",
       "      <td>1</td>\n",
       "      <td>0</td>\n",
       "      <td>0</td>\n",
       "    </tr>\n",
       "  </tbody>\n",
       "</table>\n",
       "</div>"
      ],
      "text/plain": [
       "        price  area  bedrooms  bathrooms  washingmachine  dtcenter  kitchen  \\\n",
       "0  1645136.35   9.9         1          1               0  3.783407        0   \n",
       "1  1646078.72  12.4         2          1               0  8.297627        0   \n",
       "2  1658431.06  14.9         1          1               0  3.601562        0   \n",
       "3  1694781.66  22.3         1          1               0  7.930386        1   \n",
       "4  1700025.47  11.2         1          1               0  3.443001        0   \n",
       "\n",
       "   ac  balcony  parking  furnish  \n",
       "0   0        1        0        0  \n",
       "1   1        1        0        0  \n",
       "2   1        0        1        0  \n",
       "3   1        0        0        0  \n",
       "4   0        1        0        0  "
      ]
     },
     "execution_count": 30,
     "metadata": {},
     "output_type": "execute_result"
    }
   ],
   "source": [
    "# Check the head of the dataset\n",
    "housing.head()"
   ]
  },
  {
   "cell_type": "code",
   "execution_count": 31,
   "metadata": {},
   "outputs": [
    {
     "data": {
      "text/plain": [
       "(1635, 11)"
      ]
     },
     "execution_count": 31,
     "metadata": {},
     "output_type": "execute_result"
    }
   ],
   "source": [
    "housing.shape"
   ]
  },
  {
   "cell_type": "code",
   "execution_count": 32,
   "metadata": {},
   "outputs": [
    {
     "name": "stdout",
     "output_type": "stream",
     "text": [
      "<class 'pandas.core.frame.DataFrame'>\n",
      "RangeIndex: 1635 entries, 0 to 1634\n",
      "Data columns (total 11 columns):\n",
      " #   Column          Non-Null Count  Dtype  \n",
      "---  ------          --------------  -----  \n",
      " 0   price           1635 non-null   float64\n",
      " 1   area            1635 non-null   float64\n",
      " 2   bedrooms        1635 non-null   int64  \n",
      " 3   bathrooms       1635 non-null   int64  \n",
      " 4   washingmachine  1635 non-null   int64  \n",
      " 5   dtcenter        1635 non-null   float64\n",
      " 6   kitchen         1635 non-null   int64  \n",
      " 7   ac              1635 non-null   int64  \n",
      " 8   balcony         1635 non-null   int64  \n",
      " 9   parking         1635 non-null   int64  \n",
      " 10  furnish         1635 non-null   int64  \n",
      "dtypes: float64(3), int64(8)\n",
      "memory usage: 140.6 KB\n"
     ]
    }
   ],
   "source": [
    "housing.info()"
   ]
  },
  {
   "cell_type": "code",
   "execution_count": 33,
   "metadata": {},
   "outputs": [],
   "source": [
    "# outlier treatment for area\n",
    "Q1 = housing.area.quantile(0.25)\n",
    "Q3 = housing.area.quantile(0.75)\n",
    "IQR = Q3 - Q1\n",
    "housing = housing[(housing.area >= Q1 - 1.5*IQR) & (housing.area <= Q3 + 1.5*IQR)]"
   ]
  },
  {
   "cell_type": "code",
   "execution_count": 34,
   "metadata": {},
   "outputs": [],
   "source": [
    "# outlier treatment for price\n",
    "Q1 = housing.price.quantile(0.25)\n",
    "Q3 = housing.price.quantile(0.75)\n",
    "IQR = Q3 - Q1\n",
    "housing = housing[(housing.price >= Q1 - 1.5*IQR) & (housing.price <= Q3 + 1.5*IQR)]"
   ]
  },
  {
   "cell_type": "code",
   "execution_count": 35,
   "metadata": {},
   "outputs": [],
   "source": [
    "# We specify this so that the train and test data set always have the same rows, respectively\n",
    "np.random.seed(0)\n",
    "df_train, df_test = train_test_split(housing, train_size = 0.7, test_size = 0.3, random_state = 100)"
   ]
  },
  {
   "cell_type": "code",
   "execution_count": 36,
   "metadata": {},
   "outputs": [],
   "source": [
    "from sklearn.preprocessing import MinMaxScaler\n",
    "scaler = MinMaxScaler()"
   ]
  },
  {
   "cell_type": "code",
   "execution_count": 37,
   "metadata": {},
   "outputs": [],
   "source": [
    "# Apply scaler() to all the columns except the 'yes-no' and 'dummy' variables\n",
    "num_vars = ['price', 'area', 'bedrooms', 'bathrooms', 'washingmachine', 'dtcenter', 'kitchen', 'ac', 'balcony', 'parking', 'furnish']\n",
    "df_train[num_vars] = scaler.fit_transform(df_train[num_vars])"
   ]
  },
  {
   "cell_type": "code",
   "execution_count": 38,
   "metadata": {},
   "outputs": [],
   "source": [
    "y_train = df_train.pop('price')\n",
    "X_train = df_train"
   ]
  },
  {
   "cell_type": "code",
   "execution_count": 39,
   "metadata": {},
   "outputs": [
    {
     "name": "stdout",
     "output_type": "stream",
     "text": [
      "-0.23335281528069002\n",
      "[ 0.62663942  0.02096313  0.23556449  0.05718171 -0.20251943  0.07308011\n",
      "  0.0863063   0.1378368   0.11366734  0.04161764]\n"
     ]
    }
   ],
   "source": [
    "lm = LinearRegression()\n",
    "lm.fit(X_train, y_train)\n",
    "\n",
    "print(lm.intercept_)\n",
    "print(lm.coef_)"
   ]
  },
  {
   "cell_type": "code",
   "execution_count": 40,
   "metadata": {},
   "outputs": [],
   "source": [
    "lm = sm.OLS(y_train,X_train).fit()   # Running the linear model"
   ]
  },
  {
   "cell_type": "code",
   "execution_count": 41,
   "metadata": {},
   "outputs": [
    {
     "name": "stdout",
     "output_type": "stream",
     "text": [
      "const   -0.383237\n",
      "x1       1.241318\n",
      "x2       0.212899\n",
      "x3      -0.081610\n",
      "x4       0.012930\n",
      "           ...   \n",
      "x61      0.003532\n",
      "x62      0.011354\n",
      "x63     -0.107779\n",
      "x64      0.003505\n",
      "x65      0.002874\n",
      "Length: 66, dtype: float64\n"
     ]
    }
   ],
   "source": [
    "from sklearn.preprocessing import PolynomialFeatures\n",
    "polynomial_features= PolynomialFeatures(degree=2, include_bias=True)\n",
    "xp = polynomial_features.fit_transform(X_train)\n",
    "xp.shape\n",
    "\n",
    "model_2 = sm.OLS(y_train, xp).fit()\n",
    "\n",
    "print(model_2.params)"
   ]
  },
  {
   "cell_type": "code",
   "execution_count": 42,
   "metadata": {},
   "outputs": [
    {
     "name": "stdout",
     "output_type": "stream",
     "text": [
      "                                 OLS Regression Results                                \n",
      "=======================================================================================\n",
      "Dep. Variable:                  price   R-squared (uncentered):                   0.910\n",
      "Model:                            OLS   Adj. R-squared (uncentered):              0.909\n",
      "Method:                 Least Squares   F-statistic:                              1105.\n",
      "Date:                Wed, 06 Dec 2023   Prob (F-statistic):                        0.00\n",
      "Time:                        10:13:40   Log-Likelihood:                          664.50\n",
      "No. Observations:                1099   AIC:                                     -1309.\n",
      "Df Residuals:                    1089   BIC:                                     -1259.\n",
      "Df Model:                          10                                                  \n",
      "Covariance Type:            nonrobust                                                  \n",
      "==================================================================================\n",
      "                     coef    std err          t      P>|t|      [0.025      0.975]\n",
      "----------------------------------------------------------------------------------\n",
      "area               0.4754      0.019     24.686      0.000       0.438       0.513\n",
      "bedrooms           0.0218      0.022      1.009      0.313      -0.021       0.064\n",
      "bathrooms          0.1499      0.020      7.375      0.000       0.110       0.190\n",
      "washingmachine     0.0573      0.009      6.567      0.000       0.040       0.074\n",
      "dtcenter          -0.3797      0.022    -17.083      0.000      -0.423      -0.336\n",
      "kitchen            0.0301      0.013      2.386      0.017       0.005       0.055\n",
      "ac                 0.0535      0.011      4.669      0.000       0.031       0.076\n",
      "balcony            0.1077      0.018      5.903      0.000       0.072       0.144\n",
      "parking            0.0929      0.012      7.475      0.000       0.069       0.117\n",
      "furnish            0.0346      0.011      3.181      0.002       0.013       0.056\n",
      "==============================================================================\n",
      "Omnibus:                       17.563   Durbin-Watson:                   2.044\n",
      "Prob(Omnibus):                  0.000   Jarque-Bera (JB):               18.004\n",
      "Skew:                           0.311   Prob(JB):                     0.000123\n",
      "Kurtosis:                       3.081   Cond. No.                         10.6\n",
      "==============================================================================\n",
      "\n",
      "Notes:\n",
      "[1] R² is computed without centering (uncentered) since the model does not contain a constant.\n",
      "[2] Standard Errors assume that the covariance matrix of the errors is correctly specified.\n"
     ]
    }
   ],
   "source": [
    "#Let's see the summary of our linear model\\\n",
    "print(lm.summary())"
   ]
  },
  {
   "cell_type": "code",
   "execution_count": 43,
   "metadata": {},
   "outputs": [
    {
     "data": {
      "text/html": [
       "<div>\n",
       "<style scoped>\n",
       "    .dataframe tbody tr th:only-of-type {\n",
       "        vertical-align: middle;\n",
       "    }\n",
       "\n",
       "    .dataframe tbody tr th {\n",
       "        vertical-align: top;\n",
       "    }\n",
       "\n",
       "    .dataframe thead th {\n",
       "        text-align: right;\n",
       "    }\n",
       "</style>\n",
       "<table border=\"1\" class=\"dataframe\">\n",
       "  <thead>\n",
       "    <tr style=\"text-align: right;\">\n",
       "      <th></th>\n",
       "      <th>Features</th>\n",
       "      <th>VIF</th>\n",
       "    </tr>\n",
       "  </thead>\n",
       "  <tbody>\n",
       "    <tr>\n",
       "      <th>5</th>\n",
       "      <td>kitchen</td>\n",
       "      <td>8.74</td>\n",
       "    </tr>\n",
       "    <tr>\n",
       "      <th>2</th>\n",
       "      <td>bathrooms</td>\n",
       "      <td>7.84</td>\n",
       "    </tr>\n",
       "    <tr>\n",
       "      <th>6</th>\n",
       "      <td>ac</td>\n",
       "      <td>6.90</td>\n",
       "    </tr>\n",
       "    <tr>\n",
       "      <th>7</th>\n",
       "      <td>balcony</td>\n",
       "      <td>5.27</td>\n",
       "    </tr>\n",
       "    <tr>\n",
       "      <th>8</th>\n",
       "      <td>parking</td>\n",
       "      <td>4.10</td>\n",
       "    </tr>\n",
       "    <tr>\n",
       "      <th>0</th>\n",
       "      <td>area</td>\n",
       "      <td>3.92</td>\n",
       "    </tr>\n",
       "    <tr>\n",
       "      <th>3</th>\n",
       "      <td>washingmachine</td>\n",
       "      <td>2.64</td>\n",
       "    </tr>\n",
       "    <tr>\n",
       "      <th>9</th>\n",
       "      <td>furnish</td>\n",
       "      <td>2.56</td>\n",
       "    </tr>\n",
       "    <tr>\n",
       "      <th>4</th>\n",
       "      <td>dtcenter</td>\n",
       "      <td>2.15</td>\n",
       "    </tr>\n",
       "    <tr>\n",
       "      <th>1</th>\n",
       "      <td>bedrooms</td>\n",
       "      <td>1.30</td>\n",
       "    </tr>\n",
       "  </tbody>\n",
       "</table>\n",
       "</div>"
      ],
      "text/plain": [
       "         Features   VIF\n",
       "5         kitchen  8.74\n",
       "2       bathrooms  7.84\n",
       "6              ac  6.90\n",
       "7         balcony  5.27\n",
       "8         parking  4.10\n",
       "0            area  3.92\n",
       "3  washingmachine  2.64\n",
       "9         furnish  2.56\n",
       "4        dtcenter  2.15\n",
       "1        bedrooms  1.30"
      ]
     },
     "execution_count": 43,
     "metadata": {},
     "output_type": "execute_result"
    }
   ],
   "source": [
    "from statsmodels.stats.outliers_influence import variance_inflation_factor\n",
    "vif = pd.DataFrame()\n",
    "X = X_train\n",
    "vif['Features'] = X.columns\n",
    "vif['VIF'] = [variance_inflation_factor(X.values, i) for i in range(X.shape[1])]\n",
    "vif['VIF'] = round(vif['VIF'], 2)\n",
    "vif = vif.sort_values(by = \"VIF\", ascending = False)\n",
    "vif"
   ]
  },
  {
   "cell_type": "code",
   "execution_count": 44,
   "metadata": {},
   "outputs": [
    {
     "name": "stdout",
     "output_type": "stream",
     "text": [
      "                            OLS Regression Results                            \n",
      "==============================================================================\n",
      "Dep. Variable:                  price   R-squared:                       0.791\n",
      "Model:                            OLS   Adj. R-squared:                  0.779\n",
      "Method:                 Least Squares   F-statistic:                     63.34\n",
      "Date:                Wed, 06 Dec 2023   Prob (F-statistic):          8.11e-307\n",
      "Time:                        10:13:42   Log-Likelihood:                 969.88\n",
      "No. Observations:                1099   AIC:                            -1814.\n",
      "Df Residuals:                    1036   BIC:                            -1499.\n",
      "Df Model:                          62                                         \n",
      "Covariance Type:            nonrobust                                         \n",
      "==============================================================================\n",
      "                 coef    std err          t      P>|t|      [0.025      0.975]\n",
      "------------------------------------------------------------------------------\n",
      "const         -0.3832      0.103     -3.737      0.000      -0.584      -0.182\n",
      "x1             1.2413      0.182      6.819      0.000       0.884       1.599\n",
      "x2             0.2129      0.156      1.364      0.173      -0.093       0.519\n",
      "x3            -0.0816      0.157     -0.518      0.604      -0.391       0.227\n",
      "x4             0.0129      0.028      0.464      0.643      -0.042       0.068\n",
      "x5             0.8898      0.222      4.010      0.000       0.454       1.325\n",
      "x6            -0.0110      0.031     -0.358      0.720      -0.071       0.049\n",
      "x7            -0.0380      0.029     -1.333      0.183      -0.094       0.018\n",
      "x8             0.3007      0.102      2.942      0.003       0.100       0.501\n",
      "x9             0.2421      0.080      3.021      0.003       0.085       0.399\n",
      "x10            0.4951      0.067      7.375      0.000       0.363       0.627\n",
      "x11           -0.3694      0.104     -3.541      0.000      -0.574      -0.165\n",
      "x12           -0.0561      0.139     -0.404      0.687      -0.329       0.217\n",
      "x13            0.1666      0.148      1.129      0.259      -0.123       0.456\n",
      "x14            0.0062      0.053      0.116      0.907      -0.098       0.110\n",
      "x15           -1.8676      0.181    -10.297      0.000      -2.223      -1.512\n",
      "x16            0.0913      0.061      1.490      0.136      -0.029       0.211\n",
      "x17            0.1233      0.059      2.104      0.036       0.008       0.238\n",
      "x18           -0.2351      0.106     -2.212      0.027      -0.444      -0.027\n",
      "x19           -0.0864      0.080     -1.084      0.279      -0.243       0.070\n",
      "x20           -0.3748      0.058     -6.414      0.000      -0.489      -0.260\n",
      "x21           -0.2562      0.140     -1.830      0.068      -0.531       0.019\n",
      "x22            0.1063      0.096      1.110      0.267      -0.082       0.294\n",
      "x23            0.0049      0.039      0.124      0.902      -0.073       0.082\n",
      "x24           -0.0423      0.165     -0.257      0.797      -0.366       0.281\n",
      "x25            0.1001      0.061      1.652      0.099      -0.019       0.219\n",
      "x26           -0.0490      0.061     -0.799      0.424      -0.169       0.071\n",
      "x27           -0.2109      0.081     -2.603      0.009      -0.370      -0.052\n",
      "x28           -0.1015      0.056     -1.799      0.072      -0.212       0.009\n",
      "x29           -0.0290      0.048     -0.602      0.548      -0.123       0.066\n",
      "x30            0.0401      0.093      0.432      0.665      -0.142       0.222\n",
      "x31            0.0456      0.043      1.061      0.289      -0.039       0.130\n",
      "x32           -0.0327      0.186     -0.176      0.860      -0.398       0.332\n",
      "x33            0.1436      0.057      2.537      0.011       0.033       0.255\n",
      "x34            0.2166      0.060      3.623      0.000       0.099       0.334\n",
      "x35            0.0335      0.099      0.338      0.735      -0.161       0.228\n",
      "x36           -0.0545      0.075     -0.724      0.469      -0.202       0.093\n",
      "x37           -0.3038      0.054     -5.644      0.000      -0.409      -0.198\n",
      "x38            0.0129      0.028      0.464      0.643      -0.042       0.068\n",
      "x39           -0.1135      0.057     -2.005      0.045      -0.225      -0.002\n",
      "x40           -0.0237      0.027     -0.887      0.375      -0.076       0.029\n",
      "x41            0.0024      0.022      0.109      0.913      -0.040       0.045\n",
      "x42            0.0380      0.034      1.102      0.271      -0.030       0.106\n",
      "x43            0.0246      0.023      1.091      0.275      -0.020       0.069\n",
      "x44        -8.855e-05      0.019     -0.005      0.996      -0.038       0.038\n",
      "x45            0.1442      0.125      1.157      0.248      -0.100       0.389\n",
      "x46           -0.0618      0.070     -0.883      0.377      -0.199       0.076\n",
      "x47           -0.1213      0.066     -1.848      0.065      -0.250       0.008\n",
      "x48           -0.5430      0.104     -5.205      0.000      -0.748      -0.338\n",
      "x49           -0.3784      0.082     -4.632      0.000      -0.539      -0.218\n",
      "x50           -0.4130      0.069     -5.960      0.000      -0.549      -0.277\n",
      "x51           -0.0110      0.031     -0.358      0.720      -0.071       0.049\n",
      "x52            0.0425      0.024      1.735      0.083      -0.006       0.090\n",
      "x53           -0.0679      0.050     -1.353      0.176      -0.166       0.031\n",
      "x54            0.0211      0.037      0.575      0.565      -0.051       0.093\n",
      "x55           -0.0276      0.031     -0.890      0.374      -0.088       0.033\n",
      "x56           -0.0380      0.029     -1.333      0.183      -0.094       0.018\n",
      "x57           -0.0444      0.046     -0.972      0.331      -0.134       0.045\n",
      "x58            0.0939      0.034      2.738      0.006       0.027       0.161\n",
      "x59           -0.0658      0.027     -2.398      0.017      -0.120      -0.012\n",
      "x60            0.1313      0.052      2.545      0.011       0.030       0.233\n",
      "x61            0.0035      0.045      0.078      0.938      -0.085       0.092\n",
      "x62            0.0114      0.040      0.286      0.775      -0.067       0.089\n",
      "x63           -0.1078      0.033     -3.220      0.001      -0.173      -0.042\n",
      "x64            0.0035      0.028      0.127      0.899      -0.050       0.057\n",
      "x65            0.0029      0.027      0.107      0.915      -0.050       0.055\n",
      "==============================================================================\n",
      "Omnibus:                       22.997   Durbin-Watson:                   2.072\n",
      "Prob(Omnibus):                  0.000   Jarque-Bera (JB):               44.540\n",
      "Skew:                           0.064   Prob(JB):                     2.13e-10\n",
      "Kurtosis:                       3.978   Cond. No.                     1.36e+16\n",
      "==============================================================================\n",
      "\n",
      "Notes:\n",
      "[1] Standard Errors assume that the covariance matrix of the errors is correctly specified.\n",
      "[2] The smallest eigenvalue is 6.67e-29. This might indicate that there are\n",
      "strong multicollinearity problems or that the design matrix is singular.\n"
     ]
    }
   ],
   "source": [
    "print(model_2.summary())"
   ]
  },
  {
   "cell_type": "code",
   "execution_count": 45,
   "metadata": {},
   "outputs": [],
   "source": [
    "# Importing the required libraries for plots.\n",
    "import matplotlib.pyplot as plt\n",
    "import seaborn as sns\n",
    "%matplotlib inline"
   ]
  },
  {
   "cell_type": "code",
   "execution_count": 46,
   "metadata": {},
   "outputs": [],
   "source": [
    "num_vars = ['price', 'area', 'bedrooms', 'bathrooms', 'washingmachine', 'dtcenter', 'kitchen', 'ac', 'furnish', 'balcony', 'parking', 'furnish']"
   ]
  },
  {
   "cell_type": "code",
   "execution_count": 47,
   "metadata": {},
   "outputs": [],
   "source": [
    "df_test[num_vars] = scaler.fit_transform(df_test[num_vars])"
   ]
  },
  {
   "cell_type": "code",
   "execution_count": 48,
   "metadata": {},
   "outputs": [],
   "source": [
    "y_test = df_test.pop('price')\n",
    "X_test = df_test"
   ]
  },
  {
   "cell_type": "code",
   "execution_count": 49,
   "metadata": {},
   "outputs": [],
   "source": [
    "# Adding constant variable to test dataframe\n",
    "#X_test = sm.add_constant(X_test)"
   ]
  },
  {
   "cell_type": "code",
   "execution_count": 50,
   "metadata": {},
   "outputs": [
    {
     "ename": "KeyError",
     "evalue": "'balcony'",
     "output_type": "error",
     "traceback": [
      "\u001b[1;31m---------------------------------------------------------------------------\u001b[0m",
      "\u001b[1;31mKeyError\u001b[0m                                  Traceback (most recent call last)",
      "\u001b[1;32md:\\mtrie\\OneDrive\\Documents\\IT\\python\\Rental_pricing_prediction\\housing.ipynb Cell 23\u001b[0m line \u001b[0;36m2\n\u001b[0;32m     <a href='vscode-notebook-cell:/d%3A/mtrie/OneDrive/Documents/IT/python/Rental_pricing_prediction/housing.ipynb#X31sZmlsZQ%3D%3D?line=16'>17</a>\u001b[0m \u001b[39m# Example usage:\u001b[39;00m\n\u001b[0;32m     <a href='vscode-notebook-cell:/d%3A/mtrie/OneDrive/Documents/IT/python/Rental_pricing_prediction/housing.ipynb#X31sZmlsZQ%3D%3D?line=17'>18</a>\u001b[0m new_data_dict_list \u001b[39m=\u001b[39m [\n\u001b[0;32m     <a href='vscode-notebook-cell:/d%3A/mtrie/OneDrive/Documents/IT/python/Rental_pricing_prediction/housing.ipynb#X31sZmlsZQ%3D%3D?line=18'>19</a>\u001b[0m     {\u001b[39m'\u001b[39m\u001b[39marea\u001b[39m\u001b[39m'\u001b[39m: \u001b[39m120\u001b[39m, \u001b[39m'\u001b[39m\u001b[39mbedrooms\u001b[39m\u001b[39m'\u001b[39m: \u001b[39m3\u001b[39m, \u001b[39m'\u001b[39m\u001b[39mbathrooms\u001b[39m\u001b[39m'\u001b[39m: \u001b[39m2\u001b[39m, \u001b[39m'\u001b[39m\u001b[39mwashingmachine\u001b[39m\u001b[39m'\u001b[39m: \u001b[39m1\u001b[39m, \u001b[39m'\u001b[39m\u001b[39mdtcenter\u001b[39m\u001b[39m'\u001b[39m: \u001b[39m2\u001b[39m, \u001b[39m'\u001b[39m\u001b[39mdtrec\u001b[39m\u001b[39m'\u001b[39m: \u001b[39m1\u001b[39m,\n\u001b[0;32m     <a href='vscode-notebook-cell:/d%3A/mtrie/OneDrive/Documents/IT/python/Rental_pricing_prediction/housing.ipynb#X31sZmlsZQ%3D%3D?line=19'>20</a>\u001b[0m      \u001b[39m'\u001b[39m\u001b[39mdthospital\u001b[39m\u001b[39m'\u001b[39m: \u001b[39m3\u001b[39m, \u001b[39m'\u001b[39m\u001b[39mkitchen\u001b[39m\u001b[39m'\u001b[39m: \u001b[39m1\u001b[39m, \u001b[39m'\u001b[39m\u001b[39mac\u001b[39m\u001b[39m'\u001b[39m: \u001b[39m1\u001b[39m, \u001b[39m'\u001b[39m\u001b[39mfurnish\u001b[39m\u001b[39m'\u001b[39m: \u001b[39m2\u001b[39m, \u001b[39m'\u001b[39m\u001b[39mparking\u001b[39m\u001b[39m'\u001b[39m: \u001b[39m1\u001b[39m, \u001b[39m'\u001b[39m\u001b[39msecurity\u001b[39m\u001b[39m'\u001b[39m: \u001b[39m1\u001b[39m},\n\u001b[0;32m     <a href='vscode-notebook-cell:/d%3A/mtrie/OneDrive/Documents/IT/python/Rental_pricing_prediction/housing.ipynb#X31sZmlsZQ%3D%3D?line=20'>21</a>\u001b[0m     \u001b[39m# Add more dictionaries for additional instances\u001b[39;00m\n\u001b[0;32m     <a href='vscode-notebook-cell:/d%3A/mtrie/OneDrive/Documents/IT/python/Rental_pricing_prediction/housing.ipynb#X31sZmlsZQ%3D%3D?line=21'>22</a>\u001b[0m ]   \n\u001b[1;32m---> <a href='vscode-notebook-cell:/d%3A/mtrie/OneDrive/Documents/IT/python/Rental_pricing_prediction/housing.ipynb#X31sZmlsZQ%3D%3D?line=23'>24</a>\u001b[0m predictions \u001b[39m=\u001b[39m predict_prices_with_polynomial_model(model_2, polynomial_features, num_vars[\u001b[39m1\u001b[39;49m:], new_data_dict_list)\n\u001b[0;32m     <a href='vscode-notebook-cell:/d%3A/mtrie/OneDrive/Documents/IT/python/Rental_pricing_prediction/housing.ipynb#X31sZmlsZQ%3D%3D?line=24'>25</a>\u001b[0m \u001b[39mprint\u001b[39m(\u001b[39m\"\u001b[39m\u001b[39mPredicted Prices:\u001b[39m\u001b[39m\"\u001b[39m, predictions)\n",
      "\u001b[1;32md:\\mtrie\\OneDrive\\Documents\\IT\\python\\Rental_pricing_prediction\\housing.ipynb Cell 23\u001b[0m line \u001b[0;36m6\n\u001b[0;32m      <a href='vscode-notebook-cell:/d%3A/mtrie/OneDrive/Documents/IT/python/Rental_pricing_prediction/housing.ipynb#X31sZmlsZQ%3D%3D?line=1'>2</a>\u001b[0m predictions \u001b[39m=\u001b[39m []\n\u001b[0;32m      <a href='vscode-notebook-cell:/d%3A/mtrie/OneDrive/Documents/IT/python/Rental_pricing_prediction/housing.ipynb#X31sZmlsZQ%3D%3D?line=3'>4</a>\u001b[0m \u001b[39mfor\u001b[39;00m new_data_dict \u001b[39min\u001b[39;00m new_data_dict_list:\n\u001b[0;32m      <a href='vscode-notebook-cell:/d%3A/mtrie/OneDrive/Documents/IT/python/Rental_pricing_prediction/housing.ipynb#X31sZmlsZQ%3D%3D?line=4'>5</a>\u001b[0m     \u001b[39m# Extract features from the dictionary\u001b[39;00m\n\u001b[1;32m----> <a href='vscode-notebook-cell:/d%3A/mtrie/OneDrive/Documents/IT/python/Rental_pricing_prediction/housing.ipynb#X31sZmlsZQ%3D%3D?line=5'>6</a>\u001b[0m     new_data \u001b[39m=\u001b[39m [[new_data_dict[feature] \u001b[39mfor\u001b[39;49;00m feature \u001b[39min\u001b[39;49;00m feature_names]]\n\u001b[0;32m      <a href='vscode-notebook-cell:/d%3A/mtrie/OneDrive/Documents/IT/python/Rental_pricing_prediction/housing.ipynb#X31sZmlsZQ%3D%3D?line=7'>8</a>\u001b[0m     \u001b[39m# Transform the new input features using PolynomialFeatures\u001b[39;00m\n\u001b[0;32m      <a href='vscode-notebook-cell:/d%3A/mtrie/OneDrive/Documents/IT/python/Rental_pricing_prediction/housing.ipynb#X31sZmlsZQ%3D%3D?line=8'>9</a>\u001b[0m     new_data_transformed \u001b[39m=\u001b[39m polynomial_features\u001b[39m.\u001b[39mtransform(new_data)\n",
      "\u001b[1;32md:\\mtrie\\OneDrive\\Documents\\IT\\python\\Rental_pricing_prediction\\housing.ipynb Cell 23\u001b[0m line \u001b[0;36m6\n\u001b[0;32m      <a href='vscode-notebook-cell:/d%3A/mtrie/OneDrive/Documents/IT/python/Rental_pricing_prediction/housing.ipynb#X31sZmlsZQ%3D%3D?line=1'>2</a>\u001b[0m predictions \u001b[39m=\u001b[39m []\n\u001b[0;32m      <a href='vscode-notebook-cell:/d%3A/mtrie/OneDrive/Documents/IT/python/Rental_pricing_prediction/housing.ipynb#X31sZmlsZQ%3D%3D?line=3'>4</a>\u001b[0m \u001b[39mfor\u001b[39;00m new_data_dict \u001b[39min\u001b[39;00m new_data_dict_list:\n\u001b[0;32m      <a href='vscode-notebook-cell:/d%3A/mtrie/OneDrive/Documents/IT/python/Rental_pricing_prediction/housing.ipynb#X31sZmlsZQ%3D%3D?line=4'>5</a>\u001b[0m     \u001b[39m# Extract features from the dictionary\u001b[39;00m\n\u001b[1;32m----> <a href='vscode-notebook-cell:/d%3A/mtrie/OneDrive/Documents/IT/python/Rental_pricing_prediction/housing.ipynb#X31sZmlsZQ%3D%3D?line=5'>6</a>\u001b[0m     new_data \u001b[39m=\u001b[39m [[new_data_dict[feature] \u001b[39mfor\u001b[39;00m feature \u001b[39min\u001b[39;00m feature_names]]\n\u001b[0;32m      <a href='vscode-notebook-cell:/d%3A/mtrie/OneDrive/Documents/IT/python/Rental_pricing_prediction/housing.ipynb#X31sZmlsZQ%3D%3D?line=7'>8</a>\u001b[0m     \u001b[39m# Transform the new input features using PolynomialFeatures\u001b[39;00m\n\u001b[0;32m      <a href='vscode-notebook-cell:/d%3A/mtrie/OneDrive/Documents/IT/python/Rental_pricing_prediction/housing.ipynb#X31sZmlsZQ%3D%3D?line=8'>9</a>\u001b[0m     new_data_transformed \u001b[39m=\u001b[39m polynomial_features\u001b[39m.\u001b[39mtransform(new_data)\n",
      "\u001b[1;31mKeyError\u001b[0m: 'balcony'"
     ]
    }
   ],
   "source": [
    "def predict_prices_with_polynomial_model(model, polynomial_features, feature_names, new_data_dict_list):\n",
    "    predictions = []\n",
    "\n",
    "    for new_data_dict in new_data_dict_list:\n",
    "        # Extract features from the dictionary\n",
    "        new_data = [[new_data_dict[feature] for feature in feature_names]]\n",
    "\n",
    "        # Transform the new input features using PolynomialFeatures\n",
    "        new_data_transformed = polynomial_features.transform(new_data)\n",
    "\n",
    "        # Make predictions using the trained model\n",
    "        prediction = model.predict(new_data_transformed)\n",
    "        predictions.append(prediction[0])\n",
    "\n",
    "    return predictions\n",
    "\n",
    "# Example usage:\n",
    "new_data_dict_list = [\n",
    "    {'area': 120, 'bedrooms': 3, 'bathrooms': 2, 'washingmachine': 1, 'dtcenter': 2, 'dtrec': 1,\n",
    "     'dthospital': 3, 'kitchen': 1, 'ac': 1, 'furnish': 2, 'parking': 1, 'security': 1},\n",
    "    # Add more dictionaries for additional instances\n",
    "]   \n",
    "\n",
    "predictions = predict_prices_with_polynomial_model(model_2, polynomial_features, num_vars[1:], new_data_dict_list)\n",
    "print(\"Predicted Prices:\", predictions)\n"
   ]
  },
  {
   "cell_type": "code",
   "execution_count": 51,
   "metadata": {},
   "outputs": [],
   "source": [
    "xtt = polynomial_features.fit_transform(X_test)\n",
    "y_pred_2 = model_2.predict(xtt) "
   ]
  },
  {
   "cell_type": "code",
   "execution_count": 52,
   "metadata": {},
   "outputs": [],
   "source": [
    "# Making predictions\n",
    "y_pred = lm.predict(X_test)"
   ]
  },
  {
   "cell_type": "code",
   "execution_count": 53,
   "metadata": {},
   "outputs": [
    {
     "data": {
      "text/plain": [
       "0.6219251272662156"
      ]
     },
     "execution_count": 53,
     "metadata": {},
     "output_type": "execute_result"
    }
   ],
   "source": [
    "from sklearn.metrics import r2_score \n",
    "r2_score(y_test, y_pred)"
   ]
  },
  {
   "cell_type": "code",
   "execution_count": 54,
   "metadata": {},
   "outputs": [
    {
     "data": {
      "text/plain": [
       "0.7361107942689389"
      ]
     },
     "execution_count": 54,
     "metadata": {},
     "output_type": "execute_result"
    }
   ],
   "source": [
    "r2_score(y_test,y_pred_2)"
   ]
  },
  {
   "cell_type": "code",
   "execution_count": 55,
   "metadata": {},
   "outputs": [
    {
     "data": {
      "text/plain": [
       "Text(0, 0.5, 'y_pred')"
      ]
     },
     "execution_count": 55,
     "metadata": {},
     "output_type": "execute_result"
    },
    {
     "data": {
      "image/png": "[encoded data removed]",
      "text/plain": [
       "<Figure size 640x480 with 1 Axes>"
      ]
     },
     "metadata": {},
     "output_type": "display_data"
    }
   ],
   "source": [
    "# Plotting y_test and y_pred to understand the spread.\n",
    "fig = plt.figure()\n",
    "plt.scatter(y_test,y_pred)\n",
    "fig.suptitle('y_test vs y_pred', fontsize=20)              # Plot heading \n",
    "plt.xlabel('y_test', fontsize=18)                          # X-label\n",
    "plt.ylabel('y_pred', fontsize=16)                          # Y-label"
   ]
  },
  {
   "cell_type": "code",
   "execution_count": 56,
   "metadata": {},
   "outputs": [
    {
     "data": {
      "text/plain": [
       "Text(0, 0.5, 'y_pred_2')"
      ]
     },
     "execution_count": 56,
     "metadata": {},
     "output_type": "execute_result"
    },
    {
     "data": {
      "image/png": "[encoded data removed]",
      "text/plain": [
       "<Figure size 640x480 with 1 Axes>"
      ]
     },
     "metadata": {},
     "output_type": "display_data"
    }
   ],
   "source": [
    "# Plotting y_test and y_pred to understand the spread.\n",
    "fig = plt.figure()\n",
    "plt.scatter(y_test,y_pred_2)\n",
    "fig.suptitle('y_test vs y_pred_2', fontsize=20)              # Plot heading \n",
    "plt.xlabel('y_test', fontsize=18)                          # X-label\n",
    "plt.ylabel('y_pred_2', fontsize=16)                          # Y-label"
   ]
  },
  {
   "cell_type": "code",
   "execution_count": null,
   "metadata": {},
   "outputs": [],
   "source": []
  }
 ],
 "metadata": {
  "kernelspec": {
   "display_name": "Python 3",
   "language": "python",
   "name": "python3"
  },
  "language_info": {
   "codemirror_mode": {
    "name": "ipython",
    "version": 3
   },
   "file_extension": ".py",
   "mimetype": "text/x-python",
   "name": "python",
   "nbconvert_exporter": "python",
   "pygments_lexer": "ipython3",
   "version": "3.11.1"
  }
 },
 "nbformat": 4,
 "nbformat_minor": 2
}
