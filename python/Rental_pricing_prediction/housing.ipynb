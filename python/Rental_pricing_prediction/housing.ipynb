{
 "cells": [
  {
   "cell_type": "code",
   "execution_count": 2,
   "metadata": {},
   "outputs": [],
   "source": [
    "# Supress Warnings\n",
    "\n",
    "import warnings\n",
    "warnings.filterwarnings('ignore')\n",
    "\n",
    "# Import the numpy and pandas package\n",
    "\n",
    "import numpy as np\n",
    "import pandas as pd\n",
    "\n",
    "# Data Visualisation\n",
    "\n",
    "import matplotlib.pyplot as plt \n",
    "import seaborn as sns\n",
    "\n",
    "#split data\n",
    "from sklearn.model_selection import train_test_split\n",
    "\n",
    "# Importing RFE and LinearRegression\n",
    "from sklearn.feature_selection import RFE\n",
    "from sklearn.linear_model import LinearRegression\n",
    "from sklearn.preprocessing import PolynomialFeatures\n",
    "import statsmodels.api as sm  "
   ]
  },
  {
   "cell_type": "code",
   "execution_count": 3,
   "metadata": {},
   "outputs": [],
   "source": [
    "housing = pd.DataFrame(pd.read_csv(\"Housing_data_final(10).csv\"))\n",
    "housing2 = pd.DataFrame(pd.read_csv(\"Housing_data_final(11).csv\"))"
   ]
  },
  {
   "cell_type": "code",
   "execution_count": 4,
   "metadata": {},
   "outputs": [
    {
     "data": {
      "text/html": [
       "<div>\n",
       "<style scoped>\n",
       "    .dataframe tbody tr th:only-of-type {\n",
       "        vertical-align: middle;\n",
       "    }\n",
       "\n",
       "    .dataframe tbody tr th {\n",
       "        vertical-align: top;\n",
       "    }\n",
       "\n",
       "    .dataframe thead th {\n",
       "        text-align: right;\n",
       "    }\n",
       "</style>\n",
       "<table border=\"1\" class=\"dataframe\">\n",
       "  <thead>\n",
       "    <tr style=\"text-align: right;\">\n",
       "      <th></th>\n",
       "      <th>price</th>\n",
       "      <th>area</th>\n",
       "      <th>bedrooms</th>\n",
       "      <th>bathrooms</th>\n",
       "      <th>washingmachine</th>\n",
       "      <th>dtcenter</th>\n",
       "      <th>kitchen</th>\n",
       "      <th>ac</th>\n",
       "      <th>balcony</th>\n",
       "      <th>parking</th>\n",
       "      <th>furnish</th>\n",
       "    </tr>\n",
       "  </thead>\n",
       "  <tbody>\n",
       "    <tr>\n",
       "      <th>0</th>\n",
       "      <td>1645136.35</td>\n",
       "      <td>9.9</td>\n",
       "      <td>1</td>\n",
       "      <td>1</td>\n",
       "      <td>0</td>\n",
       "      <td>3.783407</td>\n",
       "      <td>0</td>\n",
       "      <td>0</td>\n",
       "      <td>1</td>\n",
       "      <td>0</td>\n",
       "      <td>0</td>\n",
       "    </tr>\n",
       "    <tr>\n",
       "      <th>1</th>\n",
       "      <td>1646078.72</td>\n",
       "      <td>12.4</td>\n",
       "      <td>2</td>\n",
       "      <td>1</td>\n",
       "      <td>0</td>\n",
       "      <td>8.297627</td>\n",
       "      <td>0</td>\n",
       "      <td>1</td>\n",
       "      <td>1</td>\n",
       "      <td>0</td>\n",
       "      <td>0</td>\n",
       "    </tr>\n",
       "    <tr>\n",
       "      <th>2</th>\n",
       "      <td>1658431.06</td>\n",
       "      <td>14.9</td>\n",
       "      <td>1</td>\n",
       "      <td>1</td>\n",
       "      <td>0</td>\n",
       "      <td>3.601562</td>\n",
       "      <td>0</td>\n",
       "      <td>1</td>\n",
       "      <td>0</td>\n",
       "      <td>1</td>\n",
       "      <td>0</td>\n",
       "    </tr>\n",
       "    <tr>\n",
       "      <th>3</th>\n",
       "      <td>1694781.66</td>\n",
       "      <td>22.3</td>\n",
       "      <td>1</td>\n",
       "      <td>1</td>\n",
       "      <td>0</td>\n",
       "      <td>7.930386</td>\n",
       "      <td>1</td>\n",
       "      <td>1</td>\n",
       "      <td>0</td>\n",
       "      <td>0</td>\n",
       "      <td>0</td>\n",
       "    </tr>\n",
       "    <tr>\n",
       "      <th>4</th>\n",
       "      <td>1700025.47</td>\n",
       "      <td>11.2</td>\n",
       "      <td>1</td>\n",
       "      <td>1</td>\n",
       "      <td>0</td>\n",
       "      <td>3.443001</td>\n",
       "      <td>0</td>\n",
       "      <td>0</td>\n",
       "      <td>1</td>\n",
       "      <td>0</td>\n",
       "      <td>0</td>\n",
       "    </tr>\n",
       "  </tbody>\n",
       "</table>\n",
       "</div>"
      ],
      "text/plain": [
       "        price  area  bedrooms  bathrooms  washingmachine  dtcenter  kitchen  \\\n",
       "0  1645136.35   9.9         1          1               0  3.783407        0   \n",
       "1  1646078.72  12.4         2          1               0  8.297627        0   \n",
       "2  1658431.06  14.9         1          1               0  3.601562        0   \n",
       "3  1694781.66  22.3         1          1               0  7.930386        1   \n",
       "4  1700025.47  11.2         1          1               0  3.443001        0   \n",
       "\n",
       "   ac  balcony  parking  furnish  \n",
       "0   0        1        0        0  \n",
       "1   1        1        0        0  \n",
       "2   1        0        1        0  \n",
       "3   1        0        0        0  \n",
       "4   0        1        0        0  "
      ]
     },
     "execution_count": 4,
     "metadata": {},
     "output_type": "execute_result"
    }
   ],
   "source": [
    "# Check the head of the dataset\n",
    "housing.head()"
   ]
  },
  {
   "cell_type": "code",
   "execution_count": 5,
   "metadata": {},
   "outputs": [
    {
     "data": {
      "text/plain": [
       "(1635, 11)"
      ]
     },
     "execution_count": 5,
     "metadata": {},
     "output_type": "execute_result"
    }
   ],
   "source": [
    "housing.shape"
   ]
  },
  {
   "cell_type": "code",
   "execution_count": 6,
   "metadata": {},
   "outputs": [
    {
     "name": "stdout",
     "output_type": "stream",
     "text": [
      "<class 'pandas.core.frame.DataFrame'>\n",
      "RangeIndex: 1635 entries, 0 to 1634\n",
      "Data columns (total 11 columns):\n",
      " #   Column          Non-Null Count  Dtype  \n",
      "---  ------          --------------  -----  \n",
      " 0   price           1635 non-null   float64\n",
      " 1   area            1635 non-null   float64\n",
      " 2   bedrooms        1635 non-null   int64  \n",
      " 3   bathrooms       1635 non-null   int64  \n",
      " 4   washingmachine  1635 non-null   int64  \n",
      " 5   dtcenter        1635 non-null   float64\n",
      " 6   kitchen         1635 non-null   int64  \n",
      " 7   ac              1635 non-null   int64  \n",
      " 8   balcony         1635 non-null   int64  \n",
      " 9   parking         1635 non-null   int64  \n",
      " 10  furnish         1635 non-null   int64  \n",
      "dtypes: float64(3), int64(8)\n",
      "memory usage: 140.6 KB\n"
     ]
    }
   ],
   "source": [
    "housing.info()"
   ]
  },
  {
   "cell_type": "code",
   "execution_count": 7,
   "metadata": {},
   "outputs": [],
   "source": [
    "# outlier treatment for area\n",
    "#Q1 = housing.area.quantile(0.25)\n",
    "#Q3 = housing.area.quantile(0.75)\n",
    "#IQR = Q3 - Q1\n",
    "#housing = housing[(housing.area >= Q1 - 1.5*IQR) & (housing.area <= Q3 + 1.5*IQR)]"
   ]
  },
  {
   "cell_type": "code",
   "execution_count": 8,
   "metadata": {},
   "outputs": [],
   "source": [
    "# outlier treatment for price\n",
    "#Q1 = housing.price.quantile(0.25)\n",
    "#Q3 = housing.price.quantile(0.75)\n",
    "#IQR = Q3 - Q1\n",
    "#housing = housing[(housing.price >= Q1 - 1.5*IQR) & (housing.price <= Q3 + 1.5*IQR)]"
   ]
  },
  {
   "cell_type": "code",
   "execution_count": 9,
   "metadata": {},
   "outputs": [],
   "source": [
    "# We specify this so that the train and test data set always have the same rows, respectively\n",
    "np.random.seed(0)\n",
    "df_train, df_test = train_test_split(housing, train_size = 0.7, test_size = 0.3, random_state = 100)\n",
    "df_train2, df_test2 = train_test_split(housing, train_size = 0.1, test_size = 0.9, random_state = 100)"
   ]
  },
  {
   "cell_type": "code",
   "execution_count": 10,
   "metadata": {},
   "outputs": [],
   "source": [
    "from sklearn.preprocessing import MinMaxScaler\n",
    "scaler = MinMaxScaler()"
   ]
  },
  {
   "cell_type": "code",
   "execution_count": 11,
   "metadata": {},
   "outputs": [],
   "source": [
    "# Apply scaler() to all the columns except the 'yes-no' and 'dummy' variables\n",
    "num_vars = ['price', 'area', 'bedrooms', 'bathrooms', 'washingmachine', 'dtcenter', 'kitchen', 'ac', 'balcony', 'parking', 'furnish']\n",
    "df_train[num_vars] = scaler.fit_transform(df_train[num_vars])"
   ]
  },
  {
   "cell_type": "code",
   "execution_count": 12,
   "metadata": {},
   "outputs": [],
   "source": [
    "y_train = df_train.pop('price')\n",
    "X_train = df_train"
   ]
  },
  {
   "cell_type": "code",
   "execution_count": 13,
   "metadata": {},
   "outputs": [
    {
     "name": "stdout",
     "output_type": "stream",
     "text": [
      "-0.2061902985091416\n",
      "[ 0.57089856  0.04401489  0.19394326  0.04679482 -0.11890669  0.04266996\n",
      "  0.06324524  0.09926079  0.07518975  0.02517091]\n"
     ]
    }
   ],
   "source": [
    "lm = LinearRegression()\n",
    "lm.fit(X_train, y_train)\n",
    "\n",
    "print(lm.intercept_)\n",
    "print(lm.coef_)"
   ]
  },
  {
   "cell_type": "code",
   "execution_count": 14,
   "metadata": {},
   "outputs": [],
   "source": [
    "lm = sm.OLS(y_train,X_train).fit()   # Running the linear model"
   ]
  },
  {
   "cell_type": "code",
   "execution_count": 15,
   "metadata": {},
   "outputs": [
    {
     "name": "stdout",
     "output_type": "stream",
     "text": [
      "const   -1.675016e-01\n",
      "x1       6.670069e-01\n",
      "x2       2.435692e-01\n",
      "x3      -2.095218e-01\n",
      "x4      -1.145120e+07\n",
      "             ...     \n",
      "x61      1.413605e-02\n",
      "x62      2.378884e-02\n",
      "x63     -6.228275e-02\n",
      "x64     -3.084529e-03\n",
      "x65      1.534801e-03\n",
      "Length: 66, dtype: float64\n"
     ]
    }
   ],
   "source": [
    "from sklearn.preprocessing import PolynomialFeatures\n",
    "polynomial_features= PolynomialFeatures(degree=2, include_bias=True)\n",
    "xp = polynomial_features.fit_transform(X_train)\n",
    "xp.shape\n",
    "\n",
    "model_2 = sm.OLS(y_train, xp).fit()\n",
    "\n",
    "print(model_2.params)"
   ]
  },
  {
   "cell_type": "code",
   "execution_count": 16,
   "metadata": {},
   "outputs": [
    {
     "name": "stdout",
     "output_type": "stream",
     "text": [
      "                                 OLS Regression Results                                \n",
      "=======================================================================================\n",
      "Dep. Variable:                  price   R-squared (uncentered):                   0.897\n",
      "Model:                            OLS   Adj. R-squared (uncentered):              0.896\n",
      "Method:                 Least Squares   F-statistic:                              984.0\n",
      "Date:                Wed, 06 Dec 2023   Prob (F-statistic):                        0.00\n",
      "Time:                        20:31:50   Log-Likelihood:                          1047.2\n",
      "No. Observations:                1144   AIC:                                     -2074.\n",
      "Df Residuals:                    1134   BIC:                                     -2024.\n",
      "Df Model:                          10                                                  \n",
      "Covariance Type:            nonrobust                                                  \n",
      "==================================================================================\n",
      "                     coef    std err          t      P>|t|      [0.025      0.975]\n",
      "----------------------------------------------------------------------------------\n",
      "area               0.4054      0.017     23.625      0.000       0.372       0.439\n",
      "bedrooms           0.0458      0.015      3.111      0.002       0.017       0.075\n",
      "bathrooms          0.1237      0.014      8.617      0.000       0.096       0.152\n",
      "washingmachine     0.0456      0.006      7.229      0.000       0.033       0.058\n",
      "dtcenter          -0.2824      0.016    -17.730      0.000      -0.314      -0.251\n",
      "kitchen            0.0033      0.009      0.380      0.704      -0.014       0.020\n",
      "ac                 0.0335      0.008      4.070      0.000       0.017       0.050\n",
      "balcony            0.0719      0.013      5.597      0.000       0.047       0.097\n",
      "parking            0.0556      0.009      6.223      0.000       0.038       0.073\n",
      "furnish            0.0207      0.008      2.609      0.009       0.005       0.036\n",
      "==============================================================================\n",
      "Omnibus:                      149.895   Durbin-Watson:                   2.069\n",
      "Prob(Omnibus):                  0.000   Jarque-Bera (JB):              263.843\n",
      "Skew:                           0.838   Prob(JB):                     5.10e-58\n",
      "Kurtosis:                       4.651   Cond. No.                         11.5\n",
      "==============================================================================\n",
      "\n",
      "Notes:\n",
      "[1] R² is computed without centering (uncentered) since the model does not contain a constant.\n",
      "[2] Standard Errors assume that the covariance matrix of the errors is correctly specified.\n"
     ]
    }
   ],
   "source": [
    "#Let's see the summary of our linear model\\\n",
    "print(lm.summary())"
   ]
  },
  {
   "cell_type": "code",
   "execution_count": 17,
   "metadata": {},
   "outputs": [
    {
     "data": {
      "text/html": [
       "<div>\n",
       "<style scoped>\n",
       "    .dataframe tbody tr th:only-of-type {\n",
       "        vertical-align: middle;\n",
       "    }\n",
       "\n",
       "    .dataframe tbody tr th {\n",
       "        vertical-align: top;\n",
       "    }\n",
       "\n",
       "    .dataframe thead th {\n",
       "        text-align: right;\n",
       "    }\n",
       "</style>\n",
       "<table border=\"1\" class=\"dataframe\">\n",
       "  <thead>\n",
       "    <tr style=\"text-align: right;\">\n",
       "      <th></th>\n",
       "      <th>Features</th>\n",
       "      <th>VIF</th>\n",
       "    </tr>\n",
       "  </thead>\n",
       "  <tbody>\n",
       "    <tr>\n",
       "      <th>5</th>\n",
       "      <td>kitchen</td>\n",
       "      <td>7.86</td>\n",
       "    </tr>\n",
       "    <tr>\n",
       "      <th>2</th>\n",
       "      <td>bathrooms</td>\n",
       "      <td>7.68</td>\n",
       "    </tr>\n",
       "    <tr>\n",
       "      <th>6</th>\n",
       "      <td>ac</td>\n",
       "      <td>6.92</td>\n",
       "    </tr>\n",
       "    <tr>\n",
       "      <th>7</th>\n",
       "      <td>balcony</td>\n",
       "      <td>5.27</td>\n",
       "    </tr>\n",
       "    <tr>\n",
       "      <th>0</th>\n",
       "      <td>area</td>\n",
       "      <td>3.96</td>\n",
       "    </tr>\n",
       "    <tr>\n",
       "      <th>8</th>\n",
       "      <td>parking</td>\n",
       "      <td>3.94</td>\n",
       "    </tr>\n",
       "    <tr>\n",
       "      <th>3</th>\n",
       "      <td>washingmachine</td>\n",
       "      <td>2.76</td>\n",
       "    </tr>\n",
       "    <tr>\n",
       "      <th>9</th>\n",
       "      <td>furnish</td>\n",
       "      <td>2.71</td>\n",
       "    </tr>\n",
       "    <tr>\n",
       "      <th>4</th>\n",
       "      <td>dtcenter</td>\n",
       "      <td>2.06</td>\n",
       "    </tr>\n",
       "    <tr>\n",
       "      <th>1</th>\n",
       "      <td>bedrooms</td>\n",
       "      <td>1.38</td>\n",
       "    </tr>\n",
       "  </tbody>\n",
       "</table>\n",
       "</div>"
      ],
      "text/plain": [
       "         Features   VIF\n",
       "5         kitchen  7.86\n",
       "2       bathrooms  7.68\n",
       "6              ac  6.92\n",
       "7         balcony  5.27\n",
       "0            area  3.96\n",
       "8         parking  3.94\n",
       "3  washingmachine  2.76\n",
       "9         furnish  2.71\n",
       "4        dtcenter  2.06\n",
       "1        bedrooms  1.38"
      ]
     },
     "execution_count": 17,
     "metadata": {},
     "output_type": "execute_result"
    }
   ],
   "source": [
    "from statsmodels.stats.outliers_influence import variance_inflation_factor\n",
    "vif = pd.DataFrame()\n",
    "X = X_train\n",
    "vif['Features'] = X.columns\n",
    "vif['VIF'] = [variance_inflation_factor(X.values, i) for i in range(X.shape[1])]\n",
    "vif['VIF'] = round(vif['VIF'], 2)\n",
    "vif = vif.sort_values(by = \"VIF\", ascending = False)\n",
    "vif"
   ]
  },
  {
   "cell_type": "code",
   "execution_count": 18,
   "metadata": {},
   "outputs": [
    {
     "name": "stdout",
     "output_type": "stream",
     "text": [
      "                            OLS Regression Results                            \n",
      "==============================================================================\n",
      "Dep. Variable:                  price   R-squared:                       0.817\n",
      "Model:                            OLS   Adj. R-squared:                  0.806\n",
      "Method:                 Least Squares   F-statistic:                     77.60\n",
      "Date:                Wed, 06 Dec 2023   Prob (F-statistic):               0.00\n",
      "Time:                        20:31:51   Log-Likelihood:                 1420.3\n",
      "No. Observations:                1144   AIC:                            -2715.\n",
      "Df Residuals:                    1081   BIC:                            -2397.\n",
      "Df Model:                          62                                         \n",
      "Covariance Type:            nonrobust                                         \n",
      "==============================================================================\n",
      "                 coef    std err          t      P>|t|      [0.025      0.975]\n",
      "------------------------------------------------------------------------------\n",
      "const         -0.1675      0.064     -2.603      0.009      -0.294      -0.041\n",
      "x1             0.6670      0.134      4.989      0.000       0.405       0.929\n",
      "x2             0.2436      0.103      2.368      0.018       0.042       0.445\n",
      "x3            -0.2095      0.095     -2.211      0.027      -0.395      -0.024\n",
      "x4         -1.145e+07   1.97e+07     -0.583      0.560      -5e+07    2.71e+07\n",
      "x5             0.5275      0.151      3.488      0.001       0.231       0.824\n",
      "x6         -1.071e+11   1.84e+11     -0.583      0.560   -4.68e+11    2.54e+11\n",
      "x7         -1.166e+08      2e+08     -0.583      0.560   -5.09e+08    2.76e+08\n",
      "x8             0.2347      0.070      3.361      0.001       0.098       0.372\n",
      "x9             0.1070      0.053      2.032      0.042       0.004       0.210\n",
      "x10            0.2724      0.045      6.022      0.000       0.184       0.361\n",
      "x11           -0.1542      0.091     -1.692      0.091      -0.333       0.025\n",
      "x12           -0.0541      0.107     -0.507      0.613      -0.263       0.155\n",
      "x13            0.5237      0.111      4.721      0.000       0.306       0.741\n",
      "x14            0.0459      0.044      1.047      0.295      -0.040       0.132\n",
      "x15           -1.4410      0.154     -9.332      0.000      -1.744      -1.138\n",
      "x16            0.0154      0.050      0.309      0.758      -0.082       0.113\n",
      "x17            0.1221      0.050      2.432      0.015       0.024       0.221\n",
      "x18           -0.2621      0.083     -3.139      0.002      -0.426      -0.098\n",
      "x19           -0.0101      0.067     -0.150      0.881      -0.142       0.122\n",
      "x20           -0.2748      0.050     -5.447      0.000      -0.374      -0.176\n",
      "x21           -0.3157      0.095     -3.314      0.001      -0.503      -0.129\n",
      "x22            0.0154      0.061      0.250      0.802      -0.105       0.136\n",
      "x23            0.0038      0.026      0.146      0.884      -0.047       0.055\n",
      "x24           -0.2104      0.107     -1.966      0.050      -0.420      -0.000\n",
      "x25            0.0916      0.039      2.361      0.018       0.015       0.168\n",
      "x26           -0.0174      0.041     -0.427      0.669      -0.097       0.062\n",
      "x27           -0.1594      0.054     -2.941      0.003      -0.266      -0.053\n",
      "x28           -0.0461      0.037     -1.255      0.210      -0.118       0.026\n",
      "x29           -0.0050      0.032     -0.156      0.876      -0.068       0.058\n",
      "x30            0.1236      0.060      2.047      0.041       0.005       0.242\n",
      "x31            0.0280      0.029      0.983      0.326      -0.028       0.084\n",
      "x32           -0.0757      0.119     -0.638      0.523      -0.308       0.157\n",
      "x33            0.0573      0.036      1.588      0.113      -0.014       0.128\n",
      "x34            0.1398      0.039      3.544      0.000       0.062       0.217\n",
      "x35           -0.1045      0.068     -1.536      0.125      -0.238       0.029\n",
      "x36            0.0005      0.050      0.010      0.992      -0.097       0.098\n",
      "x37           -0.1221      0.037     -3.323      0.001      -0.194      -0.050\n",
      "x38         1.145e+07   1.97e+07      0.583      0.560   -2.71e+07       5e+07\n",
      "x39           -0.0951      0.039     -2.449      0.014      -0.171      -0.019\n",
      "x40           -0.0158      0.017     -0.917      0.359      -0.050       0.018\n",
      "x41            0.0132      0.014      0.912      0.362      -0.015       0.042\n",
      "x42            0.0148      0.023      0.634      0.526      -0.031       0.061\n",
      "x43            0.0156      0.015      1.016      0.310      -0.014       0.046\n",
      "x44           -0.0057      0.013     -0.428      0.669      -0.032       0.021\n",
      "x45            0.1312      0.087      1.516      0.130      -0.039       0.301\n",
      "x46           -0.0104      0.047     -0.222      0.824      -0.102       0.082\n",
      "x47           -0.0611      0.045     -1.370      0.171      -0.149       0.026\n",
      "x48           -0.3575      0.068     -5.224      0.000      -0.492      -0.223\n",
      "x49           -0.2236      0.055     -4.032      0.000      -0.332      -0.115\n",
      "x50           -0.2986      0.048     -6.267      0.000      -0.392      -0.205\n",
      "x51         1.071e+11   1.84e+11      0.583      0.560   -2.54e+11    4.68e+11\n",
      "x52            0.0195      0.016      1.184      0.237      -0.013       0.052\n",
      "x53           -0.0099      0.033     -0.300      0.764      -0.075       0.055\n",
      "x54           -0.0141      0.024     -0.581      0.561      -0.062       0.034\n",
      "x55           -0.0176      0.021     -0.855      0.393      -0.058       0.023\n",
      "x56         1.166e+08      2e+08      0.583      0.560   -2.76e+08    5.09e+08\n",
      "x57           -0.0711      0.032     -2.200      0.028      -0.135      -0.008\n",
      "x58            0.0838      0.024      3.502      0.000       0.037       0.131\n",
      "x59           -0.0398      0.019     -2.095      0.036      -0.077      -0.003\n",
      "x60            0.1475      0.034      4.317      0.000       0.080       0.215\n",
      "x61            0.0141      0.031      0.460      0.645      -0.046       0.074\n",
      "x62            0.0238      0.028      0.860      0.390      -0.030       0.078\n",
      "x63           -0.0623      0.023     -2.726      0.007      -0.107      -0.017\n",
      "x64           -0.0031      0.019     -0.164      0.870      -0.040       0.034\n",
      "x65            0.0015      0.018      0.083      0.934      -0.035       0.038\n",
      "==============================================================================\n",
      "Omnibus:                       41.698   Durbin-Watson:                   2.028\n",
      "Prob(Omnibus):                  0.000   Jarque-Bera (JB):               91.119\n",
      "Skew:                           0.194   Prob(JB):                     1.64e-20\n",
      "Kurtosis:                       4.327   Cond. No.                     1.12e+16\n",
      "==============================================================================\n",
      "\n",
      "Notes:\n",
      "[1] Standard Errors assume that the covariance matrix of the errors is correctly specified.\n",
      "[2] The smallest eigenvalue is 1.01e-28. This might indicate that there are\n",
      "strong multicollinearity problems or that the design matrix is singular.\n"
     ]
    }
   ],
   "source": [
    "print(model_2.summary())"
   ]
  },
  {
   "cell_type": "code",
   "execution_count": 19,
   "metadata": {},
   "outputs": [],
   "source": [
    "# Importing the required libraries for plots.\n",
    "import matplotlib.pyplot as plt\n",
    "import seaborn as sns\n",
    "%matplotlib inline"
   ]
  },
  {
   "cell_type": "code",
   "execution_count": 20,
   "metadata": {},
   "outputs": [],
   "source": [
    "num_vars = ['price', 'area', 'bedrooms', 'bathrooms', 'washingmachine', 'dtcenter', 'kitchen', 'ac', 'furnish', 'balcony', 'parking', 'furnish']"
   ]
  },
  {
   "cell_type": "code",
   "execution_count": 21,
   "metadata": {},
   "outputs": [],
   "source": [
    "df_test[num_vars] = scaler.fit_transform(df_test[num_vars])\n",
    "df_test2[num_vars] = scaler.fit_transform(df_test2[num_vars])"
   ]
  },
  {
   "cell_type": "code",
   "execution_count": 22,
   "metadata": {},
   "outputs": [],
   "source": [
    "y_test = df_test.pop('price')\n",
    "X_test = df_test\n",
    "y_test2 = df_test2.pop('price')\n",
    "X_test2 = df_test2"
   ]
  },
  {
   "cell_type": "code",
   "execution_count": 23,
   "metadata": {},
   "outputs": [
    {
     "name": "stdout",
     "output_type": "stream",
     "text": [
      "585     0.158848\n",
      "629     0.165170\n",
      "1216    0.306443\n",
      "258     0.104589\n",
      "143     0.062420\n",
      "          ...   \n",
      "533     0.150427\n",
      "687     0.171654\n",
      "1111    0.266201\n",
      "568     0.156049\n",
      "374     0.123753\n",
      "Name: price, Length: 491, dtype: float64\n"
     ]
    }
   ],
   "source": [
    "# Adding constant variable to test dataframe\n",
    "#X_test = sm.add_constant(X_test)\n",
    "print(y_test)"
   ]
  },
  {
   "cell_type": "code",
   "execution_count": 24,
   "metadata": {},
   "outputs": [],
   "source": [
    "xtt = polynomial_features.fit_transform(X_test)\n",
    "y_pred_2 = model_2.predict(xtt) "
   ]
  },
  {
   "cell_type": "code",
   "execution_count": 25,
   "metadata": {},
   "outputs": [],
   "source": [
    "# Making predictions\n",
    "y_pred = lm.predict(X_test)\n",
    "y_pred2 = lm.predict(X_test2)"
   ]
  },
  {
   "cell_type": "code",
   "execution_count": 26,
   "metadata": {},
   "outputs": [
    {
     "data": {
      "text/plain": [
       "0.6071554648650068"
      ]
     },
     "execution_count": 26,
     "metadata": {},
     "output_type": "execute_result"
    }
   ],
   "source": [
    "from sklearn.metrics import r2_score \n",
    "r2_score(y_test, y_pred)"
   ]
  },
  {
   "cell_type": "code",
   "execution_count": 27,
   "metadata": {},
   "outputs": [
    {
     "data": {
      "text/plain": [
       "0.635485555333695"
      ]
     },
     "execution_count": 27,
     "metadata": {},
     "output_type": "execute_result"
    }
   ],
   "source": [
    "r2_score(y_test2, y_pred2)"
   ]
  },
  {
   "cell_type": "code",
   "execution_count": 28,
   "metadata": {},
   "outputs": [
    {
     "data": {
      "text/plain": [
       "0.762972665714003"
      ]
     },
     "execution_count": 28,
     "metadata": {},
     "output_type": "execute_result"
    }
   ],
   "source": [
    "r2_score(y_test,y_pred_2)"
   ]
  },
  {
   "cell_type": "code",
   "execution_count": 37,
   "metadata": {},
   "outputs": [
    {
     "name": "stdout",
     "output_type": "stream",
     "text": [
      "0.009009338190873762\n"
     ]
    }
   ],
   "source": [
    "from sklearn.metrics import mean_squared_error\n",
    "score = (mean_squared_error(y_test2, y_pred2))\n",
    "print(score)"
   ]
  },
  {
   "cell_type": "code",
   "execution_count": 199,
   "metadata": {},
   "outputs": [
    {
     "data": {
      "image/png": "[encoded data removed]",
      "text/plain": [
       "<Figure size 640x480 with 1 Axes>"
      ]
     },
     "metadata": {},
     "output_type": "display_data"
    }
   ],
   "source": [
    "# Assuming y_test and y_pred are arrays of actual and predicted prices, respectively\n",
    "\n",
    "# Plotting y_test and y_pred to understand the spread.\n",
    "fig = plt.figure()\n",
    "plt.scatter(y_test, y_pred)\n",
    "fig.suptitle('y_test vs y_pred', fontsize=20)  # Plot heading\n",
    "plt.xlabel('y_test', fontsize=18)  # X-label\n",
    "plt.ylabel('y_pred', fontsize=16)  # Y-label\n",
    "\n",
    "# Set y-axis ticks and labels to represent actual price values\n",
    "plt.yticks(np.arange(min(y_test), max(y_test)+1, 1000))\n",
    "plt.xticks(np.arange(min(y_test), max(y_test)+1, 1000))\n",
    "\n",
    "plt.show()\n"
   ]
  },
  {
   "cell_type": "code",
   "execution_count": 160,
   "metadata": {},
   "outputs": [
    {
     "data": {
      "text/plain": [
       "Text(0, 0.5, 'Giá thực tế')"
      ]
     },
     "execution_count": 160,
     "metadata": {},
     "output_type": "execute_result"
    },
    {
     "data": {
      "image/png": "[encoded data removed]",
      "text/plain": [
       "<Figure size 640x480 with 1 Axes>"
      ]
     },
     "metadata": {},
     "output_type": "display_data"
    }
   ],
   "source": [
    "# Plotting y_test and y_pred to understand the spread.\n",
    "fig = plt.figure()\n",
    "plt.scatter(y_test,y_pred_2)\n",
    "fig.suptitle('Giá dự đoán và giá thực tế', fontsize=20)              # Plot heading \n",
    "plt.xlabel('Giá dự đoán', fontsize=18)                          # X-label\n",
    "plt.ylabel('Giá thực tế', fontsize=16)                          # Y-label"
   ]
  },
  {
   "cell_type": "code",
   "execution_count": 158,
   "metadata": {},
   "outputs": [
    {
     "data": {
      "text/plain": [
       "Text(0, 0.5, 'y_pred')"
      ]
     },
     "execution_count": 158,
     "metadata": {},
     "output_type": "execute_result"
    },
    {
     "data": {
      "image/png": "[encoded data removed]",
      "text/plain": [
       "<Figure size 640x480 with 1 Axes>"
      ]
     },
     "metadata": {},
     "output_type": "display_data"
    }
   ],
   "source": [
    "# Plotting y_test and y_pred to understand the spread.\n",
    "fig = plt.figure()\n",
    "plt.scatter(y_test2,y_pred2)\n",
    "fig.suptitle('y_test vs y_pred', fontsize=20)              # Plot heading \n",
    "plt.xlabel('y_test', fontsize=18)                          # X-label\n",
    "plt.ylabel('y_pred', fontsize=16)                          # Y-label"
   ]
  },
  {
   "cell_type": "code",
   "execution_count": null,
   "metadata": {},
   "outputs": [],
   "source": []
  }
 ],
 "metadata": {
  "kernelspec": {
   "display_name": "Python 3",
   "language": "python",
   "name": "python3"
  },
  "language_info": {
   "codemirror_mode": {
    "name": "ipython",
    "version": 3
   },
   "file_extension": ".py",
   "mimetype": "text/x-python",
   "name": "python",
   "nbconvert_exporter": "python",
   "pygments_lexer": "ipython3",
   "version": "3.11.1"
  }
 },
 "nbformat": 4,
 "nbformat_minor": 2
}
