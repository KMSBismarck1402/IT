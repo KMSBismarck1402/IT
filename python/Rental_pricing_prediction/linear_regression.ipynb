{
 "cells": [
  {
   "cell_type": "code",
   "execution_count": 2,
   "metadata": {},
   "outputs": [],
   "source": [
    "import os\n",
    "import pandas as pd\n",
    "import numpy as np\n",
    "from sklearn import linear_model\n",
    "from sklearn.model_selection import train_test_split\n",
    "from sklearn.pipeline import Pipeline\n",
    "from sklearn.preprocessing import PolynomialFeatures"
   ]
  },
  {
   "cell_type": "code",
   "execution_count": 3,
   "metadata": {},
   "outputs": [],
   "source": [
    "def getData():\n",
    "    # Get home data from CSV file\n",
    "    dataFile = None\n",
    "    if os.path.exists('home_data.csv'):\n",
    "        print(\"-- home_data.csv found locally\")\n",
    "        dataFile = pd.read_csv('home_data.csv', skipfooter=1)\n",
    "\n",
    "    return dataFile"
   ]
  },
  {
   "cell_type": "code",
   "execution_count": 4,
   "metadata": {},
   "outputs": [],
   "source": [
    "def linearRegressionModel(X_train, Y_train, X_test, Y_test):\n",
    "    linear = linear_model.LinearRegression()\n",
    "\n",
    "    # Training process\n",
    "    linear.fit(X_train, Y_train)\n",
    "    # Evaluating the model\n",
    "    score_trained = linear.score(X_test, Y_test)\n",
    "\n",
    "    return score_trained"
   ]
  },
  {
   "cell_type": "code",
   "execution_count": 5,
   "metadata": {},
   "outputs": [],
   "source": [
    "def lassoRegressionModel(X_train, Y_train, X_test, Y_test):\n",
    "    lasso_linear = linear_model.Lasso(alpha=1.0)\n",
    "    # Training process\n",
    "    lasso_linear.fit(X_train, Y_train)\n",
    "    # Evaluating the model\n",
    "    score_trained = lasso_linear.score(X_test, Y_test)\n",
    "\n",
    "    return score_trained"
   ]
  },
  {
   "cell_type": "code",
   "execution_count": 6,
   "metadata": {},
   "outputs": [],
   "source": [
    "def polynomialRegression(X_train, Y_train, X_test, Y_test, degree):\n",
    "    poly_model = Pipeline([('poly', PolynomialFeatures(degree)),\n",
    "                           ('linear', linear_model.LinearRegression(fit_intercept=False))])\n",
    "    poly_model = poly_model.fit(X_train, Y_train)\n",
    "    score_poly_trained = poly_model.score(X_test, Y_test)\n",
    "\n",
    "    return score_poly_trained"
   ]
  },
  {
   "cell_type": "code",
   "execution_count": 9,
   "metadata": {},
   "outputs": [
    {
     "name": "stdout",
     "output_type": "stream",
     "text": [
      "-- home_data.csv found locally\n",
      "Linear Score =  0.3657383729518331\n",
      "Lasso Score =  0.36574789209530445\n",
      "Poly Score =  0.5411216122563949\n"
     ]
    },
    {
     "name": "stderr",
     "output_type": "stream",
     "text": [
      "C:\\Users\\LENOVO\\AppData\\Local\\Temp\\ipykernel_17488\\3913075788.py:6: ParserWarning: Falling back to the 'python' engine because the 'c' engine does not support skipfooter; you can avoid this warning by specifying engine='python'.\n",
      "  dataFile = pd.read_csv('home_data.csv', skipfooter=1)\n"
     ]
    }
   ],
   "source": [
    "if __name__ == \"__main__\":\n",
    "    data = getData()\n",
    "    if data is not None:\n",
    "        # Selection few attributes\n",
    "        attributes = list(\n",
    "            [\n",
    "                'num_bed',\n",
    "                'year_built',\n",
    "                'num_room',\n",
    "                'num_bath',\n",
    "                'living_area',\n",
    "                'accessible_buildings',\n",
    "                'family_quality',\n",
    "                'art_expos'\n",
    "            ]\n",
    "        )\n",
    "        # Vector price of house\n",
    "        Y = data['askprice']\n",
    "        # print np.array(Y)\n",
    "        # Vector attributes of house\n",
    "        X = data[attributes]\n",
    "        # Split data to training test and testing test\n",
    "        X_train, X_test, Y_train, Y_test = train_test_split(np.array(X), np.array(Y), test_size=0.2)\n",
    "        # Linear Regression Model\n",
    "        linearScore = linearRegressionModel(X_train, Y_train, X_test, Y_test)\n",
    "        print ('Linear Score = ' , linearScore)\n",
    "\n",
    "        # LASSO Regression Model\n",
    "        lassoScore = lassoRegressionModel(X_train, Y_train, X_test, Y_test)\n",
    "        print ('Lasso Score = ', lassoScore)\n",
    "\n",
    "        # Poly Regression Model\n",
    "        polyScore = polynomialRegression(X_train, Y_train, X_test, Y_test, 3)\n",
    "        print ('Poly Score = ', polyScore)"
   ]
  },
  {
   "cell_type": "code",
   "execution_count": null,
   "metadata": {},
   "outputs": [],
   "source": []
  }
 ],
 "metadata": {
  "kernelspec": {
   "display_name": "Python 3",
   "language": "python",
   "name": "python3"
  },
  "language_info": {
   "codemirror_mode": {
    "name": "ipython",
    "version": 3
   },
   "file_extension": ".py",
   "mimetype": "text/x-python",
   "name": "python",
   "nbconvert_exporter": "python",
   "pygments_lexer": "ipython3",
   "version": "3.11.1"
  }
 },
 "nbformat": 4,
 "nbformat_minor": 2
}
