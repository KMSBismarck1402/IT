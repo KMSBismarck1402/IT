{
 "cells": [
  {
   "cell_type": "code",
   "execution_count": 35,
   "metadata": {},
   "outputs": [
    {
     "name": "stdout",
     "output_type": "stream",
     "text": [
      "Predicted Prices: [4151.713185416549]\n"
     ]
    }
   ],
   "source": [
    "# Supress Warnings\n",
    "import warnings\n",
    "warnings.filterwarnings('ignore')\n",
    "# Import the numpy and pandas package\n",
    "import numpy as np\n",
    "import pandas as pd\n",
    "# Data Visualisation\n",
    "import matplotlib.pyplot as plt \n",
    "import seaborn as sns\n",
    "#split data\n",
    "from sklearn.model_selection import train_test_split\n",
    "# Importing RFE and LinearRegression\n",
    "from sklearn.feature_selection import RFE\n",
    "from sklearn.linear_model import LinearRegression\n",
    "from sklearn.preprocessing import PolynomialFeatures\n",
    "import statsmodels.api as sm  \n",
    "\n",
    "housing = pd.DataFrame(pd.read_csv(\"Housing_data_final.csv\"))\n",
    "\n",
    "# We specify this so that the train and test data set always have the same rows, respectively\n",
    "np.random.seed(0)\n",
    "df_train, df_test = train_test_split(housing, train_size = 0.7, test_size = 0.3, random_state = 100)\n",
    "\n",
    "from sklearn.preprocessing import MinMaxScaler\n",
    "scaler = MinMaxScaler()\n",
    "\n",
    "# Apply scaler() to all the columns except the 'yes-no' and 'dummy' variables\n",
    "num_vars = ['price', 'area', 'bedrooms', 'bathrooms', 'washingmachine', 'dtcenter', 'dtrec','dthospital', 'hotwater', 'ac', 'furnish', 'parking', 'security']\n",
    "df_train[num_vars] = scaler.fit_transform(df_train[num_vars])\n",
    "\n",
    "y_train = df_train.pop('price')\n",
    "X_train = df_train\n",
    "\n",
    "polynomial_features= PolynomialFeatures(degree=2, include_bias=True)\n",
    "xp = polynomial_features.fit_transform(X_train)\n",
    "xp.shape\n",
    "\n",
    "model_2 = sm.OLS(y_train, xp).fit()\n",
    "\n",
    "df_test[num_vars] = scaler.fit_transform(df_test[num_vars])\n",
    "\n",
    "y_test = df_test.pop('price')\n",
    "X_test = df_test\n",
    "\n",
    "def predict_prices_with_polynomial_model(model, polynomial_features, feature_names, new_data_dict_list):\n",
    "    predictions = []\n",
    "\n",
    "    for new_data_dict in new_data_dict_list:\n",
    "        # Extract features from the dictionary\n",
    "        new_data = [[new_data_dict[feature] for feature in feature_names]]\n",
    "\n",
    "        # Transform the new input features using PolynomialFeatures\n",
    "        new_data_transformed = polynomial_features.transform(new_data)\n",
    "\n",
    "        # Make predictions using the trained model\n",
    "        prediction = model.predict(new_data_transformed)\n",
    "        predictions.append(prediction[0])\n",
    "\n",
    "    return predictions\n",
    "\n",
    "# Example usage:\n",
    "new_data_dict_list = [\n",
    "    {'area': 120, 'bedrooms': 3, 'bathrooms': 2, 'washingmachine': 1, 'dtcenter': 5, 'dtrec': 10,\n",
    "     'dthospital': 3, 'hotwater': 1, 'ac': 1, 'furnish': 2, 'parking': 1, 'security': 1},\n",
    "    # Add more dictionaries for additional instances\n",
    "]   \n",
    "\n",
    "predictions = predict_prices_with_polynomial_model(model_2, polynomial_features, num_vars[1:], new_data_dict_list)\n",
    "print(\"Predicted Prices:\", predictions)\n"
   ]
  },
  {
   "cell_type": "code",
   "execution_count": null,
   "metadata": {},
   "outputs": [],
   "source": []
  }
 ],
 "metadata": {
  "kernelspec": {
   "display_name": "Python 3",
   "language": "python",
   "name": "python3"
  },
  "language_info": {
   "codemirror_mode": {
    "name": "ipython",
    "version": 3
   },
   "file_extension": ".py",
   "mimetype": "text/x-python",
   "name": "python",
   "nbconvert_exporter": "python",
   "pygments_lexer": "ipython3",
   "version": "3.11.1"
  }
 },
 "nbformat": 4,
 "nbformat_minor": 2
}
