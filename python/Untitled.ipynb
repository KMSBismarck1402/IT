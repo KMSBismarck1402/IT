{
 "cells": [
  {
   "cell_type": "code",
   "execution_count": null,
   "id": "4a8aeaaa",
   "metadata": {},
   "outputs": [],
   "source": [
    "import spacy"
   ]
  },
  {
   "cell_type": "code",
   "execution_count": null,
   "id": "e7cf3f50",
   "metadata": {},
   "outputs": [],
   "source": [
    "nlp = spacy.load('en_core_web_sm')"
   ]
  },
  {
   "cell_type": "code",
   "execution_count": null,
   "id": "d155cd54",
   "metadata": {},
   "outputs": [],
   "source": [
    "doc = nlp(u'Telsa is looking at buying U.S. startup for $6 million')"
   ]
  },
  {
   "cell_type": "code",
   "execution_count": 1,
   "id": "a0c7adc5",
   "metadata": {},
   "outputs": [
    {
     "ename": "NameError",
     "evalue": "name 'doc' is not defined",
     "output_type": "error",
     "traceback": [
      "\u001b[1;31m---------------------------------------------------------------------------\u001b[0m",
      "\u001b[1;31mNameError\u001b[0m                                 Traceback (most recent call last)",
      "Cell \u001b[1;32mIn[1], line 1\u001b[0m\n\u001b[1;32m----> 1\u001b[0m \u001b[39mfor\u001b[39;00m token \u001b[39min\u001b[39;00m doc:\n\u001b[0;32m      2\u001b[0m     \u001b[39mprint\u001b[39m(token\u001b[39m.\u001b[39mtext,token\u001b[39m.\u001b[39mpos_,token\u001b[39m.\u001b[39mdep_)\n",
      "\u001b[1;31mNameError\u001b[0m: name 'doc' is not defined"
     ]
    }
   ],
   "source": [
    "for token in doc:\n",
    "    print(token.text,token.pos_,token.dep_)"
   ]
  },
  {
   "cell_type": "code",
   "execution_count": null,
   "id": "ce56dc9c",
   "metadata": {},
   "outputs": [
    {
     "data": {
      "text/plain": [
       "[('tok2vec', <spacy.pipeline.tok2vec.Tok2Vec at 0x2336c952be0>),\n",
       " ('tagger', <spacy.pipeline.tagger.Tagger at 0x2336c952fa0>),\n",
       " ('parser', <spacy.pipeline.dep_parser.DependencyParser at 0x2336c79f900>),\n",
       " ('attribute_ruler',\n",
       "  <spacy.pipeline.attributeruler.AttributeRuler at 0x2336c99fa40>),\n",
       " ('lemmatizer', <spacy.lang.en.lemmatizer.EnglishLemmatizer at 0x2336c942b40>),\n",
       " ('ner', <spacy.pipeline.ner.EntityRecognizer at 0x2336c79f7b0>)]"
      ]
     },
     "execution_count": 13,
     "metadata": {},
     "output_type": "execute_result"
    }
   ],
   "source": [
    "nlp.pipeline"
   ]
  },
  {
   "cell_type": "code",
   "execution_count": null,
   "id": "3df369df",
   "metadata": {},
   "outputs": [
    {
     "data": {
      "text/plain": [
       "['tok2vec', 'tagger', 'parser', 'attribute_ruler', 'lemmatizer', 'ner']"
      ]
     },
     "execution_count": 14,
     "metadata": {},
     "output_type": "execute_result"
    }
   ],
   "source": [
    "nlp.pipe_names"
   ]
  },
  {
   "cell_type": "code",
   "execution_count": null,
   "id": "0e3140f2",
   "metadata": {},
   "outputs": [],
   "source": [
    "doc2 = nlp(u\"Telsa isn't looking into startups anymore\")"
   ]
  },
  {
   "cell_type": "code",
   "execution_count": null,
   "id": "894c9eb2",
   "metadata": {},
   "outputs": [
    {
     "name": "stdout",
     "output_type": "stream",
     "text": [
      "Telsa NOUN nsubj\n",
      "is AUX aux\n",
      "n't PART neg\n",
      "looking VERB ROOT\n",
      "into ADP prep\n",
      "startups NOUN pobj\n",
      "anymore ADV advmod\n"
     ]
    }
   ],
   "source": [
    "for token in doc2:\n",
    "    print(token.text,token.pos_,token.dep_)"
   ]
  },
  {
   "cell_type": "code",
   "execution_count": null,
   "id": "43b989db",
   "metadata": {},
   "outputs": [],
   "source": [
    "doc3 = nlp(u'When Sebastian Thrun started working on self-driving cars at Google in 2007, \\\n",
    "    few people outside of the company took him seriously. \\\n",
    "    I can tell you very senior CEOs of major American car companies would shake my \\\n",
    "    hand and turn away because I wasn’t worth talking to,” said Thrun, in an interview with Recode earlier this week.')\n",
    "I_quote = doc3[25:54]"
   ]
  },
  {
   "cell_type": "code",
   "execution_count": null,
   "id": "e2be63bc",
   "metadata": {},
   "outputs": [],
   "source": [
    "I_quote = doc3[25:54]"
   ]
  },
  {
   "cell_type": "code",
   "execution_count": null,
   "id": "d8f95d5a",
   "metadata": {},
   "outputs": [
    {
     "name": "stdout",
     "output_type": "stream",
     "text": [
      "When SCONJ advmod\n",
      "Sebastian PROPN compound\n",
      "Thrun PROPN nsubj\n",
      "started VERB advcl\n",
      "working VERB xcomp\n",
      "on ADP prep\n",
      "self NOUN npadvmod\n",
      "- PUNCT punct\n",
      "driving VERB amod\n",
      "cars NOUN pobj\n",
      "at ADP prep\n",
      "Google PROPN pobj\n",
      "in ADP prep\n",
      "2007 NUM pobj\n",
      ", PUNCT punct\n",
      "     SPACE dep\n",
      "few ADJ amod\n",
      "people NOUN nsubj\n",
      "outside ADP advmod\n",
      "of ADP prep\n",
      "the DET det\n",
      "company NOUN pobj\n",
      "took VERB ROOT\n",
      "him PRON dobj\n",
      "seriously ADV advmod\n",
      ". PUNCT punct\n",
      "     SPACE dep\n",
      "I PRON nsubj\n",
      "can AUX aux\n",
      "tell VERB ccomp\n",
      "you PRON dative\n",
      "very ADV advmod\n",
      "senior ADJ amod\n",
      "CEOs NOUN nsubj\n",
      "of ADP prep\n",
      "major ADJ amod\n",
      "American ADJ amod\n",
      "car NOUN compound\n",
      "companies NOUN pobj\n",
      "would AUX aux\n",
      "shake VERB ccomp\n",
      "my PRON poss\n",
      "     SPACE dep\n",
      "hand NOUN dobj\n",
      "and CCONJ cc\n",
      "turn VERB conj\n",
      "away ADV advmod\n",
      "because SCONJ mark\n",
      "I PRON nsubj\n",
      "was AUX advcl\n",
      "n’t PART neg\n",
      "worth ADJ acomp\n",
      "talking VERB xcomp\n",
      "to ADP prep\n",
      ", PUNCT punct\n",
      "” PUNCT punct\n",
      "said VERB ROOT\n",
      "Thrun PROPN nsubj\n",
      ", PUNCT punct\n",
      "in ADP prep\n",
      "an DET det\n",
      "interview NOUN pobj\n",
      "with ADP prep\n",
      "Recode PROPN pobj\n",
      "earlier ADV advmod\n",
      "this DET det\n",
      "week NOUN npadvmod\n",
      ". PUNCT punct\n"
     ]
    }
   ],
   "source": [
    "for token in doc3:\n",
    "    print(token.text,token.pos_,token.dep_)"
   ]
  },
  {
   "cell_type": "code",
   "execution_count": null,
   "id": "174bb86e",
   "metadata": {},
   "outputs": [
    {
     "name": "stdout",
     "output_type": "stream",
     "text": [
      ".     I can tell you very senior CEOs of major American car companies would shake my     hand and turn away because I wasn’t worth talking to\n"
     ]
    }
   ],
   "source": [
    "print(I_quote)"
   ]
  },
  {
   "cell_type": "code",
   "execution_count": null,
   "id": "a39fe485",
   "metadata": {},
   "outputs": [
    {
     "data": {
      "text/plain": [
       "spacy.tokens.span.Span"
      ]
     },
     "execution_count": 21,
     "metadata": {},
     "output_type": "execute_result"
    }
   ],
   "source": [
    "type(I_quote)"
   ]
  },
  {
   "cell_type": "code",
   "execution_count": null,
   "id": "d94659a1",
   "metadata": {},
   "outputs": [
    {
     "data": {
      "text/plain": [
       "spacy.tokens.doc.Doc"
      ]
     },
     "execution_count": 22,
     "metadata": {},
     "output_type": "execute_result"
    }
   ],
   "source": [
    "type(doc3)"
   ]
  },
  {
   "cell_type": "code",
   "execution_count": null,
   "id": "da7454cf",
   "metadata": {},
   "outputs": [],
   "source": [
    "mystring= ' \"We\\'re moving to Viet Nam !\"'"
   ]
  },
  {
   "cell_type": "code",
   "execution_count": null,
   "id": "b99d61d0",
   "metadata": {},
   "outputs": [
    {
     "name": "stdout",
     "output_type": "stream",
     "text": [
      " \"We're moving to Viet Nam !\"\n"
     ]
    }
   ],
   "source": [
    "print(mystring)"
   ]
  },
  {
   "cell_type": "code",
   "execution_count": null,
   "id": "5f7da223",
   "metadata": {},
   "outputs": [],
   "source": [
    "doc4 = nlp(mystring)"
   ]
  },
  {
   "cell_type": "code",
   "execution_count": null,
   "id": "23c584c7",
   "metadata": {},
   "outputs": [
    {
     "name": "stdout",
     "output_type": "stream",
     "text": [
      " \n",
      "\"\n",
      "We\n",
      "'re\n",
      "moving\n",
      "to\n",
      "Viet\n",
      "Nam\n",
      "!\n",
      "\"\n"
     ]
    }
   ],
   "source": [
    "for token in doc4 :\n",
    "    print(token.text)"
   ]
  },
  {
   "cell_type": "code",
   "execution_count": null,
   "id": "27ea7442",
   "metadata": {},
   "outputs": [],
   "source": []
  },
  {
   "cell_type": "code",
   "execution_count": null,
   "id": "ee2b2f41",
   "metadata": {},
   "outputs": [],
   "source": []
  }
 ],
 "metadata": {
  "kernelspec": {
   "display_name": "Python 3",
   "language": "python",
   "name": "python3"
  },
  "language_info": {
   "codemirror_mode": {
    "name": "ipython",
    "version": 3
   },
   "file_extension": ".py",
   "mimetype": "text/x-python",
   "name": "python",
   "nbconvert_exporter": "python",
   "pygments_lexer": "ipython3",
   "version": "3.9.13"
  },
  "vscode": {
   "interpreter": {
    "hash": "108095e740c160118120ad5e22811b4aca9f414a6f3c55c969835bc2c10848d1"
   }
  }
 },
 "nbformat": 4,
 "nbformat_minor": 5
}
