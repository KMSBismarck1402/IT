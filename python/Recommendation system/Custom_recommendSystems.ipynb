{
  "cells": [
    {
      "cell_type": "markdown",
      "metadata": {
        "id": "lXRBRLA5dLGH"
      },
      "source": [
        "# Collaborative Filtering\n",
        "[Tài liệu 1](https://www.kaggle.com/code/mehmetisik/user-based-collaborative-filtering/notebook)\n",
        "\n",
        "[Tài liệu 2](https://www.kaggle.com/code/fatihakkaya/user-based-recommendation-system)"
      ]
    },
    {
      "cell_type": "markdown",
      "metadata": {
        "id": "wl9c1a8vcy_-"
      },
      "source": [
        "# 0. Preparation of Data Set"
      ]
    },
    {
      "cell_type": "code",
      "execution_count": 27,
      "metadata": {
        "id": "CnNoH7kEW26-"
      },
      "outputs": [],
      "source": [
        "import requests\n",
        "import json\n",
        "import pickle\n",
        "import pandas as pd\n",
        "import numpy as np\n",
        "import matplotlib.pyplot as plt\n",
        "import plotly.graph_objects as go\n",
        "import plotly.express as px\n",
        "\n",
        "from scipy import stats\n",
        "from ast import literal_eval\n",
        "\n",
        "from sklearn.feature_extraction.text import TfidfVectorizer, CountVectorizer\n",
        "from sklearn.metrics.pairwise import linear_kernel, cosine_similarity\n",
        "\n",
        "from nltk.stem.snowball import SnowballStemmer\n",
        "from nltk.stem.wordnet import WordNetLemmatizer\n",
        "from nltk.corpus import wordnet\n",
        "\n",
        "from surprise import Reader, Dataset, SVD\n",
        "from surprise.model_selection import cross_validate"
      ]
    },
    {
      "cell_type": "code",
      "execution_count": 28,
      "metadata": {
        "cellView": "form",
        "id": "u-MDdpV0XFOY"
      },
      "outputs": [],
      "source": [
        "# @markdown ---\n",
        "# @markdown ### Enter a file path:\n",
        "file_ratings_path = \"data/movies/ratings.csv\" # @param {type:\"string\"}\n",
        "file_movies_path = \"data/movies/movies.csv\" # @param {type:\"string\"}\n",
        "# @markdown ---"
      ]
    },
    {
      "cell_type": "markdown",
      "metadata": {
        "id": "AZOcDUsN3b4Y"
      },
      "source": [
        "# 1. Đọc và phân chia dữ liệu"
      ]
    },
    {
      "cell_type": "code",
      "execution_count": 29,
      "metadata": {
        "id": "uFYx5hq3y9mr"
      },
      "outputs": [],
      "source": [
        "def missing_values_analysis(data):\n",
        "    na_columns = [col for col in data.columns if data[col].isnull().sum() > 0]\n",
        "    n_miss = data[na_columns].isnull().sum().sort_values(ascending=True)\n",
        "    ratio = (data[na_columns].isnull().sum() / data.shape[0] * 100).sort_values(ascending=True)\n",
        "    missing_df = pd.concat([n_miss, np.round(ratio, 2)], axis=1, keys=['Total Missing Values', 'Ratio'])\n",
        "    missing_df = pd.DataFrame(missing_df)\n",
        "    return missing_df"
      ]
    },
    {
      "cell_type": "code",
      "execution_count": 30,
      "metadata": {
        "id": "J_3rIvz1y6bB"
      },
      "outputs": [],
      "source": [
        "def check_df(data, row_num=5, col_num=10):\n",
        "    print(\"*************** Dataset Shape ***************\")\n",
        "    print(\"No. of Rows:\", data.shape[0], \"\\nNo. of Columns:\", data.shape[1])\n",
        "    print(\"*************** Dataset Information ***************\")\n",
        "    print(data.info())\n",
        "    print(\"*************** Types of Columns ***************\")\n",
        "    print(data.dtypes)\n",
        "    print(f\"*************** First {row_num} Rows ***************\")\n",
        "    print(data.iloc[:row_num,:col_num])\n",
        "    print(f\"*************** Last {row_num} Rows ***************\")\n",
        "    print(data.iloc[-row_num:,:col_num])\n",
        "    print(\"*************** Summary Statistics of The Dataset ***************\")\n",
        "    print(data.describe([0.10, 0.25, 0.50, 0.70, 0.80, 0.90, 0.95, 0.99]).T)\n",
        "    print(\"*************** Dataset Missing Values Analysis ***************\")\n",
        "    print(missing_values_analysis(data))"
      ]
    },
    {
      "cell_type": "code",
      "execution_count": 31,
      "metadata": {
        "id": "dlwRGGlf4-tr"
      },
      "outputs": [
        {
          "name": "stdout",
          "output_type": "stream",
          "text": [
            "        movieId                                              title  \\\n",
            "0             1                                   Toy Story (1995)   \n",
            "157           1                                   Toy Story (1995)   \n",
            "158           1                                   Toy Story (1995)   \n",
            "159           1                                   Toy Story (1995)   \n",
            "160           1                                   Toy Story (1995)   \n",
            "...         ...                                                ...   \n",
            "100059   162672                                Mohenjo Daro (2016)   \n",
            "100060   163056                               Shin Godzilla (2016)   \n",
            "100061   163949  The Beatles: Eight Days a Week - The Touring Y...   \n",
            "100062   164977                           The Gay Desperado (1936)   \n",
            "100063   164979                              Women of '69, Unboxed   \n",
            "\n",
            "                                             genres  userId  rating  \\\n",
            "0       Adventure|Animation|Children|Comedy|Fantasy     0.0     0.0   \n",
            "157     Adventure|Animation|Children|Comedy|Fantasy   433.0     4.5   \n",
            "158     Adventure|Animation|Children|Comedy|Fantasy   434.0     4.0   \n",
            "159     Adventure|Animation|Children|Comedy|Fantasy   437.0     4.0   \n",
            "160     Adventure|Animation|Children|Comedy|Fantasy   440.0     4.0   \n",
            "...                                             ...     ...     ...   \n",
            "100059                      Adventure|Drama|Romance   611.0     3.0   \n",
            "100060              Action|Adventure|Fantasy|Sci-Fi     NaN     NaN   \n",
            "100061                                  Documentary   547.0     5.0   \n",
            "100062                                       Comedy     NaN     NaN   \n",
            "100063                                  Documentary     NaN     NaN   \n",
            "\n",
            "           timestamp  \n",
            "0       1.260759e+09  \n",
            "157     1.417931e+09  \n",
            "158     8.863727e+08  \n",
            "159     8.316936e+08  \n",
            "160     8.353371e+08  \n",
            "...              ...  \n",
            "100059  1.471524e+09  \n",
            "100060           NaN  \n",
            "100061  1.476419e+09  \n",
            "100062           NaN  \n",
            "100063           NaN  \n",
            "\n",
            "[100064 rows x 6 columns]\n"
          ]
        }
      ],
      "source": [
        "movie = pd.read_csv(file_movies_path)\n",
        "movie = movie[[\"movieId\", \"title\", \"genres\"]]\n",
        "rating = pd.read_csv(file_ratings_path)\n",
        "df = movie.merge(rating, how=\"left\", on=\"movieId\")\n",
        "df_sorted = df.sort_values(by=\"movieId\", ascending=True)\n",
        "print(df_sorted)"
      ]
    },
    {
      "cell_type": "code",
      "execution_count": 32,
      "metadata": {
        "colab": {
          "base_uri": "https://localhost:8080/"
        },
        "id": "HvkZgEr-x2X5",
        "outputId": "2ffa9172-7a61-494e-eeb3-1d034e41162a"
      },
      "outputs": [
        {
          "name": "stdout",
          "output_type": "stream",
          "text": [
            "*************** Dataset Shape ***************\n",
            "No. of Rows: 100064 \n",
            "No. of Columns: 6\n",
            "*************** Dataset Information ***************\n",
            "<class 'pandas.core.frame.DataFrame'>\n",
            "RangeIndex: 100064 entries, 0 to 100063\n",
            "Data columns (total 6 columns):\n",
            " #   Column     Non-Null Count   Dtype  \n",
            "---  ------     --------------   -----  \n",
            " 0   movieId    100064 non-null  int64  \n",
            " 1   title      100064 non-null  object \n",
            " 2   genres     100064 non-null  object \n",
            " 3   userId     100005 non-null  float64\n",
            " 4   rating     100005 non-null  float64\n",
            " 5   timestamp  100005 non-null  float64\n",
            "dtypes: float64(3), int64(1), object(2)\n",
            "memory usage: 4.6+ MB\n",
            "None\n",
            "*************** Types of Columns ***************\n",
            "movieId        int64\n",
            "title         object\n",
            "genres        object\n",
            "userId       float64\n",
            "rating       float64\n",
            "timestamp    float64\n",
            "dtype: object\n",
            "*************** First 5 Rows ***************\n",
            "   movieId             title                                       genres  \\\n",
            "0        1  Toy Story (1995)  Adventure|Animation|Children|Comedy|Fantasy   \n",
            "1        1  Toy Story (1995)  Adventure|Animation|Children|Comedy|Fantasy   \n",
            "2        1  Toy Story (1995)  Adventure|Animation|Children|Comedy|Fantasy   \n",
            "3        1  Toy Story (1995)  Adventure|Animation|Children|Comedy|Fantasy   \n",
            "4        1  Toy Story (1995)  Adventure|Animation|Children|Comedy|Fantasy   \n",
            "\n",
            "   userId  rating     timestamp  \n",
            "0     0.0     0.0  1.260759e+09  \n",
            "1     7.0     3.0  8.518667e+08  \n",
            "2     9.0     4.0  9.386292e+08  \n",
            "3    13.0     5.0  1.331380e+09  \n",
            "4    15.0     2.0  9.979383e+08  \n",
            "*************** Last 5 Rows ***************\n",
            "        movieId                                              title  \\\n",
            "100059   162672                                Mohenjo Daro (2016)   \n",
            "100060   163056                               Shin Godzilla (2016)   \n",
            "100061   163949  The Beatles: Eight Days a Week - The Touring Y...   \n",
            "100062   164977                           The Gay Desperado (1936)   \n",
            "100063   164979                              Women of '69, Unboxed   \n",
            "\n",
            "                                 genres  userId  rating     timestamp  \n",
            "100059          Adventure|Drama|Romance   611.0     3.0  1.471524e+09  \n",
            "100060  Action|Adventure|Fantasy|Sci-Fi     NaN     NaN           NaN  \n",
            "100061                      Documentary   547.0     5.0  1.476419e+09  \n",
            "100062                           Comedy     NaN     NaN           NaN  \n",
            "100063                      Documentary     NaN     NaN           NaN  \n",
            "*************** Summary Statistics of The Dataset ***************\n",
            "              count          mean           std          min          10%  \\\n",
            "movieId    100064.0  1.259131e+04  2.645660e+04          1.0        329.0   \n",
            "userId     100005.0  3.470078e+02  1.951659e+02          0.0         70.4   \n",
            "rating     100005.0  3.543573e+00  1.058118e+00          0.0          2.0   \n",
            "timestamp  100005.0  1.129640e+09  1.916853e+08  789652009.0  897403849.0   \n",
            "\n",
            "                   25%           50%           70%           80%  \\\n",
            "movieId         1029.0  2.407000e+03  4.321000e+03  6.918000e+03   \n",
            "userId           182.0  3.670000e+02  4.830000e+02  5.470000e+02   \n",
            "rating             3.0  4.000000e+00  4.000000e+00  4.500000e+00   \n",
            "timestamp  965847834.0  1.110422e+09  1.239755e+09  1.339227e+09   \n",
            "\n",
            "                    90%           95%           99%           max  \n",
            "movieId    5.300000e+04  8.046300e+04  1.151490e+05  1.649790e+05  \n",
            "userId     5.970000e+02  6.240000e+02  6.640000e+02  6.710000e+02  \n",
            "rating     5.000000e+00  5.000000e+00  5.000000e+00  5.000000e+00  \n",
            "timestamp  1.437004e+09  1.460823e+09  1.471385e+09  1.476641e+09  \n",
            "*************** Dataset Missing Values Analysis ***************\n",
            "           Total Missing Values  Ratio\n",
            "userId                       59   0.06\n",
            "rating                       59   0.06\n",
            "timestamp                    59   0.06\n"
          ]
        }
      ],
      "source": [
        "check_df(df)"
      ]
    },
    {
      "cell_type": "code",
      "execution_count": 33,
      "metadata": {},
      "outputs": [
        {
          "name": "stdout",
          "output_type": "stream",
          "text": [
            "Index(['movieId', 'title', 'genres', 'userId', 'rating', 'timestamp'], dtype='object')\n"
          ]
        }
      ],
      "source": [
        "print(df.columns)"
      ]
    },
    {
      "cell_type": "code",
      "execution_count": 34,
      "metadata": {
        "colab": {
          "base_uri": "https://localhost:8080/"
        },
        "id": "oIrgUzYizZr7",
        "outputId": "7d1d187d-28c8-45d4-8c56-6bf7f5993634"
      },
      "outputs": [
        {
          "name": "stdout",
          "output_type": "stream",
          "text": [
            "                                                    count\n",
            "title                                                    \n",
            "Forrest Gump (1994)                                   341\n",
            "Pulp Fiction (1994)                                   324\n",
            "Shawshank Redemption, The (1994)                      311\n",
            "Silence of the Lambs, The (1991)                      304\n",
            "Star Wars: Episode IV - A New Hope (1977)             291\n",
            "Jurassic Park (1993)                                  274\n",
            "Matrix, The (1999)                                    259\n",
            "Toy Story (1995)                                      248\n",
            "Schindler's List (1993)                               244\n",
            "Terminator 2: Judgment Day (1991)                     237\n",
            "Star Wars: Episode V - The Empire Strikes Back ...    234\n",
            "Braveheart (1995)                                     228\n",
            "Back to the Future (1985)                             226\n",
            "Fargo (1996)                                          224\n",
            "American Beauty (1999)                                220\n",
            "Raiders of the Lost Ark (Indiana Jones and the ...    220\n",
            "Independence Day (a.k.a. ID4) (1996)                  218\n",
            "Star Wars: Episode VI - Return of the Jedi (1983)     217\n",
            "Aladdin (1992)                                        215\n",
            "Fugitive, The (1993)                                  213\n",
            "Index(['Forrest Gump (1994)', 'Pulp Fiction (1994)',\n",
            "       'Shawshank Redemption, The (1994)', 'Silence of the Lambs, The (1991)',\n",
            "       'Star Wars: Episode IV - A New Hope (1977)', 'Jurassic Park (1993)',\n",
            "       'Matrix, The (1999)', 'Toy Story (1995)', 'Schindler's List (1993)',\n",
            "       'Terminator 2: Judgment Day (1991)',\n",
            "       ...\n",
            "       'Woman in the Window, The (1944)', 'They Were Expendable (1945)',\n",
            "       'Blue Dahlia, The (1946)', 'Stranger, The (1946)',\n",
            "       'Nightmare Alley (1947)', 'Odd Man Out (1947)',\n",
            "       'Lady from Shanghai, The (1947)', 'Letter from an Unknown Woman (1948)',\n",
            "       'They Live by Night (1949)', 'Women of '69, Unboxed'],\n",
            "      dtype='object', name='title', length=9123)\n"
          ]
        }
      ],
      "source": [
        "def create_user_movie_df(dataframe):\n",
        "    # comment\n",
        "    comment_counts = pd.DataFrame(dataframe[\"title\"].value_counts())\n",
        "    print(comment_counts.head(20))\n",
        "\n",
        "    # rare movies\n",
        "    rare_movies = comment_counts[comment_counts[\"count\"] <= 1000].index\n",
        "    print(rare_movies)\n",
        "\n",
        "    common_movies = df[~df[\"title\"].isin(rare_movies)]\n",
        "    user_movie_df = common_movies.pivot_table(index=[\"userId\"], columns=[\"title\"], values=\"rating\")\n",
        "    return user_movie_df\n",
        "\n",
        "user_movie_df = create_user_movie_df(df)"
      ]
    },
    {
      "cell_type": "code",
      "execution_count": 35,
      "metadata": {
        "colab": {
          "base_uri": "https://localhost:8080/",
          "height": 336
        },
        "id": "JVvgvqgo5qXD",
        "outputId": "16f1a9ad-1e16-4f6f-e99f-2e38395a0f5a"
      },
      "outputs": [
        {
          "data": {
            "text/html": [
              "<div>\n",
              "<style scoped>\n",
              "    .dataframe tbody tr th:only-of-type {\n",
              "        vertical-align: middle;\n",
              "    }\n",
              "\n",
              "    .dataframe tbody tr th {\n",
              "        vertical-align: top;\n",
              "    }\n",
              "\n",
              "    .dataframe thead th {\n",
              "        text-align: right;\n",
              "    }\n",
              "</style>\n",
              "<table border=\"1\" class=\"dataframe\">\n",
              "  <thead>\n",
              "    <tr style=\"text-align: right;\">\n",
              "      <th>title</th>\n",
              "    </tr>\n",
              "    <tr>\n",
              "      <th>userId</th>\n",
              "    </tr>\n",
              "  </thead>\n",
              "  <tbody>\n",
              "  </tbody>\n",
              "</table>\n",
              "</div>"
            ],
            "text/plain": [
              "Empty DataFrame\n",
              "Columns: []\n",
              "Index: []"
            ]
          },
          "execution_count": 35,
          "metadata": {},
          "output_type": "execute_result"
        }
      ],
      "source": [
        "user_movie_df.head()"
      ]
    },
    {
      "cell_type": "markdown",
      "metadata": {
        "id": "P3T771sdNuTa"
      },
      "source": [
        "# 2. Code recommender movie"
      ]
    },
    {
      "cell_type": "code",
      "execution_count": 36,
      "metadata": {
        "id": "wJxayGJmNxU-"
      },
      "outputs": [],
      "source": [
        "def user_based_recommender(random_user, user_movie_df, ratio=60, cor_th=0.65, score=3.5):\n",
        "    random_user_df = user_movie_df[user_movie_df.index == random_user]\n",
        "    # Chọn phim mà người dùng đã xem\n",
        "    movies_watched = random_user_df.columns[random_user_df.notna().any()].tolist() # select watched and rated movie by random_user\n",
        "    print(f\"Số lượng bộ phim mà người dung ID: [{random_user}] đã xem là: {len(movies_watched)}\")\n",
        "\n",
        "    # ===== Truy cập dữ liệu và id của những người dùng khác đang xem cùng một bộ phim ===== #\n",
        "    movies_watched_df = user_movie_df[movies_watched]\n",
        "    user_movie_count = movies_watched_df.T.notnull().sum()\n",
        "    user_movie_count = user_movie_count.reset_index()\n",
        "    user_movie_count.columns = [\"userId\", \"movie_count\"]\n",
        "    perc = len(movies_watched) * ratio / 100\n",
        "    # ===== Chọn những người dùng khác đã xem cùng một bộ phim ===== #\n",
        "    users_same_movies = user_movie_count[user_movie_count[\"movie_count\"] > perc][\"userId\"] #select other users who watched same movies\n",
        "    # print(users_same_movies)\n",
        "\n",
        "\n",
        "    # ===== Xác định người dùng có hành vi giống nhất với người dùng để được đề xuất ===== #\n",
        "    # Để làm điều này, chúng tôi sẽ thực hiện 3 bước:\n",
        "    #   Chúng tôi sẽ thu thập dữ liệu của Người dùng của chúng tôi và những người dùng khác.\n",
        "    #   Chúng ta sẽ tạo mối tương quan df.\n",
        "    #   Chúng tôi sẽ tìm những người dùng tương tự nhất (Top Users)\n",
        "\n",
        "    final_df = pd.concat([movies_watched_df[movies_watched_df.index.isin(users_same_movies)],\n",
        "                          random_user_df[movies_watched]])\n",
        "    # print(final_df.head())\n",
        "    corr_df = final_df.T.corr().unstack().sort_values().drop_duplicates()\n",
        "    corr_df = pd.DataFrame(corr_df, columns=[\"corr\"])\n",
        "    corr_df.index.names = ['user_id_1', 'user_id_2']\n",
        "    corr_df = corr_df.reset_index()\n",
        "    # print(corr_df.head())\n",
        "\n",
        "    top_users = corr_df[(corr_df[\"user_id_1\"] == random_user) & (corr_df[\"corr\"] >= cor_th)][\n",
        "        [\"user_id_2\", \"corr\"]].reset_index(drop=True) # select similar users have correlation over cor_th on random_user\n",
        "    top_users = top_users.sort_values(by='corr', ascending=False)\n",
        "    top_users.rename(columns={\"user_id_2\": \"userId\"}, inplace=True)\n",
        "    rating = pd.read_csv(file_ratings_path)\n",
        "    top_users_ratings = top_users.merge(rating[[\"userId\", \"movieId\", \"rating\"]], how='inner')\n",
        "    # ===== Tính điểm đề xuất trung bình có trọng số ===== #\n",
        "    top_users_ratings['weighted_rating'] = top_users_ratings['corr'] * top_users_ratings['rating'] # calculate rating*corr score\n",
        "    # print(top_users_ratings.head())\n",
        "    # print(top_users_ratings.groupby('movieId').agg({\"weighted_rating\": \"mean\"}).head())\n",
        "\n",
        "    # ===== Thuật toán đề xuất film ===== #\n",
        "    recommendation_df = top_users_ratings.groupby('movieId').agg({\"weighted_rating\": \"mean\"})\n",
        "    recommendation_df = recommendation_df.reset_index()\n",
        "    # print(recommendation_df)\n",
        "    # print(recommendation_df[recommendation_df[\"weighted_rating\"] > 3.5])\n",
        "    movies_to_be_recommend = recommendation_df[recommendation_df[\"weighted_rating\"] > score].sort_values(\"weighted_rating\", ascending=False)\n",
        "    movie = pd.read_csv(file_movies_path)\n",
        "    return movies_to_be_recommend.merge(movie[[\"movieId\", \"title\"]])"
      ]
    },
    {
      "cell_type": "code",
      "execution_count": 37,
      "metadata": {
        "id": "9k_HcukBXq9o"
      },
      "outputs": [],
      "source": [
        "def ShowAnswer(UserID = 0, cor_th = 0.70, score = 4):\n",
        "  print(\"=============== Thông tin ===============\")\n",
        "  print(\"                                         \")\n",
        "  print(f\"Users ID: \\t {UserID}\")\n",
        "  print(f\"Score : \\t {score}\")\n",
        "  print(f\"cor_th: \\t {cor_th}\")\n",
        "  print(\"                                         \")\n",
        "  print(\"=========== Phim được đề xuất ===========\")\n",
        "  print(\"                                         \")\n",
        "  user_based_recommender(UserID, user_movie_df, cor_th=cor_th, score=score)"
      ]
    },
    {
      "cell_type": "code",
      "execution_count": 42,
      "metadata": {
        "colab": {
          "base_uri": "https://localhost:8080/"
        },
        "id": "hxa1N3eIRLn0",
        "outputId": "295e441b-48a3-4c07-c169-1fdb594abf00"
      },
      "outputs": [
        {
          "name": "stdout",
          "output_type": "stream",
          "text": [
            "=============== Thông tin ===============\n",
            "                                         \n",
            "Users ID: \t 1\n",
            "Score : \t 4\n",
            "cor_th: \t 0.9\n",
            "                                         \n",
            "=========== Phim được đề xuất ===========\n",
            "                                         \n",
            "Số lượng bộ phim mà người dung ID: [1] đã xem là: 0\n"
          ]
        }
      ],
      "source": [
        "# @markdown ---\n",
        "# @markdown ### Nhập dữ liệu:\n",
        "random_user = 1231 # @param {type:\"number\"}\n",
        "score = 4 # @param {type:\"slider\", min:1, max:5, step:0.5}\n",
        "cor_th = 0.9 # @param {type:\"slider\", min:0.5, max:1, step:0.1}\n",
        "if random_user == 0:\n",
        "  random_user = int(pd.Series(user_movie_df.index).sample(1).values)\n",
        "# @markdown ---\n",
        "\n",
        "ShowAnswer(UserID=1, cor_th=cor_th, score=score)"
      ]
    },
    {
      "cell_type": "code",
      "execution_count": null,
      "metadata": {
        "id": "4QMXbO1-YCal"
      },
      "outputs": [],
      "source": []
    }
  ],
  "metadata": {
    "colab": {
      "collapsed_sections": [
        "wl9c1a8vcy_-",
        "AZOcDUsN3b4Y",
        "P3T771sdNuTa"
      ],
      "provenance": []
    },
    "kernelspec": {
      "display_name": "Python 3",
      "name": "python3"
    },
    "language_info": {
      "codemirror_mode": {
        "name": "ipython",
        "version": 3
      },
      "file_extension": ".py",
      "mimetype": "text/x-python",
      "name": "python",
      "nbconvert_exporter": "python",
      "pygments_lexer": "ipython3",
      "version": "3.11.1"
    }
  },
  "nbformat": 4,
  "nbformat_minor": 0
}
