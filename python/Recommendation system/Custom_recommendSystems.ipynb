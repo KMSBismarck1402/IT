{
  "cells": [
    {
      "cell_type": "markdown",
      "metadata": {
        "id": "lXRBRLA5dLGH"
      },
      "source": [
        "# Collaborative Filtering\n",
        "[Tài liệu 1](https://www.kaggle.com/code/mehmetisik/user-based-collaborative-filtering/notebook)\n",
        "\n",
        "[Tài liệu 2](https://www.kaggle.com/code/fatihakkaya/user-based-recommendation-system)"
      ]
    },
    {
      "cell_type": "markdown",
      "metadata": {
        "id": "wl9c1a8vcy_-"
      },
      "source": [
        "# 0. Preparation of Data Set"
      ]
    },
    {
      "cell_type": "code",
      "execution_count": 1,
      "metadata": {
        "id": "CnNoH7kEW26-"
      },
      "outputs": [],
      "source": [
        "import requests\n",
        "import json\n",
        "import pickle\n",
        "import pandas as pd\n",
        "import numpy as np\n",
        "import matplotlib.pyplot as plt\n",
        "import plotly.graph_objects as go\n",
        "import plotly.express as px\n",
        "\n",
        "from scipy import stats\n",
        "from ast import literal_eval\n",
        "\n",
        "from sklearn.feature_extraction.text import TfidfVectorizer, CountVectorizer\n",
        "from sklearn.metrics.pairwise import linear_kernel, cosine_similarity\n",
        "\n",
        "from nltk.stem.snowball import SnowballStemmer\n",
        "from nltk.stem.wordnet import WordNetLemmatizer\n",
        "from nltk.corpus import wordnet\n",
        "\n",
        "from surprise import Reader, Dataset, SVD\n",
        "from surprise.model_selection import cross_validate"
      ]
    },
    {
      "cell_type": "code",
      "execution_count": 2,
      "metadata": {
        "cellView": "form",
        "id": "u-MDdpV0XFOY"
      },
      "outputs": [],
      "source": [
        "# @markdown ---\n",
        "# @markdown ### Enter a file path:\n",
        "file_ratings_path = \"data/movies/ratings.csv\" # @param {type:\"string\"}\n",
        "file_movies_path = \"data/movies/movies.csv\" # @param {type:\"string\"}\n",
        "# @markdown ---"
      ]
    },
    {
      "cell_type": "markdown",
      "metadata": {
        "id": "AZOcDUsN3b4Y"
      },
      "source": [
        "# 1. Đọc và phân chia dữ liệu"
      ]
    },
    {
      "cell_type": "code",
      "execution_count": 3,
      "metadata": {
        "id": "uFYx5hq3y9mr"
      },
      "outputs": [],
      "source": [
        "def missing_values_analysis(data):\n",
        "    na_columns = [col for col in data.columns if data[col].isnull().sum() > 0]\n",
        "    n_miss = data[na_columns].isnull().sum().sort_values(ascending=True)\n",
        "    ratio = (data[na_columns].isnull().sum() / data.shape[0] * 100).sort_values(ascending=True)\n",
        "    missing_df = pd.concat([n_miss, np.round(ratio, 2)], axis=1, keys=['Total Missing Values', 'Ratio'])\n",
        "    missing_df = pd.DataFrame(missing_df)\n",
        "    return missing_df"
      ]
    },
    {
      "cell_type": "code",
      "execution_count": 4,
      "metadata": {
        "id": "J_3rIvz1y6bB"
      },
      "outputs": [],
      "source": [
        "def check_df(data, row_num=5, col_num=10):\n",
        "    print(\"*************** Dataset Shape ***************\")\n",
        "    print(\"No. of Rows:\", data.shape[0], \"\\nNo. of Columns:\", data.shape[1])\n",
        "    print(\"*************** Dataset Information ***************\")\n",
        "    print(data.info())\n",
        "    print(\"*************** Types of Columns ***************\")\n",
        "    print(data.dtypes)\n",
        "    print(f\"*************** First {row_num} Rows ***************\")\n",
        "    print(data.iloc[:row_num,:col_num])\n",
        "    print(f\"*************** Last {row_num} Rows ***************\")\n",
        "    print(data.iloc[-row_num:,:col_num])\n",
        "    print(\"*************** Summary Statistics of The Dataset ***************\")\n",
        "    print(data.describe([0.10, 0.25, 0.50, 0.70, 0.80, 0.90, 0.95, 0.99]).T)\n",
        "    print(\"*************** Dataset Missing Values Analysis ***************\")\n",
        "    print(missing_values_analysis(data))"
      ]
    },
    {
      "cell_type": "code",
      "execution_count": 5,
      "metadata": {
        "id": "dlwRGGlf4-tr"
      },
      "outputs": [
        {
          "name": "stdout",
          "output_type": "stream",
          "text": [
            "         movieId       title                                          genres  \\\n",
            "0              1   Toy Story  ['Animation', 'Adventure', 'Family', 'Comedy']   \n",
            "2316           1   Toy Story  ['Animation', 'Adventure', 'Family', 'Comedy']   \n",
            "2317           1   Toy Story  ['Animation', 'Adventure', 'Family', 'Comedy']   \n",
            "2318           1   Toy Story  ['Animation', 'Adventure', 'Family', 'Comedy']   \n",
            "2319           1   Toy Story  ['Animation', 'Adventure', 'Family', 'Comedy']   \n",
            "...          ...         ...                                             ...   \n",
            "3288298   140862  Khottabych                           ['Comedy', 'Fantasy']   \n",
            "3288299   140862  Khottabych                           ['Comedy', 'Fantasy']   \n",
            "3288300   140862  Khottabych                           ['Comedy', 'Fantasy']   \n",
            "3288294   140862  Khottabych                           ['Comedy', 'Fantasy']   \n",
            "3288321   140862  Khottabych                           ['Comedy', 'Fantasy']   \n",
            "\n",
            "         userId  rating               tstamp  \n",
            "0        1383.0     4.0  2015-09-08 12:11:26  \n",
            "2316     3001.0     2.5  2018-08-28 11:55:34  \n",
            "2317     2352.0     4.0  2018-01-30 05:59:29  \n",
            "2318      329.0     4.0  2005-07-25 18:27:18  \n",
            "2319     4488.0     3.5  2019-09-23 19:42:28  \n",
            "...         ...     ...                  ...  \n",
            "3288298  3473.0     4.0  2019-02-15 13:28:11  \n",
            "3288299  2218.0     3.0  2017-06-22 00:10:56  \n",
            "3288300  2904.0     4.5  2018-07-02 03:21:43  \n",
            "3288294  2410.0     5.0  2017-07-21 07:22:12  \n",
            "3288321  2226.0     5.0  2017-05-20 12:09:27  \n",
            "\n",
            "[3288322 rows x 6 columns]\n"
          ]
        }
      ],
      "source": [
        "movie = pd.read_csv(file_movies_path)\n",
        "movie = movie[[\"movieId\", \"title\", \"genres\"]]\n",
        "rating = pd.read_csv(file_ratings_path)\n",
        "df = movie.merge(rating, how=\"left\", on=\"movieId\")\n",
        "df_sorted = df.sort_values(by=\"movieId\", ascending=True)\n",
        "print(df_sorted)"
      ]
    },
    {
      "cell_type": "code",
      "execution_count": 6,
      "metadata": {
        "colab": {
          "base_uri": "https://localhost:8080/"
        },
        "id": "HvkZgEr-x2X5",
        "outputId": "2ffa9172-7a61-494e-eeb3-1d034e41162a"
      },
      "outputs": [
        {
          "name": "stdout",
          "output_type": "stream",
          "text": [
            "*************** Dataset Shape ***************\n",
            "No. of Rows: 3288322 \n",
            "No. of Columns: 6\n",
            "*************** Dataset Information ***************\n",
            "<class 'pandas.core.frame.DataFrame'>\n",
            "Int64Index: 3288322 entries, 0 to 3288321\n",
            "Data columns (total 6 columns):\n",
            " #   Column   Dtype  \n",
            "---  ------   -----  \n",
            " 0   movieId  int64  \n",
            " 1   title    object \n",
            " 2   genres   object \n",
            " 3   userId   float64\n",
            " 4   rating   float64\n",
            " 5   tstamp   object \n",
            "dtypes: float64(2), int64(1), object(3)\n",
            "memory usage: 175.6+ MB\n",
            "None\n",
            "*************** Types of Columns ***************\n",
            "movieId      int64\n",
            "title       object\n",
            "genres      object\n",
            "userId     float64\n",
            "rating     float64\n",
            "tstamp      object\n",
            "dtype: object\n",
            "*************** First 5 Rows ***************\n",
            "   movieId      title                                          genres  userId  \\\n",
            "0        1  Toy Story  ['Animation', 'Adventure', 'Family', 'Comedy']  1383.0   \n",
            "1        1  Toy Story  ['Animation', 'Adventure', 'Family', 'Comedy']  3238.0   \n",
            "2        1  Toy Story  ['Animation', 'Adventure', 'Family', 'Comedy']  1612.0   \n",
            "3        1  Toy Story  ['Animation', 'Adventure', 'Family', 'Comedy']  4638.0   \n",
            "4        1  Toy Story  ['Animation', 'Adventure', 'Family', 'Comedy']  4309.0   \n",
            "\n",
            "   rating               tstamp  \n",
            "0     4.0  2015-09-08 12:11:26  \n",
            "1     4.5  2018-12-01 12:47:02  \n",
            "2     3.5  2016-03-18 12:05:05  \n",
            "3     4.0  2019-11-01 19:01:56  \n",
            "4     4.0  2019-09-26 00:21:11  \n",
            "*************** Last 5 Rows ***************\n",
            "         movieId       title                 genres  userId  rating  \\\n",
            "3288317   140862  Khottabych  ['Comedy', 'Fantasy']  2196.0     4.0   \n",
            "3288318   140862  Khottabych  ['Comedy', 'Fantasy']  2159.0     4.0   \n",
            "3288319   140862  Khottabych  ['Comedy', 'Fantasy']  2280.0     3.5   \n",
            "3288320   140862  Khottabych  ['Comedy', 'Fantasy']  2228.0     2.5   \n",
            "3288321   140862  Khottabych  ['Comedy', 'Fantasy']  2226.0     5.0   \n",
            "\n",
            "                      tstamp  \n",
            "3288317  2017-05-15 18:08:02  \n",
            "3288318  2021-07-04 09:40:42  \n",
            "3288319  2017-07-21 14:41:47  \n",
            "3288320  2017-06-30 13:58:34  \n",
            "3288321  2017-05-20 12:09:27  \n",
            "*************** Summary Statistics of The Dataset ***************\n",
            "             count          mean           std  min     10%     25%     50%  \\\n",
            "movieId  3288322.0  39647.601930  43514.293401  1.0  1116.0  2730.0  8363.0   \n",
            "userId   3283630.0   2386.868120   1953.221802  1.0   202.0   670.0  1884.0   \n",
            "rating   3283630.0      3.425972      1.018770  0.5     2.0     3.0     3.5   \n",
            "\n",
            "             70%      80%       90%       95%       99%       max  \n",
            "movieId  65596.0  88125.0  107406.0  119200.0  136020.0  140862.0  \n",
            "userId    3339.0   4375.0    5566.0    6132.0    6608.0    6724.0  \n",
            "rating       4.0      4.0       4.5       5.0       5.0       5.0  \n",
            "*************** Dataset Missing Values Analysis ***************\n",
            "        Total Missing Values  Ratio\n",
            "userId                  4692   0.14\n",
            "rating                  4692   0.14\n",
            "tstamp                  4692   0.14\n"
          ]
        }
      ],
      "source": [
        "check_df(df)"
      ]
    },
    {
      "cell_type": "code",
      "execution_count": 7,
      "metadata": {},
      "outputs": [
        {
          "name": "stdout",
          "output_type": "stream",
          "text": [
            "Index(['movieId', 'title', 'genres', 'userId', 'rating', 'tstamp'], dtype='object')\n"
          ]
        }
      ],
      "source": [
        "print(df.columns)"
      ]
    },
    {
      "cell_type": "code",
      "execution_count": 9,
      "metadata": {
        "colab": {
          "base_uri": "https://localhost:8080/"
        },
        "id": "oIrgUzYizZr7",
        "outputId": "7d1d187d-28c8-45d4-8c56-6bf7f5993634"
      },
      "outputs": [
        {
          "name": "stdout",
          "output_type": "stream",
          "text": [
            "                                                   title\n",
            "Inception                                           5506\n",
            "The Matrix                                          5347\n",
            "Fight Club                                          5101\n",
            "The Dark Knight                                     4975\n",
            "The Shawshank Redemption                            4945\n",
            "Pulp Fiction                                        4855\n",
            "Forrest Gump                                        4820\n",
            "Interstellar                                        4799\n",
            "The Lord of the Rings: The Fellowship of the Ring   4770\n",
            "The Lord of the Rings: The Return of the King       4523\n",
            "The Lord of the Rings: The Two Towers               4508\n",
            "Inglourious Basterds                                4276\n",
            "Avatar                                              4229\n",
            "The Martian                                         4210\n",
            "Django Unchained                                    4177\n",
            "WALL·E                                              4160\n",
            "Star Wars                                           4151\n",
            "Memento                                             4105\n",
            "The Silence of the Lambs                            4080\n",
            "Gladiator                                           4072\n",
            "Index(['The Godfather Part III', 'The Birds', 'Munich', 'Clash of the Titans',\n",
            "       'A Scanner Darkly', 'Alien Resurrection', 'The Gift', 'Tarzan',\n",
            "       'Wild Tales', 'Law Abiding Citizen',\n",
            "       ...\n",
            "       '20 Ft Below: The Darkness Descending', 'Ten9Eight: Shoot for the Moon',\n",
            "       'The Blind Menace', 'Mentor', 'Love Walked In', 'Blindman',\n",
            "       'Innocent Lies', 'Heldorado', 'Ice Men', 'Kit Carson'],\n",
            "      dtype='object', length=32820)\n"
          ]
        }
      ],
      "source": [
        "def create_user_movie_df(dataframe):\n",
        "    # comment\n",
        "    comment_counts = pd.DataFrame(dataframe[\"title\"].value_counts())\n",
        "    print(comment_counts.head(20))\n",
        "\n",
        "    # rare movies\n",
        "    rare_movies = comment_counts[comment_counts[\"title\"] <= 1000].index\n",
        "    print(rare_movies)\n",
        "\n",
        "    common_movies = df[~df[\"title\"].isin(rare_movies)]\n",
        "    user_movie_df = common_movies.pivot_table(index=[\"userId\"], columns=[\"title\"], values=\"rating\")\n",
        "    return user_movie_df\n",
        "\n",
        "user_movie_df = create_user_movie_df(df)"
      ]
    },
    {
      "cell_type": "code",
      "execution_count": 10,
      "metadata": {
        "colab": {
          "base_uri": "https://localhost:8080/",
          "height": 336
        },
        "id": "JVvgvqgo5qXD",
        "outputId": "16f1a9ad-1e16-4f6f-e99f-2e38395a0f5a"
      },
      "outputs": [
        {
          "data": {
            "text/html": [
              "<div>\n",
              "<style scoped>\n",
              "    .dataframe tbody tr th:only-of-type {\n",
              "        vertical-align: middle;\n",
              "    }\n",
              "\n",
              "    .dataframe tbody tr th {\n",
              "        vertical-align: top;\n",
              "    }\n",
              "\n",
              "    .dataframe thead th {\n",
              "        text-align: right;\n",
              "    }\n",
              "</style>\n",
              "<table border=\"1\" class=\"dataframe\">\n",
              "  <thead>\n",
              "    <tr style=\"text-align: right;\">\n",
              "      <th>title</th>\n",
              "      <th>(500) Days of Summer</th>\n",
              "      <th>10 Things I Hate About You</th>\n",
              "      <th>12 Angry Men</th>\n",
              "      <th>12 Years a Slave</th>\n",
              "      <th>127 Hours</th>\n",
              "      <th>2001: A Space Odyssey</th>\n",
              "      <th>2012</th>\n",
              "      <th>21</th>\n",
              "      <th>21 Jump Street</th>\n",
              "      <th>22 Jump Street</th>\n",
              "      <th>...</th>\n",
              "      <th>X-Men: First Class</th>\n",
              "      <th>X-Men: The Last Stand</th>\n",
              "      <th>X2</th>\n",
              "      <th>Yes Man</th>\n",
              "      <th>You've Got Mail</th>\n",
              "      <th>Young Frankenstein</th>\n",
              "      <th>Zero Dark Thirty</th>\n",
              "      <th>Zodiac</th>\n",
              "      <th>Zombieland</th>\n",
              "      <th>Zoolander</th>\n",
              "    </tr>\n",
              "    <tr>\n",
              "      <th>userId</th>\n",
              "      <th></th>\n",
              "      <th></th>\n",
              "      <th></th>\n",
              "      <th></th>\n",
              "      <th></th>\n",
              "      <th></th>\n",
              "      <th></th>\n",
              "      <th></th>\n",
              "      <th></th>\n",
              "      <th></th>\n",
              "      <th></th>\n",
              "      <th></th>\n",
              "      <th></th>\n",
              "      <th></th>\n",
              "      <th></th>\n",
              "      <th></th>\n",
              "      <th></th>\n",
              "      <th></th>\n",
              "      <th></th>\n",
              "      <th></th>\n",
              "      <th></th>\n",
              "    </tr>\n",
              "  </thead>\n",
              "  <tbody>\n",
              "    <tr>\n",
              "      <th>1.0</th>\n",
              "      <td>3.0</td>\n",
              "      <td>5.0</td>\n",
              "      <td>5.0</td>\n",
              "      <td>5.0</td>\n",
              "      <td>NaN</td>\n",
              "      <td>3.0</td>\n",
              "      <td>NaN</td>\n",
              "      <td>NaN</td>\n",
              "      <td>NaN</td>\n",
              "      <td>NaN</td>\n",
              "      <td>...</td>\n",
              "      <td>NaN</td>\n",
              "      <td>NaN</td>\n",
              "      <td>NaN</td>\n",
              "      <td>NaN</td>\n",
              "      <td>5.0</td>\n",
              "      <td>NaN</td>\n",
              "      <td>NaN</td>\n",
              "      <td>NaN</td>\n",
              "      <td>NaN</td>\n",
              "      <td>NaN</td>\n",
              "    </tr>\n",
              "    <tr>\n",
              "      <th>2.0</th>\n",
              "      <td>NaN</td>\n",
              "      <td>NaN</td>\n",
              "      <td>NaN</td>\n",
              "      <td>NaN</td>\n",
              "      <td>NaN</td>\n",
              "      <td>NaN</td>\n",
              "      <td>NaN</td>\n",
              "      <td>NaN</td>\n",
              "      <td>NaN</td>\n",
              "      <td>NaN</td>\n",
              "      <td>...</td>\n",
              "      <td>NaN</td>\n",
              "      <td>NaN</td>\n",
              "      <td>NaN</td>\n",
              "      <td>NaN</td>\n",
              "      <td>4.0</td>\n",
              "      <td>4.5</td>\n",
              "      <td>NaN</td>\n",
              "      <td>NaN</td>\n",
              "      <td>NaN</td>\n",
              "      <td>NaN</td>\n",
              "    </tr>\n",
              "    <tr>\n",
              "      <th>3.0</th>\n",
              "      <td>NaN</td>\n",
              "      <td>NaN</td>\n",
              "      <td>NaN</td>\n",
              "      <td>NaN</td>\n",
              "      <td>NaN</td>\n",
              "      <td>4.0</td>\n",
              "      <td>NaN</td>\n",
              "      <td>NaN</td>\n",
              "      <td>NaN</td>\n",
              "      <td>NaN</td>\n",
              "      <td>...</td>\n",
              "      <td>NaN</td>\n",
              "      <td>NaN</td>\n",
              "      <td>4.0</td>\n",
              "      <td>NaN</td>\n",
              "      <td>NaN</td>\n",
              "      <td>3.5</td>\n",
              "      <td>NaN</td>\n",
              "      <td>NaN</td>\n",
              "      <td>NaN</td>\n",
              "      <td>NaN</td>\n",
              "    </tr>\n",
              "    <tr>\n",
              "      <th>4.0</th>\n",
              "      <td>NaN</td>\n",
              "      <td>3.0</td>\n",
              "      <td>4.0</td>\n",
              "      <td>NaN</td>\n",
              "      <td>NaN</td>\n",
              "      <td>5.0</td>\n",
              "      <td>NaN</td>\n",
              "      <td>NaN</td>\n",
              "      <td>NaN</td>\n",
              "      <td>NaN</td>\n",
              "      <td>...</td>\n",
              "      <td>NaN</td>\n",
              "      <td>NaN</td>\n",
              "      <td>NaN</td>\n",
              "      <td>NaN</td>\n",
              "      <td>NaN</td>\n",
              "      <td>NaN</td>\n",
              "      <td>NaN</td>\n",
              "      <td>NaN</td>\n",
              "      <td>NaN</td>\n",
              "      <td>NaN</td>\n",
              "    </tr>\n",
              "    <tr>\n",
              "      <th>5.0</th>\n",
              "      <td>NaN</td>\n",
              "      <td>NaN</td>\n",
              "      <td>NaN</td>\n",
              "      <td>NaN</td>\n",
              "      <td>NaN</td>\n",
              "      <td>3.0</td>\n",
              "      <td>2.5</td>\n",
              "      <td>3.0</td>\n",
              "      <td>NaN</td>\n",
              "      <td>NaN</td>\n",
              "      <td>...</td>\n",
              "      <td>NaN</td>\n",
              "      <td>3.0</td>\n",
              "      <td>2.5</td>\n",
              "      <td>NaN</td>\n",
              "      <td>3.0</td>\n",
              "      <td>NaN</td>\n",
              "      <td>4.5</td>\n",
              "      <td>3.0</td>\n",
              "      <td>NaN</td>\n",
              "      <td>NaN</td>\n",
              "    </tr>\n",
              "  </tbody>\n",
              "</table>\n",
              "<p>5 rows × 789 columns</p>\n",
              "</div>"
            ],
            "text/plain": [
              "title   (500) Days of Summer  10 Things I Hate About You  12 Angry Men  \\\n",
              "userId                                                                   \n",
              "1.0                      3.0                         5.0           5.0   \n",
              "2.0                      NaN                         NaN           NaN   \n",
              "3.0                      NaN                         NaN           NaN   \n",
              "4.0                      NaN                         3.0           4.0   \n",
              "5.0                      NaN                         NaN           NaN   \n",
              "\n",
              "title   12 Years a Slave  127 Hours  2001: A Space Odyssey  2012   21  \\\n",
              "userId                                                                  \n",
              "1.0                  5.0        NaN                    3.0   NaN  NaN   \n",
              "2.0                  NaN        NaN                    NaN   NaN  NaN   \n",
              "3.0                  NaN        NaN                    4.0   NaN  NaN   \n",
              "4.0                  NaN        NaN                    5.0   NaN  NaN   \n",
              "5.0                  NaN        NaN                    3.0   2.5  3.0   \n",
              "\n",
              "title   21 Jump Street  22 Jump Street  ...  X-Men: First Class  \\\n",
              "userId                                  ...                       \n",
              "1.0                NaN             NaN  ...                 NaN   \n",
              "2.0                NaN             NaN  ...                 NaN   \n",
              "3.0                NaN             NaN  ...                 NaN   \n",
              "4.0                NaN             NaN  ...                 NaN   \n",
              "5.0                NaN             NaN  ...                 NaN   \n",
              "\n",
              "title   X-Men: The Last Stand   X2  Yes Man  You've Got Mail  \\\n",
              "userId                                                         \n",
              "1.0                       NaN  NaN      NaN              5.0   \n",
              "2.0                       NaN  NaN      NaN              4.0   \n",
              "3.0                       NaN  4.0      NaN              NaN   \n",
              "4.0                       NaN  NaN      NaN              NaN   \n",
              "5.0                       3.0  2.5      NaN              3.0   \n",
              "\n",
              "title   Young Frankenstein  Zero Dark Thirty  Zodiac  Zombieland  Zoolander  \n",
              "userId                                                                       \n",
              "1.0                    NaN               NaN     NaN         NaN        NaN  \n",
              "2.0                    4.5               NaN     NaN         NaN        NaN  \n",
              "3.0                    3.5               NaN     NaN         NaN        NaN  \n",
              "4.0                    NaN               NaN     NaN         NaN        NaN  \n",
              "5.0                    NaN               4.5     3.0         NaN        NaN  \n",
              "\n",
              "[5 rows x 789 columns]"
            ]
          },
          "execution_count": 10,
          "metadata": {},
          "output_type": "execute_result"
        }
      ],
      "source": [
        "user_movie_df.head()"
      ]
    },
    {
      "cell_type": "markdown",
      "metadata": {
        "id": "P3T771sdNuTa"
      },
      "source": [
        "# 2. Code recommender movie"
      ]
    },
    {
      "cell_type": "code",
      "execution_count": 11,
      "metadata": {
        "id": "wJxayGJmNxU-"
      },
      "outputs": [],
      "source": [
        "def user_based_recommender(random_user, user_movie_df, ratio=60, cor_th=0.65, score=3.5):\n",
        "    random_user_df = user_movie_df[user_movie_df.index == random_user]\n",
        "    # Chọn phim mà người dùng đã xem\n",
        "    movies_watched = random_user_df.columns[random_user_df.notna().any()].tolist() # select watched and rated movie by random_user\n",
        "    print(f\"Số lượng bộ phim mà người dung ID: [{random_user}] đã xem là: {len(movies_watched)}\")\n",
        "\n",
        "    # ===== Truy cập dữ liệu và id của những người dùng khác đang xem cùng một bộ phim ===== #\n",
        "    movies_watched_df = user_movie_df[movies_watched]\n",
        "    user_movie_count = movies_watched_df.T.notnull().sum()\n",
        "    user_movie_count = user_movie_count.reset_index()\n",
        "    user_movie_count.columns = [\"userId\", \"movie_count\"]\n",
        "    perc = len(movies_watched) * ratio / 100\n",
        "    # ===== Chọn những người dùng khác đã xem cùng một bộ phim ===== #\n",
        "    users_same_movies = user_movie_count[user_movie_count[\"movie_count\"] > perc][\"userId\"] #select other users who watched same movies\n",
        "    # print(users_same_movies)\n",
        "\n",
        "\n",
        "    # ===== Xác định người dùng có hành vi giống nhất với người dùng để được đề xuất ===== #\n",
        "    # Để làm điều này, chúng tôi sẽ thực hiện 3 bước:\n",
        "    #   Chúng tôi sẽ thu thập dữ liệu của Người dùng của chúng tôi và những người dùng khác.\n",
        "    #   Chúng ta sẽ tạo mối tương quan df.\n",
        "    #   Chúng tôi sẽ tìm những người dùng tương tự nhất (Top Users)\n",
        "\n",
        "    final_df = pd.concat([movies_watched_df[movies_watched_df.index.isin(users_same_movies)],\n",
        "                          random_user_df[movies_watched]])\n",
        "    # print(final_df.head())\n",
        "    corr_df = final_df.T.corr().unstack().sort_values().drop_duplicates()\n",
        "    corr_df = pd.DataFrame(corr_df, columns=[\"corr\"])\n",
        "    corr_df.index.names = ['user_id_1', 'user_id_2']\n",
        "    corr_df = corr_df.reset_index()\n",
        "    # print(corr_df.head())\n",
        "\n",
        "    top_users = corr_df[(corr_df[\"user_id_1\"] == random_user) & (corr_df[\"corr\"] >= cor_th)][\n",
        "        [\"user_id_2\", \"corr\"]].reset_index(drop=True) # select similar users have correlation over cor_th on random_user\n",
        "    top_users = top_users.sort_values(by='corr', ascending=False)\n",
        "    top_users.rename(columns={\"user_id_2\": \"userId\"}, inplace=True)\n",
        "    rating = pd.read_csv(file_ratings_path)\n",
        "    top_users_ratings = top_users.merge(rating[[\"userId\", \"movieId\", \"rating\"]], how='inner')\n",
        "    # ===== Tính điểm đề xuất trung bình có trọng số ===== #\n",
        "    top_users_ratings['weighted_rating'] = top_users_ratings['corr'] * top_users_ratings['rating'] # calculate rating*corr score\n",
        "    # print(top_users_ratings.head())\n",
        "    # print(top_users_ratings.groupby('movieId').agg({\"weighted_rating\": \"mean\"}).head())\n",
        "\n",
        "    # ===== Thuật toán đề xuất film ===== #\n",
        "    recommendation_df = top_users_ratings.groupby('movieId').agg({\"weighted_rating\": \"mean\"})\n",
        "    recommendation_df = recommendation_df.reset_index()\n",
        "    # print(recommendation_df)\n",
        "    # print(recommendation_df[recommendation_df[\"weighted_rating\"] > 3.5])\n",
        "    movies_to_be_recommend = recommendation_df[recommendation_df[\"weighted_rating\"] > score].sort_values(\"weighted_rating\", ascending=False)\n",
        "    movie = pd.read_csv(file_movies_path)\n",
        "    return movies_to_be_recommend.merge(movie[[\"movieId\", \"title\"]])"
      ]
    },
    {
      "cell_type": "code",
      "execution_count": 12,
      "metadata": {
        "id": "9k_HcukBXq9o"
      },
      "outputs": [],
      "source": [
        "def ShowAnswer(UserID = 0, cor_th = 0.70, score = 4):\n",
        "  print(\"=============== Thông tin ===============\")\n",
        "  print(\"                                         \")\n",
        "  print(f\"Users ID: \\t {UserID}\")\n",
        "  print(f\"Score : \\t {score}\")\n",
        "  print(f\"cor_th: \\t {cor_th}\")\n",
        "  print(\"                                         \")\n",
        "  print(\"=========== Phim được đề xuất ===========\")\n",
        "  print(\"                                         \")\n",
        "  user_based_recommender(UserID, user_movie_df, cor_th=cor_th, score=score)"
      ]
    },
    {
      "cell_type": "code",
      "execution_count": 13,
      "metadata": {
        "colab": {
          "base_uri": "https://localhost:8080/"
        },
        "id": "hxa1N3eIRLn0",
        "outputId": "295e441b-48a3-4c07-c169-1fdb594abf00"
      },
      "outputs": [
        {
          "name": "stdout",
          "output_type": "stream",
          "text": [
            "=============== Thông tin ===============\n",
            "                                         \n",
            "Users ID: \t 1\n",
            "Score : \t 4\n",
            "cor_th: \t 0.9\n",
            "                                         \n",
            "=========== Phim được đề xuất ===========\n",
            "                                         \n",
            "Số lượng bộ phim mà người dung ID: [1] đã xem là: 198\n"
          ]
        }
      ],
      "source": [
        "# @markdown ---\n",
        "# @markdown ### Nhập dữ liệu:\n",
        "random_user = 1231 # @param {type:\"number\"}\n",
        "score = 4 # @param {type:\"slider\", min:1, max:5, step:0.5}\n",
        "cor_th = 0.9 # @param {type:\"slider\", min:0.5, max:1, step:0.1}\n",
        "if random_user == 0:\n",
        "  random_user = int(pd.Series(user_movie_df.index).sample(1).values)\n",
        "# @markdown ---\n",
        "\n",
        "ShowAnswer(UserID=1, cor_th=cor_th, score=score)"
      ]
    },
    {
      "cell_type": "code",
      "execution_count": null,
      "metadata": {
        "id": "4QMXbO1-YCal"
      },
      "outputs": [],
      "source": []
    }
  ],
  "metadata": {
    "colab": {
      "collapsed_sections": [
        "wl9c1a8vcy_-",
        "AZOcDUsN3b4Y",
        "P3T771sdNuTa"
      ],
      "provenance": []
    },
    "kernelspec": {
      "display_name": "Python 3",
      "name": "python3"
    },
    "language_info": {
      "codemirror_mode": {
        "name": "ipython",
        "version": 3
      },
      "file_extension": ".py",
      "mimetype": "text/x-python",
      "name": "python",
      "nbconvert_exporter": "python",
      "pygments_lexer": "ipython3",
      "version": "3.11.1"
    }
  },
  "nbformat": 4,
  "nbformat_minor": 0
}
