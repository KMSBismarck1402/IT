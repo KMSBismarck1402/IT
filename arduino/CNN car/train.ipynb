{
 "cells": [
  {
   "cell_type": "code",
   "execution_count": 1,
   "metadata": {},
   "outputs": [
    {
     "ename": "NameError",
     "evalue": "name 'X_train' is not defined",
     "output_type": "error",
     "traceback": [
      "\u001b[1;31m---------------------------------------------------------------------------\u001b[0m",
      "\u001b[1;31mNameError\u001b[0m                                 Traceback (most recent call last)",
      "Cell \u001b[1;32mIn[1], line 61\u001b[0m\n\u001b[0;32m     57\u001b[0m \u001b[38;5;66;03m# Training loop (you can adjust the number of epochs)\u001b[39;00m\n\u001b[0;32m     58\u001b[0m \u001b[38;5;28;01mfor\u001b[39;00m epoch \u001b[38;5;129;01min\u001b[39;00m \u001b[38;5;28mrange\u001b[39m(\u001b[38;5;241m1000\u001b[39m):\n\u001b[0;32m     59\u001b[0m     \u001b[38;5;66;03m# Assuming X_train and y_train are your input and target data\u001b[39;00m\n\u001b[0;32m     60\u001b[0m     \u001b[38;5;66;03m# Replace with your actual data\u001b[39;00m\n\u001b[1;32m---> 61\u001b[0m     forward(\u001b[43mX_train\u001b[49m)\n\u001b[0;32m     62\u001b[0m     backward(X_train, y_train)\n\u001b[0;32m     64\u001b[0m \u001b[38;5;66;03m# Export model to JSON\u001b[39;00m\n",
      "\u001b[1;31mNameError\u001b[0m: name 'X_train' is not defined"
     ]
    }
   ],
   "source": [
    "import numpy as np\n",
    "import json\n",
    "\n",
    "# Initialize weights and biases\n",
    "input_size = 5\n",
    "hidden_size = 10\n",
    "output_size = 2\n",
    "\n",
    "# Random initialization of weights and biases\n",
    "W1 = np.random.randn(input_size, hidden_size)\n",
    "b1 = np.zeros(hidden_size)\n",
    "W2 = np.random.randn(hidden_size, hidden_size)\n",
    "b2 = np.zeros(hidden_size)\n",
    "W3 = np.random.randn(hidden_size, output_size)\n",
    "b3 = np.zeros(output_size)\n",
    "\n",
    "# Sigmoid activation function\n",
    "def sigmoid(x):\n",
    "    return 1 / (1 + np.exp(-x))\n",
    "\n",
    "# Softmax activation function for output layer\n",
    "def softmax(x):\n",
    "    exp_x = np.exp(x - np.max(x))\n",
    "    return exp_x / exp_x.sum(axis=0)\n",
    "\n",
    "# Forward pass\n",
    "def forward(X):\n",
    "    Z1 = np.dot(X, W1) + b1\n",
    "    A1 = sigmoid(Z1)\n",
    "    Z2 = np.dot(A1, W2) + b2\n",
    "    A2 = sigmoid(Z2)\n",
    "    Z3 = np.dot(A2, W3) + b3\n",
    "    A3 = softmax(Z3)\n",
    "    return A3\n",
    "\n",
    "# Backpropagation\n",
    "def backward(X, y, learning_rate=0.01):\n",
    "    # Compute gradients\n",
    "    dZ3 = forward(X) - y\n",
    "    dW3 = np.dot(A2.T, dZ3)\n",
    "    db3 = np.sum(dZ3, axis=0)\n",
    "    dZ2 = np.dot(dZ3, W3.T) * A2 * (1 - A2)\n",
    "    dW2 = np.dot(A1.T, dZ2)\n",
    "    db2 = np.sum(dZ2, axis=0)\n",
    "    dZ1 = np.dot(dZ2, W2.T) * A1 * (1 - A1)\n",
    "    dW1 = np.dot(X.T, dZ1)\n",
    "    db1 = np.sum(dZ1, axis=0)\n",
    "\n",
    "    # Update weights and biases\n",
    "    W1 -= learning_rate * dW1\n",
    "    b1 -= learning_rate * db1\n",
    "    W2 -= learning_rate * dW2\n",
    "    b2 -= learning_rate * db2\n",
    "    W3 -= learning_rate * dW3\n",
    "    b3 -= learning_rate * db3\n",
    "\n",
    "# Training loop (you can adjust the number of epochs)\n",
    "for epoch in range(1000):\n",
    "    # Assuming X_train and y_train are your input and target data\n",
    "    # Replace with your actual data\n",
    "    forward(X_train)\n",
    "    backward(X_train, y_train)\n",
    "\n",
    "# Export model to JSON\n",
    "model = {\n",
    "    \"W1\": W1.tolist(),\n",
    "    \"b1\": b1.tolist(),\n",
    "    \"W2\": W2.tolist(),\n",
    "    \"b2\": b2.tolist(),\n",
    "    \"W3\": W3.tolist(),\n",
    "    \"b3\": b3.tolist()\n",
    "}\n",
    "\n",
    "with open(\"neural_network_model.json\", \"w\") as json_file:\n",
    "    json.dump(model, json_file)\n",
    "\n",
    "print(\"Model exported to neural_network_model.json\")\n"
   ]
  },
  {
   "cell_type": "code",
   "execution_count": null,
   "metadata": {},
   "outputs": [],
   "source": []
  }
 ],
 "metadata": {
  "kernelspec": {
   "display_name": "Python 3",
   "language": "python",
   "name": "python3"
  },
  "language_info": {
   "codemirror_mode": {
    "name": "ipython",
    "version": 3
   },
   "file_extension": ".py",
   "mimetype": "text/x-python",
   "name": "python",
   "nbconvert_exporter": "python",
   "pygments_lexer": "ipython3",
   "version": "3.11.1"
  }
 },
 "nbformat": 4,
 "nbformat_minor": 2
}
